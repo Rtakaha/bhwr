{
 "cells": [
  {
   "cell_type": "code",
   "execution_count": 17,
   "metadata": {},
   "outputs": [],
   "source": [
    "# np.savetxt(\"scWords.txt\", words, fmt = '%s')"
   ]
  },
  {
   "cell_type": "code",
   "execution_count": 1,
   "metadata": {},
   "outputs": [],
   "source": [
    "import os\n",
    "import openpyxl\n",
    "import numpy as np\n",
    "import pandas as pd\n",
    "import pickle"
   ]
  },
  {
   "cell_type": "code",
   "execution_count": 27,
   "metadata": {},
   "outputs": [],
   "source": [
    "def listToTxt (data, fileName):\n",
    "    data = np.array(data)\n",
    "    words = data.T\n",
    "    np.savetxt(fileName, words, fmt = '%s')"
   ]
  },
  {
   "cell_type": "code",
   "execution_count": 22,
   "metadata": {},
   "outputs": [],
   "source": [
    "data = []\n",
    "f = open(\"csv/separateCorpus/kOrder.txt\",\"rb\")\n",
    "data = pickle.load(f)\n",
    "f.close()"
   ]
  },
  {
   "cell_type": "code",
   "execution_count": 23,
   "metadata": {},
   "outputs": [],
   "source": [
    "data.tolist()\n",
    "data = [x for x in data if not x[1] == '']"
   ]
  },
  {
   "cell_type": "code",
   "execution_count": 28,
   "metadata": {},
   "outputs": [],
   "source": [
    "listToTxt(data, \"csv/separateCorpus/type.txt\")"
   ]
  },
  {
   "cell_type": "code",
   "execution_count": 24,
   "metadata": {},
   "outputs": [
    {
     "data": {
      "text/plain": [
       "[array(['13976', 'Tab'], dtype='<U21'),\n",
       " array(['1281', 'Cap'], dtype='<U21'),\n",
       " array(['321', 'Syp'], dtype='<U21'),\n",
       " array(['90', 'Saline'], dtype='<U21'),\n",
       " array(['74', 'Oint'], dtype='<U21'),\n",
       " array(['72', 'Cream'], dtype='<U21'),\n",
       " array(['13', 'Inj'], dtype='<U21'),\n",
       " array(['12', 'Nasal Drop'], dtype='<U21'),\n",
       " array(['11', 'Suppos'], dtype='<U21'),\n",
       " array(['8', 'Spray'], dtype='<U21'),\n",
       " array(['4', 'Shampoo'], dtype='<U21'),\n",
       " array(['3', 'Inhaler'], dtype='<U21'),\n",
       " array(['2', 'Gel'], dtype='<U21'),\n",
       " array(['2', '='], dtype='<U21'),\n",
       " array(['1', 'Drops'], dtype='<U21')]"
      ]
     },
     "execution_count": 24,
     "metadata": {},
     "output_type": "execute_result"
    }
   ],
   "source": [
    "data"
   ]
  },
  {
   "cell_type": "code",
   "execution_count": null,
   "metadata": {},
   "outputs": [],
   "source": []
  }
 ],
 "metadata": {
  "kernelspec": {
   "display_name": "Python 3",
   "language": "python",
   "name": "python3"
  },
  "language_info": {
   "codemirror_mode": {
    "name": "ipython",
    "version": 3
   },
   "file_extension": ".py",
   "mimetype": "text/x-python",
   "name": "python",
   "nbconvert_exporter": "python",
   "pygments_lexer": "ipython3",
   "version": "3.6.4"
  }
 },
 "nbformat": 4,
 "nbformat_minor": 2
}
