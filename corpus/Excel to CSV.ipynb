{
 "cells": [
  {
   "cell_type": "code",
   "execution_count": 3,
   "metadata": {
    "scrolled": true
   },
   "outputs": [],
   "source": [
    "import os\n",
    "import csv\n",
    "import openpyxl"
   ]
  },
  {
   "cell_type": "code",
   "execution_count": 18,
   "metadata": {},
   "outputs": [],
   "source": [
    "def xlsxToCsv():\n",
    "    # ブックを読み込みます。\n",
    "    filepath = os.path.join('data1.xlsx')\n",
    "    book = openpyxl.load_workbook(filepath, read_only=True, keep_vba=False)\n",
    "\n",
    "    dest_dir = os.path.join('csv', 'dataO')\n",
    "    os.makedirs(dest_dir, exist_ok=True)\n",
    "\n",
    "    # シートでループ\n",
    "    for sheet in book.worksheets:\n",
    "        sheet_name = sheet.title  # シート名を取得\n",
    "        dest_path = os.path.join(dest_dir, sheet_name + '.csv')\n",
    "\n",
    "        with open(dest_path, 'w', encoding='utf-8') as fp:\n",
    "            writer = csv.writer(fp)\n",
    "\n",
    "            for cols in sheet.rows:\n",
    "                writer.writerow([str(col.value or '') for col in cols])"
   ]
  },
  {
   "cell_type": "code",
   "execution_count": 19,
   "metadata": {},
   "outputs": [],
   "source": [
    "xlsxToCsv()"
   ]
  },
  {
   "cell_type": "code",
   "execution_count": null,
   "metadata": {},
   "outputs": [],
   "source": []
  }
 ],
 "metadata": {
  "kernelspec": {
   "display_name": "Python 3",
   "language": "python",
   "name": "python3"
  },
  "language_info": {
   "codemirror_mode": {
    "name": "ipython",
    "version": 3
   },
   "file_extension": ".py",
   "mimetype": "text/x-python",
   "name": "python",
   "nbconvert_exporter": "python",
   "pygments_lexer": "ipython3",
   "version": "3.6.4"
  }
 },
 "nbformat": 4,
 "nbformat_minor": 2
}
