{
 "cells": [
  {
   "cell_type": "code",
   "execution_count": 17,
   "metadata": {},
   "outputs": [],
   "source": [
    "# np.savetxt(\"scWords.txt\", words, fmt = '%s')"
   ]
  },
  {
   "cell_type": "code",
   "execution_count": 1,
   "metadata": {},
   "outputs": [],
   "source": [
    "import os\n",
    "import openpyxl\n",
    "import numpy as np\n",
    "import pandas as pd\n",
    "import pickle"
   ]
  },
  {
   "cell_type": "code",
   "execution_count": 2,
   "metadata": {},
   "outputs": [],
   "source": [
    "def listToTxt (data, fileName):\n",
    "    data = np.array(data)\n",
    "    words = data.T\n",
    "    np.savetxt(fileName, words, fmt = '%s')"
   ]
  },
  {
   "cell_type": "code",
   "execution_count": 4,
   "metadata": {},
   "outputs": [],
   "source": [
    "data = []\n",
    "f = open(\"testOrder.txt\",\"rb\")\n",
    "data = pickle.load(f)\n",
    "f.close()"
   ]
  },
  {
   "cell_type": "code",
   "execution_count": 5,
   "metadata": {},
   "outputs": [],
   "source": [
    "data.tolist()\n",
    "data = [x for x in data if not x[1] == '']"
   ]
  },
  {
   "cell_type": "code",
   "execution_count": 8,
   "metadata": {},
   "outputs": [
    {
     "data": {
      "text/plain": [
       "[array(['245', 'Fasting'], dtype='<U21'),\n",
       " array(['128', 'profile'], dtype='<U21'),\n",
       " array(['128', 'S'], dtype='<U21'),\n",
       " array(['127', 'lipid'], dtype='<U21'),\n",
       " array(['119', 'creatinine'], dtype='<U21'),\n",
       " array(['118', 'Sugar'], dtype='<U21'),\n",
       " array(['118', 'FBS'], dtype='<U21'),\n",
       " array(['118', 'Blood'], dtype='<U21'),\n",
       " array(['104', 'P/A'], dtype='<U21'),\n",
       " array(['93', 'ECG'], dtype='<U21'),\n",
       " array(['82', 'blood'], dtype='<U21'),\n",
       " array(['80', 'uric'], dtype='<U21'),\n",
       " array(['80', 'acid'], dtype='<U21'),\n",
       " array(['77', 'view'], dtype='<U21'),\n",
       " array(['69', 'hours'], dtype='<U21'),\n",
       " array(['68', 'breakfast'], dtype='<U21'),\n",
       " array(['68', 'after'], dtype='<U21'),\n",
       " array(['68', '2HABF'], dtype='<U21'),\n",
       " array(['68', '2'], dtype='<U21'),\n",
       " array(['64', 'or'], dtype='<U21'),\n",
       " array(['60', 'HbA1c'], dtype='<U21'),\n",
       " array(['57', 'R/M/E'], dtype='<U21'),\n",
       " array(['44', 'Urine'], dtype='<U21'),\n",
       " array(['41', 'of'], dtype='<U21'),\n",
       " array(['40', 'CBC'], dtype='<U21'),\n",
       " array(['38', 'USG'], dtype='<U21'),\n",
       " array(['35', 'OGTT'], dtype='<U21'),\n",
       " array(['34', 'X-ray'], dtype='<U21'),\n",
       " array(['31', 'chest'], dtype='<U21'),\n",
       " array(['31', 'XRC'], dtype='<U21'),\n",
       " array(['31', 'View'], dtype='<U21'),\n",
       " array(['31', 'CxR'], dtype='<U21'),\n",
       " array(['19', 'TSH'], dtype='<U21'),\n",
       " array(['19', 'T4'], dtype='<U21'),\n",
       " array(['19', 'T3'], dtype='<U21'),\n",
       " array(['18', 'with'], dtype='<U21'),\n",
       " array(['17', 'to'], dtype='<U21'),\n",
       " array(['17', 'special'], dtype='<U21'),\n",
       " array(['17', 'attention'], dtype='<U21'),\n",
       " array(['16', 'C/S'], dtype='<U21'),\n",
       " array(['15', 'urine'], dtype='<U21'),\n",
       " array(['15', 'Whole'], dtype='<U21'),\n",
       " array(['15', 'Abdomen'], dtype='<U21'),\n",
       " array(['14', 'lower'], dtype='<U21'),\n",
       " array(['14', 'abdomen'], dtype='<U21'),\n",
       " array(['14', 'X-RAY'], dtype='<U21'),\n",
       " array(['14', 'VIEW'], dtype='<U21'),\n",
       " array(['14', 'SPINE'], dtype='<U21'),\n",
       " array(['14', 'LUMBOSACRAL'], dtype='<U21'),\n",
       " array(['14', 'BOTH'], dtype='<U21'),\n",
       " array(['12', 'joint'], dtype='<U21'),\n",
       " array(['12', 'RBS'], dtype='<U21'),\n",
       " array(['12', 'KUB'], dtype='<U21'),\n",
       " array(['11', 'and'], dtype='<U21'),\n",
       " array(['11', 'Xray'], dtype='<U21'),\n",
       " array(['11', 'SGPT'], dtype='<U21'),\n",
       " array(['10', 'spine'], dtype='<U21'),\n",
       " array(['10', 'lumbo-sacral'], dtype='<U21'),\n",
       " array(['10', 'factor'], dtype='<U21'),\n",
       " array(['10', 'X'], dtype='<U21'),\n",
       " array(['10', 'RA'], dtype='<U21'),\n",
       " array(['8', 'uterus'], dtype='<U21'),\n",
       " array(['8', 'adenexa'], dtype='<U21'),\n",
       " array(['7', 'FT4'], dtype='<U21'),\n",
       " array(['7', 'ECHO'], dtype='<U21'),\n",
       " array(['7', 'B/V'], dtype='<U21'),\n",
       " array(['6', 'ray'], dtype='<U21'),\n",
       " array(['5', 'for'], dtype='<U21'),\n",
       " array(['5', 'WIDAL'], dtype='<U21'),\n",
       " array(['5', 'TEST'], dtype='<U21'),\n",
       " array(['5', 'ESR'], dtype='<U21'),\n",
       " array(['4', 'urea'], dtype='<U21'),\n",
       " array(['4', 'cervical'], dtype='<U21'),\n",
       " array(['4', 'X-Ray'], dtype='<U21'),\n",
       " array(['4', 'Urea'], dtype='<U21'),\n",
       " array(['4', 'Dorsolumber'], dtype='<U21'),\n",
       " array(['4', 'Bl'], dtype='<U21'),\n",
       " array(['4', 'B'], dtype='<U21'),\n",
       " array(['4', '/V'], dtype='<U21'),\n",
       " array(['4', '-ray'], dtype='<U21'),\n",
       " array(['3', 'urogenital'], dtype='<U21'),\n",
       " array(['3', 'test'], dtype='<U21'),\n",
       " array(['3', 'system'], dtype='<U21'),\n",
       " array(['3', 'electrolyte'], dtype='<U21'),\n",
       " array(['3', 'Titre'], dtype='<U21'),\n",
       " array(['3', 'Sputum'], dtype='<U21'),\n",
       " array(['3', 'MT'], dtype='<U21'),\n",
       " array(['3', 'Hb%'], dtype='<U21'),\n",
       " array(['3', 'HBS'], dtype='<U21'),\n",
       " array(['3', 'GIT'], dtype='<U21'),\n",
       " array(['3', 'Endoscopy'], dtype='<U21'),\n",
       " array(['3', 'ASO'], dtype='<U21'),\n",
       " array(['3', 'AFB'], dtype='<U21'),\n",
       " array(['2', 'rt'], dtype='<U21'),\n",
       " array(['2', 'peripheral'], dtype='<U21'),\n",
       " array(['2', 'keton'], dtype='<U21'),\n",
       " array(['2', 'film'], dtype='<U21'),\n",
       " array(['2', 'both'], dtype='<U21'),\n",
       " array(['2', 'bodies'], dtype='<U21'),\n",
       " array(['2', 'W/A'], dtype='<U21'),\n",
       " array(['2', 'PNS'], dtype='<U21'),\n",
       " array(['2', 'PBF'], dtype='<U21'),\n",
       " array(['2', 'OM'], dtype='<U21'),\n",
       " array(['2', 'Neck'], dtype='<U21'),\n",
       " array(['2', 'HBsAg'], dtype='<U21'),\n",
       " array(['2', 'CRP'], dtype='<U21'),\n",
       " array(['2', 'Bilirubin'], dtype='<U21'),\n",
       " array(['1', 'urinary'], dtype='<U21'),\n",
       " array(['1', 'total'], dtype='<U21'),\n",
       " array(['1', 'thoracolumber'], dtype='<U21'),\n",
       " array(['1', 'shoulder'], dtype='<U21'),\n",
       " array(['1', 'protien'], dtype='<U21'),\n",
       " array(['1', 'ankle'], dtype='<U21'),\n",
       " array(['1', 'Test'], dtype='<U21'),\n",
       " array(['1', 'Pregnancy'], dtype='<U21'),\n",
       " array(['1', 'PVR'], dtype='<U21'),\n",
       " array(['1', 'OF'], dtype='<U21'),\n",
       " array(['1', 'LOWER'], dtype='<U21'),\n",
       " array(['1', 'L/A'], dtype='<U21'),\n",
       " array(['1', 'Hbe'], dtype='<U21'),\n",
       " array(['1', 'HBV-DNA'], dtype='<U21'),\n",
       " array(['1', 'Anti'], dtype='<U21'),\n",
       " array(['1', 'ABDOMEN'], dtype='<U21'),\n",
       " array(['1', '24'], dtype='<U21'),\n",
       " array(['1', '/'], dtype='<U21')]"
      ]
     },
     "execution_count": 8,
     "metadata": {},
     "output_type": "execute_result"
    }
   ],
   "source": [
    "data"
   ]
  },
  {
   "cell_type": "code",
   "execution_count": 10,
   "metadata": {},
   "outputs": [],
   "source": [
    "listToTxt(data, \"txt/test.txt\")"
   ]
  },
  {
   "cell_type": "code",
   "execution_count": 24,
   "metadata": {},
   "outputs": [
    {
     "data": {
      "text/plain": [
       "[array(['13976', 'Tab'], dtype='<U21'),\n",
       " array(['1281', 'Cap'], dtype='<U21'),\n",
       " array(['321', 'Syp'], dtype='<U21'),\n",
       " array(['90', 'Saline'], dtype='<U21'),\n",
       " array(['74', 'Oint'], dtype='<U21'),\n",
       " array(['72', 'Cream'], dtype='<U21'),\n",
       " array(['13', 'Inj'], dtype='<U21'),\n",
       " array(['12', 'Nasal Drop'], dtype='<U21'),\n",
       " array(['11', 'Suppos'], dtype='<U21'),\n",
       " array(['8', 'Spray'], dtype='<U21'),\n",
       " array(['4', 'Shampoo'], dtype='<U21'),\n",
       " array(['3', 'Inhaler'], dtype='<U21'),\n",
       " array(['2', 'Gel'], dtype='<U21'),\n",
       " array(['2', '='], dtype='<U21'),\n",
       " array(['1', 'Drops'], dtype='<U21')]"
      ]
     },
     "execution_count": 24,
     "metadata": {},
     "output_type": "execute_result"
    }
   ],
   "source": [
    "data"
   ]
  },
  {
   "cell_type": "code",
   "execution_count": null,
   "metadata": {},
   "outputs": [],
   "source": []
  }
 ],
 "metadata": {
  "kernelspec": {
   "display_name": "Python 3",
   "language": "python",
   "name": "python3"
  },
  "language_info": {
   "codemirror_mode": {
    "name": "ipython",
    "version": 3
   },
   "file_extension": ".py",
   "mimetype": "text/x-python",
   "name": "python",
   "nbconvert_exporter": "python",
   "pygments_lexer": "ipython3",
   "version": "3.6.4"
  }
 },
 "nbformat": 4,
 "nbformat_minor": 2
}
