{
 "cells": [
  {
   "cell_type": "code",
   "execution_count": 1,
   "metadata": {},
   "outputs": [],
   "source": [
    "import os\n",
    "import csv\n",
    "import openpyxl\n",
    "import numpy as np\n",
    "import pandas as pd\n",
    "import pickle"
   ]
  },
  {
   "cell_type": "code",
   "execution_count": 25,
   "metadata": {},
   "outputs": [],
   "source": [
    "def toCSV(sourceFile, outputFile):\n",
    "\n",
    "    data = []\n",
    "    f = open(sourceFile, \"rb\")\n",
    "    data = pickle.load(f)\n",
    "    f.close()\n",
    "    \n",
    "    data = np.array(data)\n",
    "    np.savetxt(outputFile,data,delimiter=',',fmt='%s')"
   ]
  },
  {
   "cell_type": "code",
   "execution_count": 26,
   "metadata": {},
   "outputs": [],
   "source": [
    "toCSV(\"csv/separateCorpus/adOrderB.txt\", \"csv/separateCorpus/txt/advices/Bangla.txt\")"
   ]
  },
  {
   "cell_type": "code",
   "execution_count": 27,
   "metadata": {},
   "outputs": [],
   "source": [
    "toCSV(\"csv/separateCorpus/adOrderE.txt\", \"csv/separateCorpus/txt/advices/English.txt\")\n",
    "toCSV(\"csv/separateCorpus/adOrderO.txt\", \"csv/separateCorpus/txt/advices/other.txt\")\n",
    "\n",
    "toCSV(\"csv/separateCorpus/comOrderB.txt\", \"csv/separateCorpus/txt/drugs/comments/Bangla.txt\")\n",
    "toCSV(\"csv/separateCorpus/comOrderE.txt\", \"csv/separateCorpus/txt/drugs/comments/English.txt\")\n",
    "toCSV(\"csv/separateCorpus/comOrderO.txt\", \"csv/separateCorpus/txt/drugs/comments/other.txt\")"
   ]
  },
  {
   "cell_type": "code",
   "execution_count": 28,
   "metadata": {},
   "outputs": [],
   "source": [
    "toCSV(\"csv/separateCorpus/termOrder.txt\", \"csv/separateCorpus/txt/drugs/term.txt\")\n",
    "toCSV(\"csv/separateCorpus/timingOrder.txt\", \"csv/separateCorpus/txt/drugs/timing.txt\")\n",
    "toCSV(\"csv/separateCorpus/testOrder.txt\", \"csv/separateCorpus/txt/test.txt\")"
   ]
  },
  {
   "cell_type": "code",
   "execution_count": 29,
   "metadata": {},
   "outputs": [],
   "source": [
    "toCSV(\"csv/separateCorpus/kOrder.txt\", \"csv/separateCorpus/txt/drugs/type.txt\")\n",
    "toCSV(\"csv/separateCorpus/nOrder.txt\", \"csv/separateCorpus/txt/drugs/name.txt\")\n",
    "toCSV(\"csv/separateCorpus/dOrder.txt\", \"csv/separateCorpus/txt/drugs/dose.txt\")\n",
    "toCSV(\"csv/separateCorpus/mOrder.txt\", \"csv/separateCorpus/txt/drugs/meal.txt\")\n",
    "toCSV(\"csv/separateCorpus/sOrder.txt\", \"csv/separateCorpus/txt/symptom.txt\")"
   ]
  },
  {
   "cell_type": "code",
   "execution_count": 20,
   "metadata": {},
   "outputs": [],
   "source": [
    "data = []\n",
    "f = open(\"csv/separateCorpus/adOrder.txt\",\"rb\")\n",
    "data = pickle.load(f)\n",
    "f.close()"
   ]
  },
  {
   "cell_type": "code",
   "execution_count": 21,
   "metadata": {},
   "outputs": [],
   "source": [
    "data = np.array(data)"
   ]
  },
  {
   "cell_type": "code",
   "execution_count": 22,
   "metadata": {},
   "outputs": [
    {
     "data": {
      "text/plain": [
       "array([['4972', '1+0+1'],\n",
       "       ['3276', '0+0+1'],\n",
       "       ['2059', '1+0+0'],\n",
       "       ['1687', '1+1+1'],\n",
       "       ['1562', '0+1+0'],\n",
       "       ['1367', ''],\n",
       "       ['238', '1/2'],\n",
       "       ['226', '150 mg'],\n",
       "       ['87', '2+2+2'],\n",
       "       ['85', '0+0+1/2'],\n",
       "       ['69', '1+1+0'],\n",
       "       ['57', '200 mg'],\n",
       "       ['43', '1+0+1/2'],\n",
       "       ['28', '100 mg'],\n",
       "       ['27', '2 spoon+2 spoon+2 spoon'],\n",
       "       ['26', '25 mg'],\n",
       "       ['26', '0+1+1'],\n",
       "       ['23', '50 mg'],\n",
       "       ['22', '3 spoon'],\n",
       "       ['22', '200 IU'],\n",
       "       ['16', '1+1+1+1'],\n",
       "       ['16', '1 tea spoon'],\n",
       "       ['15', '500 mg'],\n",
       "       ['10', '400 IU'],\n",
       "       ['10', '1 gm'],\n",
       "       ['8', '75 mg'],\n",
       "       ['7', '400 mg'],\n",
       "       ['6', '300 mg'],\n",
       "       ['5', '850 mg'],\n",
       "       ['5', '100,(S'],\n",
       "       ['4', '2 puff 3 times daily'],\n",
       "       ['3', '1 spoon+ 1 spoon+ 1 spoon'],\n",
       "       ['2', '50/250 mic'],\n",
       "       ['2', '25/250 mic'],\n",
       "       ['2', '2+2+2+2'],\n",
       "       ['2', '2 spoon'],\n",
       "       ['2', '1 1/2+0+1'],\n",
       "       ['2', '0+2+0'],\n",
       "       ['1', '5 mg'],\n",
       "       ['1', '40.(S'],\n",
       "       ['1', '22'],\n",
       "       ['1', '2'],\n",
       "       ['1', '1 mg'],\n",
       "       ['1', '0+1/2+0']], dtype='<U25')"
      ]
     },
     "execution_count": 22,
     "metadata": {},
     "output_type": "execute_result"
    }
   ],
   "source": [
    "data"
   ]
  },
  {
   "cell_type": "code",
   "execution_count": 23,
   "metadata": {},
   "outputs": [],
   "source": [
    "# #csvファイルとして保存\n",
    "np.savetxt('csv/separateCorpus/txt/drugs/meal.csv',data,delimiter=',',fmt='%s')\n",
    "# np.savetxt('x.txt', arr, fmt='%s')"
   ]
  },
  {
   "cell_type": "code",
   "execution_count": null,
   "metadata": {},
   "outputs": [],
   "source": []
  }
 ],
 "metadata": {
  "kernelspec": {
   "display_name": "Python 3",
   "language": "python",
   "name": "python3"
  },
  "language_info": {
   "codemirror_mode": {
    "name": "ipython",
    "version": 3
   },
   "file_extension": ".py",
   "mimetype": "text/x-python",
   "name": "python",
   "nbconvert_exporter": "python",
   "pygments_lexer": "ipython3",
   "version": "3.6.4"
  }
 },
 "nbformat": 4,
 "nbformat_minor": 2
}
