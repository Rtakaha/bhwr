{
 "cells": [
  {
   "cell_type": "code",
   "execution_count": 2,
   "metadata": {},
   "outputs": [],
   "source": [
    "data1 = [1, 2, 3, 3, 4]"
   ]
  },
  {
   "cell_type": "code",
   "execution_count": 1,
   "metadata": {},
   "outputs": [],
   "source": [
    "import numpy as np"
   ]
  },
  {
   "cell_type": "code",
   "execution_count": 3,
   "metadata": {},
   "outputs": [],
   "source": [
    "arr1 = np.array(data1)"
   ]
  },
  {
   "cell_type": "code",
   "execution_count": 5,
   "metadata": {},
   "outputs": [
    {
     "data": {
      "text/plain": [
       "array([1, 2, 3, 3, 4])"
      ]
     },
     "execution_count": 5,
     "metadata": {},
     "output_type": "execute_result"
    }
   ],
   "source": [
    "arr1"
   ]
  },
  {
   "cell_type": "code",
   "execution_count": 7,
   "metadata": {},
   "outputs": [],
   "source": [
    "import numpy as np"
   ]
  },
  {
   "cell_type": "code",
   "execution_count": 8,
   "metadata": {},
   "outputs": [],
   "source": [
    "data2 = [[1,2,3,4], [5,6,7,8]]"
   ]
  },
  {
   "cell_type": "code",
   "execution_count": 9,
   "metadata": {},
   "outputs": [],
   "source": [
    "arr2 = np.array(data2)"
   ]
  },
  {
   "cell_type": "markdown",
   "metadata": {},
   "source": [
    "## "
   ]
  },
  {
   "cell_type": "code",
   "execution_count": 11,
   "metadata": {},
   "outputs": [
    {
     "data": {
      "text/plain": [
       "array([[1, 2, 3, 4],\n",
       "       [5, 6, 7, 8]])"
      ]
     },
     "execution_count": 11,
     "metadata": {},
     "output_type": "execute_result"
    }
   ],
   "source": [
    "arr2"
   ]
  },
  {
   "cell_type": "code",
   "execution_count": 12,
   "metadata": {},
   "outputs": [
    {
     "data": {
      "text/plain": [
       "2"
      ]
     },
     "execution_count": 12,
     "metadata": {},
     "output_type": "execute_result"
    }
   ],
   "source": [
    "arr2.ndim"
   ]
  },
  {
   "cell_type": "code",
   "execution_count": 13,
   "metadata": {},
   "outputs": [
    {
     "data": {
      "text/plain": [
       "(2, 4)"
      ]
     },
     "execution_count": 13,
     "metadata": {},
     "output_type": "execute_result"
    }
   ],
   "source": [
    "arr2.shape"
   ]
  },
  {
   "cell_type": "code",
   "execution_count": 14,
   "metadata": {},
   "outputs": [
    {
     "data": {
      "text/plain": [
       "dtype('int64')"
      ]
     },
     "execution_count": 14,
     "metadata": {},
     "output_type": "execute_result"
    }
   ],
   "source": [
    "arr1.dtype\n"
   ]
  },
  {
   "cell_type": "code",
   "execution_count": 15,
   "metadata": {},
   "outputs": [
    {
     "data": {
      "text/plain": [
       "dtype('int64')"
      ]
     },
     "execution_count": 15,
     "metadata": {},
     "output_type": "execute_result"
    }
   ],
   "source": [
    "arr2.dtype"
   ]
  },
  {
   "cell_type": "code",
   "execution_count": 16,
   "metadata": {},
   "outputs": [
    {
     "data": {
      "text/plain": [
       "array([0., 0., 0., 0., 0., 0., 0., 0., 0., 0.])"
      ]
     },
     "execution_count": 16,
     "metadata": {},
     "output_type": "execute_result"
    }
   ],
   "source": [
    "np.zeros(10)"
   ]
  },
  {
   "cell_type": "code",
   "execution_count": 18,
   "metadata": {},
   "outputs": [
    {
     "data": {
      "text/plain": [
       "array([[0., 0., 0., 0., 0., 0.],\n",
       "       [0., 0., 0., 0., 0., 0.],\n",
       "       [0., 0., 0., 0., 0., 0.]])"
      ]
     },
     "execution_count": 18,
     "metadata": {},
     "output_type": "execute_result"
    }
   ],
   "source": [
    "np.zeros((3, 6))"
   ]
  },
  {
   "cell_type": "code",
   "execution_count": 19,
   "metadata": {},
   "outputs": [
    {
     "data": {
      "text/plain": [
       "array([[[-2.68156159e+154, -1.73059528e-077],\n",
       "        [ 2.96439388e-323,  0.00000000e+000],\n",
       "        [ 0.00000000e+000,  4.47032019e-038]],\n",
       "\n",
       "       [[ 7.12179516e-091,  1.18860054e-075],\n",
       "        [ 1.00525667e-047,  2.49073228e+180],\n",
       "        [ 3.99910963e+252,  9.02413144e-309]]])"
      ]
     },
     "execution_count": 19,
     "metadata": {},
     "output_type": "execute_result"
    }
   ],
   "source": [
    "np.empty((2, 3, 2))"
   ]
  },
  {
   "cell_type": "code",
   "execution_count": 21,
   "metadata": {},
   "outputs": [
    {
     "data": {
      "text/plain": [
       "array([ 0,  1,  2,  3,  4,  5,  6,  7,  8,  9, 10, 11, 12, 13, 14])"
      ]
     },
     "execution_count": 21,
     "metadata": {},
     "output_type": "execute_result"
    }
   ],
   "source": [
    "np.arange(15)"
   ]
  },
  {
   "cell_type": "code",
   "execution_count": 26,
   "metadata": {},
   "outputs": [],
   "source": [
    "arr = np.array([1,2,3,4,5], dtype=np.int64)"
   ]
  },
  {
   "cell_type": "code",
   "execution_count": 27,
   "metadata": {},
   "outputs": [
    {
     "data": {
      "text/plain": [
       "dtype('int64')"
      ]
     },
     "execution_count": 27,
     "metadata": {},
     "output_type": "execute_result"
    }
   ],
   "source": [
    "arr.dtype"
   ]
  },
  {
   "cell_type": "code",
   "execution_count": 28,
   "metadata": {},
   "outputs": [],
   "source": [
    "float_arr = arr.astype(np.float64)"
   ]
  },
  {
   "cell_type": "code",
   "execution_count": 29,
   "metadata": {},
   "outputs": [
    {
     "data": {
      "text/plain": [
       "dtype('float64')"
      ]
     },
     "execution_count": 29,
     "metadata": {},
     "output_type": "execute_result"
    }
   ],
   "source": [
    "float_arr.dtype"
   ]
  },
  {
   "cell_type": "raw",
   "metadata": {},
   "source": []
  },
  {
   "cell_type": "code",
   "execution_count": 30,
   "metadata": {},
   "outputs": [],
   "source": [
    "arr = np.array([1.1, 2, -3.44, 10.1])"
   ]
  },
  {
   "cell_type": "code",
   "execution_count": 31,
   "metadata": {},
   "outputs": [
    {
     "data": {
      "text/plain": [
       "array([ 1.1 ,  2.  , -3.44, 10.1 ])"
      ]
     },
     "execution_count": 31,
     "metadata": {},
     "output_type": "execute_result"
    }
   ],
   "source": [
    "arr"
   ]
  },
  {
   "cell_type": "code",
   "execution_count": 32,
   "metadata": {},
   "outputs": [
    {
     "data": {
      "text/plain": [
       "array([ 1,  2, -3, 10], dtype=int32)"
      ]
     },
     "execution_count": 32,
     "metadata": {},
     "output_type": "execute_result"
    }
   ],
   "source": [
    "arr.astype(np.int32)"
   ]
  },
  {
   "cell_type": "code",
   "execution_count": 33,
   "metadata": {},
   "outputs": [
    {
     "data": {
      "text/plain": [
       "array([ 1.1 ,  2.  , -3.44, 10.1 ])"
      ]
     },
     "execution_count": 33,
     "metadata": {},
     "output_type": "execute_result"
    }
   ],
   "source": [
    "arr.astype(float)"
   ]
  },
  {
   "cell_type": "code",
   "execution_count": 34,
   "metadata": {},
   "outputs": [
    {
     "data": {
      "text/plain": [
       "array([ 1,  2, -3, 10])"
      ]
     },
     "execution_count": 34,
     "metadata": {},
     "output_type": "execute_result"
    }
   ],
   "source": [
    "arr.astype(int)"
   ]
  },
  {
   "cell_type": "code",
   "execution_count": 35,
   "metadata": {},
   "outputs": [
    {
     "ename": "NameError",
     "evalue": "name 'S' is not defined",
     "output_type": "error",
     "traceback": [
      "\u001b[0;31m---------------------------------------------------------------------------\u001b[0m",
      "\u001b[0;31mNameError\u001b[0m                                 Traceback (most recent call last)",
      "\u001b[0;32m<ipython-input-35-7bfcc062de49>\u001b[0m in \u001b[0;36m<module>\u001b[0;34m()\u001b[0m\n\u001b[0;32m----> 1\u001b[0;31m \u001b[0marr\u001b[0m\u001b[0;34m.\u001b[0m\u001b[0mastype\u001b[0m\u001b[0;34m(\u001b[0m\u001b[0mS\u001b[0m\u001b[0;34m)\u001b[0m\u001b[0;34m\u001b[0m\u001b[0m\n\u001b[0m",
      "\u001b[0;31mNameError\u001b[0m: name 'S' is not defined"
     ]
    }
   ],
   "source": [
    "arr.astype(S)"
   ]
  },
  {
   "cell_type": "code",
   "execution_count": 37,
   "metadata": {},
   "outputs": [
    {
     "data": {
      "text/plain": [
       "array([b'1.1', b'2.0', b'-3.44', b'10.1'], dtype='|S32')"
      ]
     },
     "execution_count": 37,
     "metadata": {},
     "output_type": "execute_result"
    }
   ],
   "source": [
    "arr.astype(np.string_)"
   ]
  },
  {
   "cell_type": "code",
   "execution_count": 38,
   "metadata": {},
   "outputs": [
    {
     "data": {
      "text/plain": [
       "array([ 1,  2, -3, 10])"
      ]
     },
     "execution_count": 38,
     "metadata": {},
     "output_type": "execute_result"
    }
   ],
   "source": [
    "arr.astype(int)"
   ]
  },
  {
   "cell_type": "code",
   "execution_count": 39,
   "metadata": {},
   "outputs": [],
   "source": [
    "int_array = np.arange(10)"
   ]
  },
  {
   "cell_type": "code",
   "execution_count": 40,
   "metadata": {},
   "outputs": [],
   "source": [
    "calibers = np.array([.22, .255, .33], dtype=np.float64)"
   ]
  },
  {
   "cell_type": "code",
   "execution_count": 41,
   "metadata": {},
   "outputs": [],
   "source": [
    "int_array.dtype=calibers.dtype"
   ]
  },
  {
   "cell_type": "code",
   "execution_count": 42,
   "metadata": {},
   "outputs": [
    {
     "data": {
      "text/plain": [
       "dtype('float64')"
      ]
     },
     "execution_count": 42,
     "metadata": {},
     "output_type": "execute_result"
    }
   ],
   "source": [
    "int_array.dtype"
   ]
  },
  {
   "cell_type": "code",
   "execution_count": 43,
   "metadata": {},
   "outputs": [
    {
     "data": {
      "text/plain": [
       "array([0.0e+000, 4.9e-324, 9.9e-324, 1.5e-323, 2.0e-323, 2.5e-323,\n",
       "       3.0e-323, 3.5e-323, 4.0e-323, 4.4e-323])"
      ]
     },
     "execution_count": 43,
     "metadata": {},
     "output_type": "execute_result"
    }
   ],
   "source": [
    "int_array"
   ]
  },
  {
   "cell_type": "code",
   "execution_count": 44,
   "metadata": {},
   "outputs": [],
   "source": [
    "int_array=np.arange(10)"
   ]
  },
  {
   "cell_type": "code",
   "execution_count": 45,
   "metadata": {},
   "outputs": [
    {
     "data": {
      "text/plain": [
       "array([0, 1, 2, 3, 4, 5, 6, 7, 8, 9])"
      ]
     },
     "execution_count": 45,
     "metadata": {},
     "output_type": "execute_result"
    }
   ],
   "source": [
    "int_array"
   ]
  },
  {
   "cell_type": "code",
   "execution_count": 46,
   "metadata": {},
   "outputs": [
    {
     "data": {
      "text/plain": [
       "array([0., 1., 2., 3., 4., 5., 6., 7., 8., 9.])"
      ]
     },
     "execution_count": 46,
     "metadata": {},
     "output_type": "execute_result"
    }
   ],
   "source": [
    "int_array.astype(calibers.dtype)"
   ]
  },
  {
   "cell_type": "code",
   "execution_count": 47,
   "metadata": {},
   "outputs": [],
   "source": [
    "arr = np.array([[1.,2.,3.], [4.,5.,6.]])"
   ]
  },
  {
   "cell_type": "code",
   "execution_count": 48,
   "metadata": {},
   "outputs": [
    {
     "data": {
      "text/plain": [
       "array([[1., 2., 3.],\n",
       "       [4., 5., 6.]])"
      ]
     },
     "execution_count": 48,
     "metadata": {},
     "output_type": "execute_result"
    }
   ],
   "source": [
    "arr"
   ]
  },
  {
   "cell_type": "code",
   "execution_count": 49,
   "metadata": {},
   "outputs": [
    {
     "data": {
      "text/plain": [
       "array([[ 1.,  4.,  9.],\n",
       "       [16., 25., 36.]])"
      ]
     },
     "execution_count": 49,
     "metadata": {},
     "output_type": "execute_result"
    }
   ],
   "source": [
    "arr*arr"
   ]
  },
  {
   "cell_type": "code",
   "execution_count": 50,
   "metadata": {},
   "outputs": [
    {
     "data": {
      "text/plain": [
       "array([[0., 0., 0.],\n",
       "       [0., 0., 0.]])"
      ]
     },
     "execution_count": 50,
     "metadata": {},
     "output_type": "execute_result"
    }
   ],
   "source": [
    "arr-arr"
   ]
  },
  {
   "cell_type": "code",
   "execution_count": 51,
   "metadata": {},
   "outputs": [
    {
     "data": {
      "text/plain": [
       "array([[ 2.,  4.,  6.],\n",
       "       [ 8., 10., 12.]])"
      ]
     },
     "execution_count": 51,
     "metadata": {},
     "output_type": "execute_result"
    }
   ],
   "source": [
    "arr+arr"
   ]
  },
  {
   "cell_type": "code",
   "execution_count": 52,
   "metadata": {},
   "outputs": [
    {
     "data": {
      "text/plain": [
       "array([[1.        , 0.5       , 0.33333333],\n",
       "       [0.25      , 0.2       , 0.16666667]])"
      ]
     },
     "execution_count": 52,
     "metadata": {},
     "output_type": "execute_result"
    }
   ],
   "source": [
    "1/arr"
   ]
  },
  {
   "cell_type": "code",
   "execution_count": 53,
   "metadata": {},
   "outputs": [
    {
     "data": {
      "text/plain": [
       "array([[1.        , 1.41421356, 1.73205081],\n",
       "       [2.        , 2.23606798, 2.44948974]])"
      ]
     },
     "execution_count": 53,
     "metadata": {},
     "output_type": "execute_result"
    }
   ],
   "source": [
    "arr**0.5"
   ]
  },
  {
   "cell_type": "code",
   "execution_count": 54,
   "metadata": {},
   "outputs": [],
   "source": [
    "arr = np.arange(10)"
   ]
  },
  {
   "cell_type": "code",
   "execution_count": 55,
   "metadata": {},
   "outputs": [
    {
     "data": {
      "text/plain": [
       "array([0, 1, 2, 3, 4, 5, 6, 7, 8, 9])"
      ]
     },
     "execution_count": 55,
     "metadata": {},
     "output_type": "execute_result"
    }
   ],
   "source": [
    "arr"
   ]
  },
  {
   "cell_type": "code",
   "execution_count": 56,
   "metadata": {},
   "outputs": [
    {
     "data": {
      "text/plain": [
       "5"
      ]
     },
     "execution_count": 56,
     "metadata": {},
     "output_type": "execute_result"
    }
   ],
   "source": [
    "arr[5]"
   ]
  },
  {
   "cell_type": "code",
   "execution_count": 57,
   "metadata": {},
   "outputs": [
    {
     "data": {
      "text/plain": [
       "array([5, 6, 7])"
      ]
     },
     "execution_count": 57,
     "metadata": {},
     "output_type": "execute_result"
    }
   ],
   "source": [
    "arr[5:8]"
   ]
  },
  {
   "cell_type": "code",
   "execution_count": 58,
   "metadata": {},
   "outputs": [],
   "source": [
    "arr[5:8] = 12"
   ]
  },
  {
   "cell_type": "code",
   "execution_count": 59,
   "metadata": {},
   "outputs": [
    {
     "data": {
      "text/plain": [
       "array([ 0,  1,  2,  3,  4, 12, 12, 12,  8,  9])"
      ]
     },
     "execution_count": 59,
     "metadata": {},
     "output_type": "execute_result"
    }
   ],
   "source": [
    "arr"
   ]
  },
  {
   "cell_type": "code",
   "execution_count": 60,
   "metadata": {},
   "outputs": [],
   "source": [
    "arr_slice = arr[5:8]"
   ]
  },
  {
   "cell_type": "code",
   "execution_count": 61,
   "metadata": {},
   "outputs": [
    {
     "data": {
      "text/plain": [
       "array([12, 12, 12])"
      ]
     },
     "execution_count": 61,
     "metadata": {},
     "output_type": "execute_result"
    }
   ],
   "source": [
    "arr_slice"
   ]
  },
  {
   "cell_type": "code",
   "execution_count": 62,
   "metadata": {},
   "outputs": [],
   "source": [
    "arr_slice[1]=12345"
   ]
  },
  {
   "cell_type": "code",
   "execution_count": 63,
   "metadata": {},
   "outputs": [
    {
     "data": {
      "text/plain": [
       "array([    0,     1,     2,     3,     4,    12, 12345,    12,     8,\n",
       "           9])"
      ]
     },
     "execution_count": 63,
     "metadata": {},
     "output_type": "execute_result"
    }
   ],
   "source": [
    "arr"
   ]
  },
  {
   "cell_type": "code",
   "execution_count": 64,
   "metadata": {},
   "outputs": [],
   "source": [
    "arr_slice[:]=64"
   ]
  },
  {
   "cell_type": "code",
   "execution_count": 65,
   "metadata": {},
   "outputs": [
    {
     "data": {
      "text/plain": [
       "array([ 0,  1,  2,  3,  4, 64, 64, 64,  8,  9])"
      ]
     },
     "execution_count": 65,
     "metadata": {},
     "output_type": "execute_result"
    }
   ],
   "source": [
    "arr"
   ]
  },
  {
   "cell_type": "code",
   "execution_count": 66,
   "metadata": {},
   "outputs": [],
   "source": [
    "arr_slice=64"
   ]
  },
  {
   "cell_type": "code",
   "execution_count": 67,
   "metadata": {},
   "outputs": [
    {
     "data": {
      "text/plain": [
       "array([ 0,  1,  2,  3,  4, 64, 64, 64,  8,  9])"
      ]
     },
     "execution_count": 67,
     "metadata": {},
     "output_type": "execute_result"
    }
   ],
   "source": [
    "arr"
   ]
  },
  {
   "cell_type": "code",
   "execution_count": 68,
   "metadata": {},
   "outputs": [],
   "source": [
    "arr_slice=2"
   ]
  },
  {
   "cell_type": "code",
   "execution_count": 69,
   "metadata": {},
   "outputs": [
    {
     "data": {
      "text/plain": [
       "array([ 0,  1,  2,  3,  4, 64, 64, 64,  8,  9])"
      ]
     },
     "execution_count": 69,
     "metadata": {},
     "output_type": "execute_result"
    }
   ],
   "source": [
    "arr"
   ]
  },
  {
   "cell_type": "code",
   "execution_count": 70,
   "metadata": {},
   "outputs": [
    {
     "data": {
      "text/plain": [
       "array([ 1,  2,  3,  4, 64])"
      ]
     },
     "execution_count": 70,
     "metadata": {},
     "output_type": "execute_result"
    }
   ],
   "source": [
    "arr[1:6]"
   ]
  },
  {
   "cell_type": "code",
   "execution_count": 71,
   "metadata": {},
   "outputs": [],
   "source": [
    "arr2d=np.array([[1,2,3], [4,5,6], [7,8,9]])"
   ]
  },
  {
   "cell_type": "code",
   "execution_count": 72,
   "metadata": {},
   "outputs": [
    {
     "data": {
      "text/plain": [
       "array([[1, 2, 3],\n",
       "       [4, 5, 6],\n",
       "       [7, 8, 9]])"
      ]
     },
     "execution_count": 72,
     "metadata": {},
     "output_type": "execute_result"
    }
   ],
   "source": [
    "arr2d"
   ]
  },
  {
   "cell_type": "code",
   "execution_count": 73,
   "metadata": {},
   "outputs": [
    {
     "data": {
      "text/plain": [
       "array([7, 8, 9])"
      ]
     },
     "execution_count": 73,
     "metadata": {},
     "output_type": "execute_result"
    }
   ],
   "source": [
    "arr2d[2]"
   ]
  },
  {
   "cell_type": "code",
   "execution_count": 74,
   "metadata": {},
   "outputs": [
    {
     "data": {
      "text/plain": [
       "array([[1, 2, 3],\n",
       "       [4, 5, 6]])"
      ]
     },
     "execution_count": 74,
     "metadata": {},
     "output_type": "execute_result"
    }
   ],
   "source": [
    "arr2d[:2]"
   ]
  },
  {
   "cell_type": "code",
   "execution_count": 75,
   "metadata": {},
   "outputs": [
    {
     "data": {
      "text/plain": [
       "array([[1, 2, 3],\n",
       "       [4, 5, 6]])"
      ]
     },
     "execution_count": 75,
     "metadata": {},
     "output_type": "execute_result"
    }
   ],
   "source": [
    "arr2d[0:2]"
   ]
  },
  {
   "cell_type": "code",
   "execution_count": 76,
   "metadata": {},
   "outputs": [
    {
     "data": {
      "text/plain": [
       "array([4, 5, 6])"
      ]
     },
     "execution_count": 76,
     "metadata": {},
     "output_type": "execute_result"
    }
   ],
   "source": [
    "arr2d[1]"
   ]
  },
  {
   "cell_type": "code",
   "execution_count": 77,
   "metadata": {},
   "outputs": [
    {
     "data": {
      "text/plain": [
       "array([[2, 3],\n",
       "       [5, 6]])"
      ]
     },
     "execution_count": 77,
     "metadata": {},
     "output_type": "execute_result"
    }
   ],
   "source": [
    "arr2d[:2, 1:]"
   ]
  },
  {
   "cell_type": "code",
   "execution_count": 78,
   "metadata": {},
   "outputs": [],
   "source": [
    "names=np.array(['Bob', 'Joe', 'Will', 'Bob', 'Will', 'Joe', 'Joe'])"
   ]
  },
  {
   "cell_type": "code",
   "execution_count": 79,
   "metadata": {},
   "outputs": [
    {
     "ename": "NameError",
     "evalue": "name 'randn' is not defined",
     "output_type": "error",
     "traceback": [
      "\u001b[0;31m---------------------------------------------------------------------------\u001b[0m",
      "\u001b[0;31mNameError\u001b[0m                                 Traceback (most recent call last)",
      "\u001b[0;32m<ipython-input-79-15eef69c171a>\u001b[0m in \u001b[0;36m<module>\u001b[0;34m()\u001b[0m\n\u001b[0;32m----> 1\u001b[0;31m \u001b[0mdata\u001b[0m \u001b[0;34m=\u001b[0m \u001b[0mrandn\u001b[0m\u001b[0;34m(\u001b[0m\u001b[0;36m7\u001b[0m\u001b[0;34m,\u001b[0m \u001b[0;36m4\u001b[0m\u001b[0;34m)\u001b[0m\u001b[0;34m\u001b[0m\u001b[0m\n\u001b[0m",
      "\u001b[0;31mNameError\u001b[0m: name 'randn' is not defined"
     ]
    }
   ],
   "source": [
    "data = randn(7, 4)"
   ]
  },
  {
   "cell_type": "code",
   "execution_count": 80,
   "metadata": {},
   "outputs": [],
   "source": [
    "data=np.random.randn(7, 4)"
   ]
  },
  {
   "cell_type": "code",
   "execution_count": 81,
   "metadata": {},
   "outputs": [
    {
     "data": {
      "text/plain": [
       "array(['Bob', 'Joe', 'Will', 'Bob', 'Will', 'Joe', 'Joe'], dtype='<U4')"
      ]
     },
     "execution_count": 81,
     "metadata": {},
     "output_type": "execute_result"
    }
   ],
   "source": [
    "names"
   ]
  },
  {
   "cell_type": "code",
   "execution_count": 82,
   "metadata": {},
   "outputs": [
    {
     "data": {
      "text/plain": [
       "array([[ 0.81882384,  0.24277236, -1.10805191,  0.96123631],\n",
       "       [-1.00545605, -0.32674246,  0.31490314, -0.88338902],\n",
       "       [ 0.28819615, -0.37650415,  1.51593776, -0.34397271],\n",
       "       [-1.16749178,  1.59322559,  1.66784611,  1.16061619],\n",
       "       [-1.10398109, -0.08261476, -0.40646273, -0.76027859],\n",
       "       [ 0.18145702, -0.31206451,  1.05466743, -1.97267233],\n",
       "       [-1.89880216,  0.12456505, -0.83115866,  1.4913177 ]])"
      ]
     },
     "execution_count": 82,
     "metadata": {},
     "output_type": "execute_result"
    }
   ],
   "source": [
    "data"
   ]
  },
  {
   "cell_type": "code",
   "execution_count": 83,
   "metadata": {},
   "outputs": [
    {
     "data": {
      "text/plain": [
       "array([ True, False, False,  True, False, False, False])"
      ]
     },
     "execution_count": 83,
     "metadata": {},
     "output_type": "execute_result"
    }
   ],
   "source": [
    "names=='Bob'"
   ]
  },
  {
   "cell_type": "code",
   "execution_count": 84,
   "metadata": {},
   "outputs": [
    {
     "data": {
      "text/plain": [
       "array([False, False,  True, False,  True, False, False])"
      ]
     },
     "execution_count": 84,
     "metadata": {},
     "output_type": "execute_result"
    }
   ],
   "source": [
    "names=='Will'"
   ]
  },
  {
   "cell_type": "code",
   "execution_count": 85,
   "metadata": {},
   "outputs": [
    {
     "data": {
      "text/plain": [
       "array([[ 0.28819615, -0.37650415,  1.51593776, -0.34397271],\n",
       "       [-1.10398109, -0.08261476, -0.40646273, -0.76027859]])"
      ]
     },
     "execution_count": 85,
     "metadata": {},
     "output_type": "execute_result"
    }
   ],
   "source": [
    "data[names=='Will']"
   ]
  },
  {
   "cell_type": "code",
   "execution_count": 86,
   "metadata": {},
   "outputs": [
    {
     "data": {
      "text/plain": [
       "array([], shape=(0, 4), dtype=float64)"
      ]
     },
     "execution_count": 86,
     "metadata": {},
     "output_type": "execute_result"
    }
   ],
   "source": [
    "data[names=='a']"
   ]
  },
  {
   "cell_type": "code",
   "execution_count": 87,
   "metadata": {},
   "outputs": [],
   "source": [
    "mask = (names=='Bob')|(names=='Will')"
   ]
  },
  {
   "cell_type": "code",
   "execution_count": 88,
   "metadata": {},
   "outputs": [
    {
     "data": {
      "text/plain": [
       "array([ True, False,  True,  True,  True, False, False])"
      ]
     },
     "execution_count": 88,
     "metadata": {},
     "output_type": "execute_result"
    }
   ],
   "source": [
    "mask"
   ]
  },
  {
   "cell_type": "code",
   "execution_count": 89,
   "metadata": {},
   "outputs": [],
   "source": [
    "data[data<0]=0"
   ]
  },
  {
   "cell_type": "code",
   "execution_count": 90,
   "metadata": {},
   "outputs": [
    {
     "data": {
      "text/plain": [
       "array([[0.81882384, 0.24277236, 0.        , 0.96123631],\n",
       "       [0.        , 0.        , 0.31490314, 0.        ],\n",
       "       [0.28819615, 0.        , 1.51593776, 0.        ],\n",
       "       [0.        , 1.59322559, 1.66784611, 1.16061619],\n",
       "       [0.        , 0.        , 0.        , 0.        ],\n",
       "       [0.18145702, 0.        , 1.05466743, 0.        ],\n",
       "       [0.        , 0.12456505, 0.        , 1.4913177 ]])"
      ]
     },
     "execution_count": 90,
     "metadata": {},
     "output_type": "execute_result"
    }
   ],
   "source": [
    "data"
   ]
  },
  {
   "cell_type": "code",
   "execution_count": 91,
   "metadata": {},
   "outputs": [
    {
     "ename": "TypeError",
     "evalue": "data type not understood",
     "output_type": "error",
     "traceback": [
      "\u001b[0;31m---------------------------------------------------------------------------\u001b[0m",
      "\u001b[0;31mTypeError\u001b[0m                                 Traceback (most recent call last)",
      "\u001b[0;32m<ipython-input-91-6acdf7edbcb3>\u001b[0m in \u001b[0;36m<module>\u001b[0;34m()\u001b[0m\n\u001b[0;32m----> 1\u001b[0;31m \u001b[0marr\u001b[0m \u001b[0;34m=\u001b[0m \u001b[0mnp\u001b[0m\u001b[0;34m.\u001b[0m\u001b[0mempty\u001b[0m\u001b[0;34m(\u001b[0m\u001b[0;36m8\u001b[0m\u001b[0;34m,\u001b[0m\u001b[0;36m4\u001b[0m\u001b[0;34m)\u001b[0m\u001b[0;34m\u001b[0m\u001b[0m\n\u001b[0m",
      "\u001b[0;31mTypeError\u001b[0m: data type not understood"
     ]
    }
   ],
   "source": [
    "arr = np.empty(8,4)"
   ]
  },
  {
   "cell_type": "code",
   "execution_count": 92,
   "metadata": {},
   "outputs": [],
   "source": [
    "arr=np.empty((8,4))"
   ]
  },
  {
   "cell_type": "code",
   "execution_count": 93,
   "metadata": {},
   "outputs": [
    {
     "data": {
      "text/plain": [
       "array([[-2.68156159e+154, -2.68156159e+154,  1.03753786e-322,\n",
       "         0.00000000e+000],\n",
       "       [ 0.00000000e+000,  0.00000000e+000,  0.00000000e+000,\n",
       "         0.00000000e+000],\n",
       "       [ 0.00000000e+000,  0.00000000e+000,  0.00000000e+000,\n",
       "         0.00000000e+000],\n",
       "       [ 0.00000000e+000,  0.00000000e+000,  0.00000000e+000,\n",
       "         0.00000000e+000],\n",
       "       [ 0.00000000e+000,  2.13913975e-314,  2.13932916e-314,\n",
       "         2.13913975e-314],\n",
       "       [ 2.13918941e-314,  2.15990752e-314,  2.13932907e-314,\n",
       "         2.13913975e-314],\n",
       "       [ 2.13913977e-314,  2.15162401e-314,  2.15163423e-314,\n",
       "         2.15163423e-314],\n",
       "       [ 2.15999106e-314, -9.30176135e+035,  0.00000000e+000,\n",
       "         0.00000000e+000]])"
      ]
     },
     "execution_count": 93,
     "metadata": {},
     "output_type": "execute_result"
    }
   ],
   "source": [
    "arr"
   ]
  },
  {
   "cell_type": "code",
   "execution_count": 94,
   "metadata": {},
   "outputs": [],
   "source": [
    "for i in range(8):\n",
    "    arr[i]=i"
   ]
  },
  {
   "cell_type": "code",
   "execution_count": 95,
   "metadata": {},
   "outputs": [
    {
     "data": {
      "text/plain": [
       "array([[0., 0., 0., 0.],\n",
       "       [1., 1., 1., 1.],\n",
       "       [2., 2., 2., 2.],\n",
       "       [3., 3., 3., 3.],\n",
       "       [4., 4., 4., 4.],\n",
       "       [5., 5., 5., 5.],\n",
       "       [6., 6., 6., 6.],\n",
       "       [7., 7., 7., 7.]])"
      ]
     },
     "execution_count": 95,
     "metadata": {},
     "output_type": "execute_result"
    }
   ],
   "source": [
    "arr"
   ]
  },
  {
   "cell_type": "code",
   "execution_count": 96,
   "metadata": {},
   "outputs": [
    {
     "ename": "SyntaxError",
     "evalue": "unexpected EOF while parsing (<ipython-input-96-d6fbdae1e1c2>, line 1)",
     "output_type": "error",
     "traceback": [
      "\u001b[0;36m  File \u001b[0;32m\"<ipython-input-96-d6fbdae1e1c2>\"\u001b[0;36m, line \u001b[0;32m1\u001b[0m\n\u001b[0;31m    for i in range(32):\u001b[0m\n\u001b[0m                       ^\u001b[0m\n\u001b[0;31mSyntaxError\u001b[0m\u001b[0;31m:\u001b[0m unexpected EOF while parsing\n"
     ]
    }
   ],
   "source": [
    "for i in range(32):"
   ]
  },
  {
   "cell_type": "code",
   "execution_count": 97,
   "metadata": {},
   "outputs": [
    {
     "data": {
      "text/plain": [
       "array([1., 1., 1., 1.])"
      ]
     },
     "execution_count": 97,
     "metadata": {},
     "output_type": "execute_result"
    }
   ],
   "source": [
    "arr[1]"
   ]
  },
  {
   "cell_type": "code",
   "execution_count": 98,
   "metadata": {},
   "outputs": [
    {
     "ename": "IndexError",
     "evalue": "too many indices for array",
     "output_type": "error",
     "traceback": [
      "\u001b[0;31m---------------------------------------------------------------------------\u001b[0m",
      "\u001b[0;31mIndexError\u001b[0m                                Traceback (most recent call last)",
      "\u001b[0;32m<ipython-input-98-e17a30aad85c>\u001b[0m in \u001b[0;36m<module>\u001b[0;34m()\u001b[0m\n\u001b[0;32m----> 1\u001b[0;31m \u001b[0marr\u001b[0m\u001b[0;34m[\u001b[0m\u001b[0;36m4\u001b[0m\u001b[0;34m,\u001b[0m\u001b[0;36m3\u001b[0m\u001b[0;34m,\u001b[0m\u001b[0;36m0\u001b[0m\u001b[0;34m,\u001b[0m\u001b[0;36m6\u001b[0m\u001b[0;34m]\u001b[0m\u001b[0;34m\u001b[0m\u001b[0m\n\u001b[0m",
      "\u001b[0;31mIndexError\u001b[0m: too many indices for array"
     ]
    }
   ],
   "source": [
    "arr[4,3,0,6]"
   ]
  },
  {
   "cell_type": "code",
   "execution_count": 99,
   "metadata": {},
   "outputs": [
    {
     "data": {
      "text/plain": [
       "array([[4., 4., 4., 4.],\n",
       "       [3., 3., 3., 3.],\n",
       "       [0., 0., 0., 0.],\n",
       "       [6., 6., 6., 6.]])"
      ]
     },
     "execution_count": 99,
     "metadata": {},
     "output_type": "execute_result"
    }
   ],
   "source": [
    "arr[[4,3,0,6]]"
   ]
  },
  {
   "cell_type": "code",
   "execution_count": 100,
   "metadata": {},
   "outputs": [
    {
     "data": {
      "text/plain": [
       "array([5., 5., 5., 5.])"
      ]
     },
     "execution_count": 100,
     "metadata": {},
     "output_type": "execute_result"
    }
   ],
   "source": [
    "arr[-3]"
   ]
  },
  {
   "cell_type": "code",
   "execution_count": 101,
   "metadata": {},
   "outputs": [
    {
     "data": {
      "text/plain": [
       "array([7., 7., 7., 7.])"
      ]
     },
     "execution_count": 101,
     "metadata": {},
     "output_type": "execute_result"
    }
   ],
   "source": [
    "arr[-1]"
   ]
  },
  {
   "cell_type": "code",
   "execution_count": 102,
   "metadata": {},
   "outputs": [
    {
     "data": {
      "text/plain": [
       "array([0., 0., 0., 0.])"
      ]
     },
     "execution_count": 102,
     "metadata": {},
     "output_type": "execute_result"
    }
   ],
   "source": [
    "arr[0]"
   ]
  },
  {
   "cell_type": "code",
   "execution_count": 103,
   "metadata": {},
   "outputs": [
    {
     "data": {
      "text/plain": [
       "array([0., 0., 0., 0.])"
      ]
     },
     "execution_count": 103,
     "metadata": {},
     "output_type": "execute_result"
    }
   ],
   "source": [
    "arr[-0]"
   ]
  },
  {
   "cell_type": "code",
   "execution_count": 104,
   "metadata": {},
   "outputs": [
    {
     "ename": "IndexError",
     "evalue": "index -11 is out of bounds for axis 0 with size 8",
     "output_type": "error",
     "traceback": [
      "\u001b[0;31m---------------------------------------------------------------------------\u001b[0m",
      "\u001b[0;31mIndexError\u001b[0m                                Traceback (most recent call last)",
      "\u001b[0;32m<ipython-input-104-91f133f07612>\u001b[0m in \u001b[0;36m<module>\u001b[0;34m()\u001b[0m\n\u001b[0;32m----> 1\u001b[0;31m \u001b[0marr\u001b[0m\u001b[0;34m[\u001b[0m\u001b[0;34m-\u001b[0m\u001b[0;36m11\u001b[0m\u001b[0;34m]\u001b[0m\u001b[0;34m\u001b[0m\u001b[0m\n\u001b[0m",
      "\u001b[0;31mIndexError\u001b[0m: index -11 is out of bounds for axis 0 with size 8"
     ]
    }
   ],
   "source": [
    "arr[-11]"
   ]
  },
  {
   "cell_type": "code",
   "execution_count": 115,
   "metadata": {},
   "outputs": [
    {
     "ename": "SyntaxError",
     "evalue": "invalid syntax (<ipython-input-115-33a40c1b49e1>, line 2)",
     "output_type": "error",
     "traceback": [
      "\u001b[0;36m  File \u001b[0;32m\"<ipython-input-115-33a40c1b49e1>\"\u001b[0;36m, line \u001b[0;32m2\u001b[0m\n\u001b[0;31m    def nonlin(x,deriv-False):\u001b[0m\n\u001b[0m                      ^\u001b[0m\n\u001b[0;31mSyntaxError\u001b[0m\u001b[0;31m:\u001b[0m invalid syntax\n"
     ]
    }
   ],
   "source": [
    "import numpy as np\n",
    "def nonlin(x,deriv-False):\n",
    "    if(deriv==True):\n",
    "        return x*(1-x)\n",
    "    return 1/(1+np,exp(-x))\n",
    "\n",
    "X = np.array([[0, 0, 1],\n",
    "            [0, 1, 1],\n",
    "            [1, 0, 1],\n",
    "            [1, 1, 1]])\n",
    "\n",
    "y = np.array([[0], [1], [1], [0]])\n",
    "\n",
    "np.random.seed(1)\n",
    "\n",
    "syn0 = 2*np.random.random((3,4)) - 1\n",
    "syn1 = 2*np.random.random((4,1)) - 1\n",
    "\n",
    "for j in xrange(60000):\n",
    "    l0 = X\n",
    "    l1 = nonlin(np.dot(l0, syn0))\n",
    "    l2 = nonlin(np.dot(l1, syn1))\n",
    "    \n",
    "    l2_error = y - l2\n",
    "    \n",
    "    if(j%10000) == 0:\n",
    "        print (\"Error:\" + str(np.mean(np.abs(l2_error))))\n",
    "        \n",
    "    l2_delta = l2_error*nonlin(l2, deriv=True)\n",
    "    l1_error = l2_delta.dot(syn1.T)\n",
    "    l1_delta = l1_error * nonlin(l1,deriv=True)\n",
    "    \n",
    "    syn1 += l1.T.dot(l2_delta)\n",
    "    syn0 += l0.T.dot(l1_delta)\n",
    "    \n",
    "print (\"Output after training\")\n",
    "print (l2)"
   ]
  },
  {
   "cell_type": "code",
   "execution_count": 3,
   "metadata": {},
   "outputs": [],
   "source": [
    "import pandas as pd\n",
    "import quandl\n",
    "\n",
    "df = quandl.get('WIKI/GOOGL')"
   ]
  },
  {
   "cell_type": "code",
   "execution_count": 4,
   "metadata": {},
   "outputs": [
    {
     "name": "stdout",
     "output_type": "stream",
     "text": [
      "              Open    High     Low    Close      Volume  Ex-Dividend  \\\n",
      "Date                                                                   \n",
      "2004-08-19  100.01  104.06   95.96  100.335  44659000.0          0.0   \n",
      "2004-08-20  101.01  109.08  100.50  108.310  22834300.0          0.0   \n",
      "2004-08-23  110.76  113.48  109.05  109.400  18256100.0          0.0   \n",
      "2004-08-24  111.24  111.60  103.57  104.870  15247300.0          0.0   \n",
      "2004-08-25  104.76  108.00  103.88  106.000   9188600.0          0.0   \n",
      "\n",
      "            Split Ratio  Adj. Open  Adj. High   Adj. Low  Adj. Close  \\\n",
      "Date                                                                   \n",
      "2004-08-19          1.0  50.159839  52.191109  48.128568   50.322842   \n",
      "2004-08-20          1.0  50.661387  54.708881  50.405597   54.322689   \n",
      "2004-08-23          1.0  55.551482  56.915693  54.693835   54.869377   \n",
      "2004-08-24          1.0  55.792225  55.972783  51.945350   52.597363   \n",
      "2004-08-25          1.0  52.542193  54.167209  52.100830   53.164113   \n",
      "\n",
      "            Adj. Volume  \n",
      "Date                     \n",
      "2004-08-19   44659000.0  \n",
      "2004-08-20   22834300.0  \n",
      "2004-08-23   18256100.0  \n",
      "2004-08-24   15247300.0  \n",
      "2004-08-25    9188600.0  \n"
     ]
    }
   ],
   "source": [
    "print(df.head())"
   ]
  },
  {
   "cell_type": "code",
   "execution_count": 5,
   "metadata": {},
   "outputs": [
    {
     "ename": "NameError",
     "evalue": "name 'arr' is not defined",
     "output_type": "error",
     "traceback": [
      "\u001b[0;31m---------------------------------------------------------------------------\u001b[0m",
      "\u001b[0;31mNameError\u001b[0m                                 Traceback (most recent call last)",
      "\u001b[0;32m<ipython-input-5-24a6d41c5b66>\u001b[0m in \u001b[0;36m<module>\u001b[0;34m()\u001b[0m\n\u001b[0;32m----> 1\u001b[0;31m \u001b[0marr\u001b[0m\u001b[0;34m\u001b[0m\u001b[0m\n\u001b[0m",
      "\u001b[0;31mNameError\u001b[0m: name 'arr' is not defined"
     ]
    }
   ],
   "source": [
    "arr"
   ]
  },
  {
   "cell_type": "code",
   "execution_count": 6,
   "metadata": {},
   "outputs": [
    {
     "ename": "NameError",
     "evalue": "name 'np' is not defined",
     "output_type": "error",
     "traceback": [
      "\u001b[0;31m---------------------------------------------------------------------------\u001b[0m",
      "\u001b[0;31mNameError\u001b[0m                                 Traceback (most recent call last)",
      "\u001b[0;32m<ipython-input-6-443261f850c1>\u001b[0m in \u001b[0;36m<module>\u001b[0;34m()\u001b[0m\n\u001b[0;32m----> 1\u001b[0;31m \u001b[0marr\u001b[0m \u001b[0;34m=\u001b[0m \u001b[0mnp\u001b[0m\u001b[0;34m.\u001b[0m\u001b[0marange\u001b[0m\u001b[0;34m(\u001b[0m\u001b[0;36m32\u001b[0m\u001b[0;34m)\u001b[0m\u001b[0;34m\u001b[0m\u001b[0m\n\u001b[0m",
      "\u001b[0;31mNameError\u001b[0m: name 'np' is not defined"
     ]
    }
   ],
   "source": [
    "arr = np.arange(32)"
   ]
  },
  {
   "cell_type": "code",
   "execution_count": 7,
   "metadata": {},
   "outputs": [],
   "source": [
    "import numpy as np"
   ]
  },
  {
   "cell_type": "code",
   "execution_count": 8,
   "metadata": {},
   "outputs": [],
   "source": [
    "arr = np.arange(32)"
   ]
  },
  {
   "cell_type": "code",
   "execution_count": 9,
   "metadata": {},
   "outputs": [
    {
     "data": {
      "text/plain": [
       "array([ 0,  1,  2,  3,  4,  5,  6,  7,  8,  9, 10, 11, 12, 13, 14, 15, 16,\n",
       "       17, 18, 19, 20, 21, 22, 23, 24, 25, 26, 27, 28, 29, 30, 31])"
      ]
     },
     "execution_count": 9,
     "metadata": {},
     "output_type": "execute_result"
    }
   ],
   "source": [
    "arr"
   ]
  },
  {
   "cell_type": "code",
   "execution_count": 10,
   "metadata": {},
   "outputs": [],
   "source": [
    "arr = arr.reshape((8,4))"
   ]
  },
  {
   "cell_type": "code",
   "execution_count": 11,
   "metadata": {},
   "outputs": [
    {
     "data": {
      "text/plain": [
       "array([[ 0,  1,  2,  3],\n",
       "       [ 4,  5,  6,  7],\n",
       "       [ 8,  9, 10, 11],\n",
       "       [12, 13, 14, 15],\n",
       "       [16, 17, 18, 19],\n",
       "       [20, 21, 22, 23],\n",
       "       [24, 25, 26, 27],\n",
       "       [28, 29, 30, 31]])"
      ]
     },
     "execution_count": 11,
     "metadata": {},
     "output_type": "execute_result"
    }
   ],
   "source": [
    "arr"
   ]
  },
  {
   "cell_type": "code",
   "execution_count": 12,
   "metadata": {},
   "outputs": [
    {
     "data": {
      "text/plain": [
       "array([ 4, 23, 29, 10])"
      ]
     },
     "execution_count": 12,
     "metadata": {},
     "output_type": "execute_result"
    }
   ],
   "source": [
    "arr[[1, 5, 7, 2], [0, 3, 1, 2]]"
   ]
  },
  {
   "cell_type": "code",
   "execution_count": 13,
   "metadata": {},
   "outputs": [
    {
     "data": {
      "text/plain": [
       "array([[ 4,  7,  5,  6],\n",
       "       [20, 23, 21, 22],\n",
       "       [28, 31, 29, 30],\n",
       "       [ 8, 11,  9, 10]])"
      ]
     },
     "execution_count": 13,
     "metadata": {},
     "output_type": "execute_result"
    }
   ],
   "source": [
    "arr[[1,5,7,2]][:, [0,3,1,2]]"
   ]
  },
  {
   "cell_type": "code",
   "execution_count": 16,
   "metadata": {},
   "outputs": [
    {
     "ename": "ValueError",
     "evalue": "cannot reshape array of size 15 into shape (3,4)",
     "output_type": "error",
     "traceback": [
      "\u001b[0;31m---------------------------------------------------------------------------\u001b[0m",
      "\u001b[0;31mValueError\u001b[0m                                Traceback (most recent call last)",
      "\u001b[0;32m<ipython-input-16-7376f33ce8ff>\u001b[0m in \u001b[0;36m<module>\u001b[0;34m()\u001b[0m\n\u001b[0;32m----> 1\u001b[0;31m \u001b[0marr\u001b[0m \u001b[0;34m=\u001b[0m \u001b[0mnp\u001b[0m\u001b[0;34m.\u001b[0m\u001b[0marange\u001b[0m\u001b[0;34m(\u001b[0m\u001b[0;36m15\u001b[0m\u001b[0;34m)\u001b[0m\u001b[0;34m.\u001b[0m\u001b[0mreshape\u001b[0m\u001b[0;34m(\u001b[0m\u001b[0;34m(\u001b[0m\u001b[0;36m3\u001b[0m\u001b[0;34m,\u001b[0m\u001b[0;36m4\u001b[0m\u001b[0;34m)\u001b[0m\u001b[0;34m)\u001b[0m\u001b[0;34m\u001b[0m\u001b[0m\n\u001b[0m",
      "\u001b[0;31mValueError\u001b[0m: cannot reshape array of size 15 into shape (3,4)"
     ]
    }
   ],
   "source": [
    "arr = np.arange(15).reshape((3,4))"
   ]
  },
  {
   "cell_type": "code",
   "execution_count": 15,
   "metadata": {},
   "outputs": [
    {
     "data": {
      "text/plain": [
       "array([[ 0,  1,  2,  3,  4],\n",
       "       [ 5,  6,  7,  8,  9],\n",
       "       [10, 11, 12, 13, 14]])"
      ]
     },
     "execution_count": 15,
     "metadata": {},
     "output_type": "execute_result"
    }
   ],
   "source": [
    "arr"
   ]
  },
  {
   "cell_type": "code",
   "execution_count": 17,
   "metadata": {},
   "outputs": [
    {
     "data": {
      "text/plain": [
       "array([[ 0,  1,  2,  3,  4],\n",
       "       [ 5,  6,  7,  8,  9],\n",
       "       [10, 11, 12, 13, 14]])"
      ]
     },
     "execution_count": 17,
     "metadata": {},
     "output_type": "execute_result"
    }
   ],
   "source": [
    "arr"
   ]
  },
  {
   "cell_type": "code",
   "execution_count": 18,
   "metadata": {},
   "outputs": [
    {
     "data": {
      "text/plain": [
       "array([[ 0,  5, 10],\n",
       "       [ 1,  6, 11],\n",
       "       [ 2,  7, 12],\n",
       "       [ 3,  8, 13],\n",
       "       [ 4,  9, 14]])"
      ]
     },
     "execution_count": 18,
     "metadata": {},
     "output_type": "execute_result"
    }
   ],
   "source": [
    "arr.T"
   ]
  },
  {
   "cell_type": "code",
   "execution_count": 19,
   "metadata": {},
   "outputs": [],
   "source": [
    "arr = np.random.randn(6,3)"
   ]
  },
  {
   "cell_type": "code",
   "execution_count": 20,
   "metadata": {},
   "outputs": [
    {
     "data": {
      "text/plain": [
       "array([[-1.79254128,  0.38519148, -2.37898558],\n",
       "       [ 0.98643846,  0.51413844,  0.44973645],\n",
       "       [ 0.5992369 , -0.20019965, -0.64156783],\n",
       "       [-1.29468109, -0.05348076, -1.24134221],\n",
       "       [ 0.09451318,  0.19031688, -1.0861365 ],\n",
       "       [ 0.78384337, -0.22420608, -1.37408506]])"
      ]
     },
     "execution_count": 20,
     "metadata": {},
     "output_type": "execute_result"
    }
   ],
   "source": [
    "arr"
   ]
  },
  {
   "cell_type": "code",
   "execution_count": 21,
   "metadata": {},
   "outputs": [
    {
     "data": {
      "text/plain": [
       "array([[ 6.84489224, -0.39178718,  4.75103667],\n",
       "       [-0.39178718,  0.54213978, -0.38894046],\n",
       "       [ 4.75103667, -0.38894046, 10.88217728]])"
      ]
     },
     "execution_count": 21,
     "metadata": {},
     "output_type": "execute_result"
    }
   ],
   "source": [
    "np.dot(arr.T, arr)"
   ]
  },
  {
   "cell_type": "code",
   "execution_count": 22,
   "metadata": {},
   "outputs": [
    {
     "data": {
      "text/plain": [
       "array([[3.21320425e+00, 1.48372473e-01, 5.65957240e+00],\n",
       "       [9.73060842e-01, 2.64338331e-01, 2.02262872e-01],\n",
       "       [3.59084864e-01, 4.00799011e-02, 4.11609279e-01],\n",
       "       [1.67619911e+00, 2.86019204e-03, 1.54093047e+00],\n",
       "       [8.93274213e-03, 3.62205132e-02, 1.17969250e+00],\n",
       "       [6.14410425e-01, 5.02683677e-02, 1.88810976e+00]])"
      ]
     },
     "execution_count": 22,
     "metadata": {},
     "output_type": "execute_result"
    }
   ],
   "source": [
    "arr*arr"
   ]
  },
  {
   "cell_type": "code",
   "execution_count": 23,
   "metadata": {},
   "outputs": [],
   "source": [
    "arr = np.arange(16).reshape((2,2,4))"
   ]
  },
  {
   "cell_type": "code",
   "execution_count": 24,
   "metadata": {},
   "outputs": [
    {
     "data": {
      "text/plain": [
       "array([[[ 0,  1,  2,  3],\n",
       "        [ 4,  5,  6,  7]],\n",
       "\n",
       "       [[ 8,  9, 10, 11],\n",
       "        [12, 13, 14, 15]]])"
      ]
     },
     "execution_count": 24,
     "metadata": {},
     "output_type": "execute_result"
    }
   ],
   "source": [
    "arr"
   ]
  },
  {
   "cell_type": "code",
   "execution_count": 25,
   "metadata": {},
   "outputs": [
    {
     "data": {
      "text/plain": [
       "array([[[ 0,  1,  2,  3],\n",
       "        [ 8,  9, 10, 11]],\n",
       "\n",
       "       [[ 4,  5,  6,  7],\n",
       "        [12, 13, 14, 15]]])"
      ]
     },
     "execution_count": 25,
     "metadata": {},
     "output_type": "execute_result"
    }
   ],
   "source": [
    "arr.transpose((1,0,2))"
   ]
  },
  {
   "cell_type": "code",
   "execution_count": 26,
   "metadata": {},
   "outputs": [
    {
     "data": {
      "text/plain": [
       "array([[[ 0,  1,  2,  3],\n",
       "        [ 4,  5,  6,  7]],\n",
       "\n",
       "       [[ 8,  9, 10, 11],\n",
       "        [12, 13, 14, 15]]])"
      ]
     },
     "execution_count": 26,
     "metadata": {},
     "output_type": "execute_result"
    }
   ],
   "source": [
    "arr.transpose((0,1,2))"
   ]
  },
  {
   "cell_type": "code",
   "execution_count": 27,
   "metadata": {},
   "outputs": [
    {
     "data": {
      "text/plain": [
       "array([[[ 0,  8],\n",
       "        [ 4, 12]],\n",
       "\n",
       "       [[ 1,  9],\n",
       "        [ 5, 13]],\n",
       "\n",
       "       [[ 2, 10],\n",
       "        [ 6, 14]],\n",
       "\n",
       "       [[ 3, 11],\n",
       "        [ 7, 15]]])"
      ]
     },
     "execution_count": 27,
     "metadata": {},
     "output_type": "execute_result"
    }
   ],
   "source": [
    "arr.transpose((2,1,0))"
   ]
  },
  {
   "cell_type": "code",
   "execution_count": 28,
   "metadata": {},
   "outputs": [],
   "source": [
    "arr = np.arange(16).reshape(2,8)"
   ]
  },
  {
   "cell_type": "code",
   "execution_count": 29,
   "metadata": {},
   "outputs": [
    {
     "data": {
      "text/plain": [
       "array([[ 0,  1,  2,  3,  4,  5,  6,  7],\n",
       "       [ 8,  9, 10, 11, 12, 13, 14, 15]])"
      ]
     },
     "execution_count": 29,
     "metadata": {},
     "output_type": "execute_result"
    }
   ],
   "source": [
    "arr"
   ]
  },
  {
   "cell_type": "code",
   "execution_count": 30,
   "metadata": {},
   "outputs": [
    {
     "data": {
      "text/plain": [
       "array([[ 0,  8],\n",
       "       [ 1,  9],\n",
       "       [ 2, 10],\n",
       "       [ 3, 11],\n",
       "       [ 4, 12],\n",
       "       [ 5, 13],\n",
       "       [ 6, 14],\n",
       "       [ 7, 15]])"
      ]
     },
     "execution_count": 30,
     "metadata": {},
     "output_type": "execute_result"
    }
   ],
   "source": [
    "arr.transpose((1,0))"
   ]
  },
  {
   "cell_type": "code",
   "execution_count": 31,
   "metadata": {},
   "outputs": [],
   "source": [
    "arr = np.arange(16).reshape((2,2,4))"
   ]
  },
  {
   "cell_type": "code",
   "execution_count": 32,
   "metadata": {},
   "outputs": [
    {
     "data": {
      "text/plain": [
       "array([[[ 0,  8],\n",
       "        [ 4, 12]],\n",
       "\n",
       "       [[ 1,  9],\n",
       "        [ 5, 13]],\n",
       "\n",
       "       [[ 2, 10],\n",
       "        [ 6, 14]],\n",
       "\n",
       "       [[ 3, 11],\n",
       "        [ 7, 15]]])"
      ]
     },
     "execution_count": 32,
     "metadata": {},
     "output_type": "execute_result"
    }
   ],
   "source": [
    "arr.T"
   ]
  },
  {
   "cell_type": "code",
   "execution_count": 33,
   "metadata": {},
   "outputs": [
    {
     "data": {
      "text/plain": [
       "array([[[ 0,  1,  2,  3],\n",
       "        [ 4,  5,  6,  7]],\n",
       "\n",
       "       [[ 8,  9, 10, 11],\n",
       "        [12, 13, 14, 15]]])"
      ]
     },
     "execution_count": 33,
     "metadata": {},
     "output_type": "execute_result"
    }
   ],
   "source": [
    "arr"
   ]
  },
  {
   "cell_type": "code",
   "execution_count": 34,
   "metadata": {},
   "outputs": [
    {
     "data": {
      "text/plain": [
       "array([[[ 0,  4],\n",
       "        [ 1,  5],\n",
       "        [ 2,  6],\n",
       "        [ 3,  7]],\n",
       "\n",
       "       [[ 8, 12],\n",
       "        [ 9, 13],\n",
       "        [10, 14],\n",
       "        [11, 15]]])"
      ]
     },
     "execution_count": 34,
     "metadata": {},
     "output_type": "execute_result"
    }
   ],
   "source": [
    "arr.swapaxes(1, 2)"
   ]
  },
  {
   "cell_type": "code",
   "execution_count": 35,
   "metadata": {},
   "outputs": [
    {
     "data": {
      "text/plain": [
       "array([[[ 0,  8],\n",
       "        [ 4, 12]],\n",
       "\n",
       "       [[ 1,  9],\n",
       "        [ 5, 13]],\n",
       "\n",
       "       [[ 2, 10],\n",
       "        [ 6, 14]],\n",
       "\n",
       "       [[ 3, 11],\n",
       "        [ 7, 15]]])"
      ]
     },
     "execution_count": 35,
     "metadata": {},
     "output_type": "execute_result"
    }
   ],
   "source": [
    "arr.swapaxes(0,2)"
   ]
  },
  {
   "cell_type": "code",
   "execution_count": 36,
   "metadata": {},
   "outputs": [
    {
     "data": {
      "text/plain": [
       "array([[[ 0,  1,  2,  3],\n",
       "        [ 8,  9, 10, 11]],\n",
       "\n",
       "       [[ 4,  5,  6,  7],\n",
       "        [12, 13, 14, 15]]])"
      ]
     },
     "execution_count": 36,
     "metadata": {},
     "output_type": "execute_result"
    }
   ],
   "source": [
    "arr.swapaxes(0,1)"
   ]
  },
  {
   "cell_type": "code",
   "execution_count": 37,
   "metadata": {},
   "outputs": [
    {
     "data": {
      "text/plain": [
       "array([[[ 0,  8],\n",
       "        [ 1,  9],\n",
       "        [ 2, 10],\n",
       "        [ 3, 11]],\n",
       "\n",
       "       [[ 4, 12],\n",
       "        [ 5, 13],\n",
       "        [ 6, 14],\n",
       "        [ 7, 15]]])"
      ]
     },
     "execution_count": 37,
     "metadata": {},
     "output_type": "execute_result"
    }
   ],
   "source": [
    "arr.transpose((1,2,0))"
   ]
  },
  {
   "cell_type": "code",
   "execution_count": 38,
   "metadata": {},
   "outputs": [],
   "source": [
    "arr = np.arange(10)"
   ]
  },
  {
   "cell_type": "code",
   "execution_count": 39,
   "metadata": {},
   "outputs": [
    {
     "data": {
      "text/plain": [
       "array([0.        , 1.        , 1.41421356, 1.73205081, 2.        ,\n",
       "       2.23606798, 2.44948974, 2.64575131, 2.82842712, 3.        ])"
      ]
     },
     "execution_count": 39,
     "metadata": {},
     "output_type": "execute_result"
    }
   ],
   "source": [
    "np.sqrt(arr)"
   ]
  },
  {
   "cell_type": "code",
   "execution_count": 40,
   "metadata": {},
   "outputs": [
    {
     "ename": "NameError",
     "evalue": "name 'randn' is not defined",
     "output_type": "error",
     "traceback": [
      "\u001b[0;31m---------------------------------------------------------------------------\u001b[0m",
      "\u001b[0;31mNameError\u001b[0m                                 Traceback (most recent call last)",
      "\u001b[0;32m<ipython-input-40-f17f67587cc5>\u001b[0m in \u001b[0;36m<module>\u001b[0;34m()\u001b[0m\n\u001b[0;32m----> 1\u001b[0;31m \u001b[0mx\u001b[0m \u001b[0;34m=\u001b[0m \u001b[0mrandn\u001b[0m\u001b[0;34m(\u001b[0m\u001b[0;36m8\u001b[0m\u001b[0;34m)\u001b[0m\u001b[0;34m\u001b[0m\u001b[0m\n\u001b[0m",
      "\u001b[0;31mNameError\u001b[0m: name 'randn' is not defined"
     ]
    }
   ],
   "source": [
    "x = randn(8)"
   ]
  },
  {
   "cell_type": "code",
   "execution_count": 41,
   "metadata": {},
   "outputs": [],
   "source": [
    "x = np.random.randn(8)"
   ]
  },
  {
   "cell_type": "code",
   "execution_count": 42,
   "metadata": {},
   "outputs": [],
   "source": [
    "y = np.random.randn(8)"
   ]
  },
  {
   "cell_type": "code",
   "execution_count": 43,
   "metadata": {},
   "outputs": [
    {
     "data": {
      "text/plain": [
       "array([-0.24336879, -1.30114613,  0.17434077, -0.52315198, -0.24626454,\n",
       "       -1.08703299, -0.39424294, -0.08580824])"
      ]
     },
     "execution_count": 43,
     "metadata": {},
     "output_type": "execute_result"
    }
   ],
   "source": [
    "x"
   ]
  },
  {
   "cell_type": "code",
   "execution_count": 44,
   "metadata": {},
   "outputs": [
    {
     "data": {
      "text/plain": [
       "array([ 1.58071206,  1.22118706,  0.06787143, -0.09778759, -0.39297107,\n",
       "       -0.33026359, -0.67095777, -0.73052643])"
      ]
     },
     "execution_count": 44,
     "metadata": {},
     "output_type": "execute_result"
    }
   ],
   "source": [
    "y"
   ]
  },
  {
   "cell_type": "code",
   "execution_count": 45,
   "metadata": {},
   "outputs": [
    {
     "data": {
      "text/plain": [
       "array([ 1.58071206,  1.22118706,  0.17434077, -0.09778759, -0.24626454,\n",
       "       -0.33026359, -0.39424294, -0.08580824])"
      ]
     },
     "execution_count": 45,
     "metadata": {},
     "output_type": "execute_result"
    }
   ],
   "source": [
    "np.maximum(x,y)"
   ]
  },
  {
   "cell_type": "code",
   "execution_count": 47,
   "metadata": {},
   "outputs": [],
   "source": [
    "arr = np.random.randn(7)*5"
   ]
  },
  {
   "cell_type": "raw",
   "metadata": {},
   "source": []
  },
  {
   "cell_type": "raw",
   "metadata": {},
   "source": []
  },
  {
   "cell_type": "code",
   "execution_count": 48,
   "metadata": {},
   "outputs": [
    {
     "data": {
      "text/plain": [
       "array([ 0.15489405, -2.82730592, -3.9274168 ,  4.85413917,  1.82878835,\n",
       "       -1.43596315, -7.72041929])"
      ]
     },
     "execution_count": 48,
     "metadata": {},
     "output_type": "execute_result"
    }
   ],
   "source": [
    "arr"
   ]
  },
  {
   "cell_type": "code",
   "execution_count": 49,
   "metadata": {},
   "outputs": [
    {
     "data": {
      "text/plain": [
       "(array([ 0.15489405, -0.82730592, -0.9274168 ,  0.85413917,  0.82878835,\n",
       "        -0.43596315, -0.72041929]), array([ 0., -2., -3.,  4.,  1., -1., -7.]))"
      ]
     },
     "execution_count": 49,
     "metadata": {},
     "output_type": "execute_result"
    }
   ],
   "source": [
    "np.modf(arr)"
   ]
  },
  {
   "cell_type": "code",
   "execution_count": 50,
   "metadata": {},
   "outputs": [],
   "source": [
    "points = np.arange(-5, 5, 0.01)"
   ]
  },
  {
   "cell_type": "code",
   "execution_count": 51,
   "metadata": {},
   "outputs": [],
   "source": [
    "xs, ys = np.meshgrid(points, points)"
   ]
  },
  {
   "cell_type": "code",
   "execution_count": 52,
   "metadata": {},
   "outputs": [
    {
     "data": {
      "text/plain": [
       "array([[-5.  , -4.99, -4.98, ...,  4.97,  4.98,  4.99],\n",
       "       [-5.  , -4.99, -4.98, ...,  4.97,  4.98,  4.99],\n",
       "       [-5.  , -4.99, -4.98, ...,  4.97,  4.98,  4.99],\n",
       "       ...,\n",
       "       [-5.  , -4.99, -4.98, ...,  4.97,  4.98,  4.99],\n",
       "       [-5.  , -4.99, -4.98, ...,  4.97,  4.98,  4.99],\n",
       "       [-5.  , -4.99, -4.98, ...,  4.97,  4.98,  4.99]])"
      ]
     },
     "execution_count": 52,
     "metadata": {},
     "output_type": "execute_result"
    }
   ],
   "source": [
    "xs"
   ]
  },
  {
   "cell_type": "code",
   "execution_count": 53,
   "metadata": {},
   "outputs": [
    {
     "data": {
      "text/plain": [
       "array([[-5.  , -5.  , -5.  , ..., -5.  , -5.  , -5.  ],\n",
       "       [-4.99, -4.99, -4.99, ..., -4.99, -4.99, -4.99],\n",
       "       [-4.98, -4.98, -4.98, ..., -4.98, -4.98, -4.98],\n",
       "       ...,\n",
       "       [ 4.97,  4.97,  4.97, ...,  4.97,  4.97,  4.97],\n",
       "       [ 4.98,  4.98,  4.98, ...,  4.98,  4.98,  4.98],\n",
       "       [ 4.99,  4.99,  4.99, ...,  4.99,  4.99,  4.99]])"
      ]
     },
     "execution_count": 53,
     "metadata": {},
     "output_type": "execute_result"
    }
   ],
   "source": [
    "ys"
   ]
  },
  {
   "cell_type": "code",
   "execution_count": 54,
   "metadata": {},
   "outputs": [],
   "source": [
    "import matplotlib.pyplot as plt"
   ]
  },
  {
   "cell_type": "code",
   "execution_count": 55,
   "metadata": {},
   "outputs": [],
   "source": [
    "z = np.sqrt(xs**2+ys**2)"
   ]
  },
  {
   "cell_type": "code",
   "execution_count": 56,
   "metadata": {},
   "outputs": [
    {
     "data": {
      "text/plain": [
       "array([[7.07106781, 7.06400028, 7.05693985, ..., 7.04988652, 7.05693985,\n",
       "        7.06400028],\n",
       "       [7.06400028, 7.05692568, 7.04985815, ..., 7.04279774, 7.04985815,\n",
       "        7.05692568],\n",
       "       [7.05693985, 7.04985815, 7.04278354, ..., 7.03571603, 7.04278354,\n",
       "        7.04985815],\n",
       "       ...,\n",
       "       [7.04988652, 7.04279774, 7.03571603, ..., 7.0286414 , 7.03571603,\n",
       "        7.04279774],\n",
       "       [7.05693985, 7.04985815, 7.04278354, ..., 7.03571603, 7.04278354,\n",
       "        7.04985815],\n",
       "       [7.06400028, 7.05692568, 7.04985815, ..., 7.04279774, 7.04985815,\n",
       "        7.05692568]])"
      ]
     },
     "execution_count": 56,
     "metadata": {},
     "output_type": "execute_result"
    }
   ],
   "source": [
    "z"
   ]
  },
  {
   "cell_type": "code",
   "execution_count": 57,
   "metadata": {},
   "outputs": [
    {
     "data": {
      "text/plain": [
       "dtype('float64')"
      ]
     },
     "execution_count": 57,
     "metadata": {},
     "output_type": "execute_result"
    }
   ],
   "source": [
    "z.dtype"
   ]
  },
  {
   "cell_type": "code",
   "execution_count": 63,
   "metadata": {},
   "outputs": [
    {
     "data": {
      "text/plain": [
       "<matplotlib.colorbar.Colorbar at 0x11483b908>"
      ]
     },
     "execution_count": 63,
     "metadata": {},
     "output_type": "execute_result"
    },
    {
     "data": {
      "image/png": "[encoded data removed]",
      "text/plain": [
       "<Figure size 432x288 with 2 Axes>"
      ]
     },
     "metadata": {},
     "output_type": "display_data"
    }
   ],
   "source": [
    "plt.imshow(z, cmap=plt.cm.gray); plt.colorbar()"
   ]
  },
  {
   "cell_type": "code",
   "execution_count": 64,
   "metadata": {},
   "outputs": [
    {
     "data": {
      "text/plain": [
       "Text(0.5,1,'Image plot of $\\\\sqrt{x^2+y^2}$ for a grid of values')"
      ]
     },
     "execution_count": 64,
     "metadata": {},
     "output_type": "execute_result"
    },
    {
     "data": {
      "image/png": "[encoded data removed]",
      "text/plain": [
       "<Figure size 432x288 with 1 Axes>"
      ]
     },
     "metadata": {},
     "output_type": "display_data"
    }
   ],
   "source": [
    "plt.title(\"Image plot of $\\sqrt{x^2+y^2}$ for a grid of values\")"
   ]
  },
  {
   "cell_type": "code",
   "execution_count": 1,
   "metadata": {},
   "outputs": [],
   "source": [
    "import numpy as np"
   ]
  },
  {
   "cell_type": "code",
   "execution_count": 2,
   "metadata": {},
   "outputs": [],
   "source": [
    "arr = np.arange(10)"
   ]
  },
  {
   "cell_type": "code",
   "execution_count": 3,
   "metadata": {},
   "outputs": [
    {
     "data": {
      "text/plain": [
       "array([0.        , 1.        , 1.41421356, 1.73205081, 2.        ,\n",
       "       2.23606798, 2.44948974, 2.64575131, 2.82842712, 3.        ])"
      ]
     },
     "execution_count": 3,
     "metadata": {},
     "output_type": "execute_result"
    }
   ],
   "source": [
    "np.sqrt(arr)"
   ]
  },
  {
   "cell_type": "code",
   "execution_count": 4,
   "metadata": {},
   "outputs": [
    {
     "data": {
      "text/plain": [
       "array([0, 1, 2, 3, 4, 5, 6, 7, 8, 9])"
      ]
     },
     "execution_count": 4,
     "metadata": {},
     "output_type": "execute_result"
    }
   ],
   "source": [
    "arr"
   ]
  },
  {
   "cell_type": "code",
   "execution_count": 5,
   "metadata": {},
   "outputs": [
    {
     "data": {
      "text/plain": [
       "array([1.00000000e+00, 2.71828183e+00, 7.38905610e+00, 2.00855369e+01,\n",
       "       5.45981500e+01, 1.48413159e+02, 4.03428793e+02, 1.09663316e+03,\n",
       "       2.98095799e+03, 8.10308393e+03])"
      ]
     },
     "execution_count": 5,
     "metadata": {},
     "output_type": "execute_result"
    }
   ],
   "source": [
    "np.exp(arr)"
   ]
  },
  {
   "cell_type": "code",
   "execution_count": 6,
   "metadata": {},
   "outputs": [
    {
     "ename": "NameError",
     "evalue": "name 'randn' is not defined",
     "output_type": "error",
     "traceback": [
      "\u001b[0;31m---------------------------------------------------------------------------\u001b[0m",
      "\u001b[0;31mNameError\u001b[0m                                 Traceback (most recent call last)",
      "\u001b[0;32m<ipython-input-6-f17f67587cc5>\u001b[0m in \u001b[0;36m<module>\u001b[0;34m()\u001b[0m\n\u001b[0;32m----> 1\u001b[0;31m \u001b[0mx\u001b[0m \u001b[0;34m=\u001b[0m \u001b[0mrandn\u001b[0m\u001b[0;34m(\u001b[0m\u001b[0;36m8\u001b[0m\u001b[0;34m)\u001b[0m\u001b[0;34m\u001b[0m\u001b[0m\n\u001b[0m",
      "\u001b[0;31mNameError\u001b[0m: name 'randn' is not defined"
     ]
    }
   ],
   "source": [
    "x = randn(8)"
   ]
  },
  {
   "cell_type": "code",
   "execution_count": 7,
   "metadata": {},
   "outputs": [],
   "source": [
    "x = np.random.randn(8)"
   ]
  },
  {
   "cell_type": "code",
   "execution_count": 8,
   "metadata": {},
   "outputs": [
    {
     "data": {
      "text/plain": [
       "array([-0.36337481,  0.67152823,  1.40148394, -1.35023195,  0.85080636,\n",
       "        0.24102482,  1.05669118,  2.46435418])"
      ]
     },
     "execution_count": 8,
     "metadata": {},
     "output_type": "execute_result"
    }
   ],
   "source": [
    "x"
   ]
  },
  {
   "cell_type": "code",
   "execution_count": 9,
   "metadata": {},
   "outputs": [],
   "source": [
    "y = np.random.randn(8)"
   ]
  },
  {
   "cell_type": "code",
   "execution_count": 10,
   "metadata": {},
   "outputs": [
    {
     "data": {
      "text/plain": [
       "array([-0.36337481,  0.67152823,  1.40148394, -1.35023195,  0.85080636,\n",
       "        0.24102482,  1.05669118,  2.46435418])"
      ]
     },
     "execution_count": 10,
     "metadata": {},
     "output_type": "execute_result"
    }
   ],
   "source": [
    "x"
   ]
  },
  {
   "cell_type": "code",
   "execution_count": 11,
   "metadata": {},
   "outputs": [
    {
     "data": {
      "text/plain": [
       "array([ 0.22450766, -0.55959908, -2.35339748,  0.97222498,  1.65968014,\n",
       "       -0.51887421,  0.31112375, -0.33317354])"
      ]
     },
     "execution_count": 11,
     "metadata": {},
     "output_type": "execute_result"
    }
   ],
   "source": [
    "y"
   ]
  },
  {
   "cell_type": "code",
   "execution_count": 12,
   "metadata": {},
   "outputs": [
    {
     "data": {
      "text/plain": [
       "array([0.22450766, 0.67152823, 1.40148394, 0.97222498, 1.65968014,\n",
       "       0.24102482, 1.05669118, 2.46435418])"
      ]
     },
     "execution_count": 12,
     "metadata": {},
     "output_type": "execute_result"
    }
   ],
   "source": [
    "np.maximum(x,y)"
   ]
  },
  {
   "cell_type": "code",
   "execution_count": 13,
   "metadata": {},
   "outputs": [
    {
     "ename": "NameError",
     "evalue": "name 'randn' is not defined",
     "output_type": "error",
     "traceback": [
      "\u001b[0;31m---------------------------------------------------------------------------\u001b[0m",
      "\u001b[0;31mNameError\u001b[0m                                 Traceback (most recent call last)",
      "\u001b[0;32m<ipython-input-13-5b8df0a5ca22>\u001b[0m in \u001b[0;36m<module>\u001b[0;34m()\u001b[0m\n\u001b[0;32m----> 1\u001b[0;31m \u001b[0marr\u001b[0m \u001b[0;34m=\u001b[0m \u001b[0mrandn\u001b[0m\u001b[0;34m(\u001b[0m\u001b[0;36m7\u001b[0m\u001b[0;34m)\u001b[0m \u001b[0;34m*\u001b[0m \u001b[0;36m5\u001b[0m\u001b[0;34m\u001b[0m\u001b[0m\n\u001b[0m",
      "\u001b[0;31mNameError\u001b[0m: name 'randn' is not defined"
     ]
    }
   ],
   "source": [
    "arr = randn(7) * 5"
   ]
  },
  {
   "cell_type": "code",
   "execution_count": 14,
   "metadata": {},
   "outputs": [],
   "source": [
    "arr = np.random.randn(7)*5"
   ]
  },
  {
   "cell_type": "code",
   "execution_count": 15,
   "metadata": {},
   "outputs": [
    {
     "data": {
      "text/plain": [
       "array([ 3.34986453, 15.02149974, -0.90358507,  2.61136984,  2.26577096,\n",
       "       -5.51882808, -0.90434955])"
      ]
     },
     "execution_count": 15,
     "metadata": {},
     "output_type": "execute_result"
    }
   ],
   "source": [
    "arr"
   ]
  },
  {
   "cell_type": "code",
   "execution_count": 16,
   "metadata": {},
   "outputs": [
    {
     "data": {
      "text/plain": [
       "(array([ 0.34986453,  0.02149974, -0.90358507,  0.61136984,  0.26577096,\n",
       "        -0.51882808, -0.90434955]), array([ 3., 15., -0.,  2.,  2., -5., -0.]))"
      ]
     },
     "execution_count": 16,
     "metadata": {},
     "output_type": "execute_result"
    }
   ],
   "source": [
    "np.modf(arr)"
   ]
  },
  {
   "cell_type": "code",
   "execution_count": 17,
   "metadata": {},
   "outputs": [],
   "source": [
    "points = np.arange(-5, 5, 0.01)"
   ]
  },
  {
   "cell_type": "code",
   "execution_count": 18,
   "metadata": {},
   "outputs": [],
   "source": [
    "xs, ys = np.meshgrid(points,points)"
   ]
  },
  {
   "cell_type": "code",
   "execution_count": 19,
   "metadata": {},
   "outputs": [
    {
     "data": {
      "text/plain": [
       "array([[-5.  , -4.99, -4.98, ...,  4.97,  4.98,  4.99],\n",
       "       [-5.  , -4.99, -4.98, ...,  4.97,  4.98,  4.99],\n",
       "       [-5.  , -4.99, -4.98, ...,  4.97,  4.98,  4.99],\n",
       "       ...,\n",
       "       [-5.  , -4.99, -4.98, ...,  4.97,  4.98,  4.99],\n",
       "       [-5.  , -4.99, -4.98, ...,  4.97,  4.98,  4.99],\n",
       "       [-5.  , -4.99, -4.98, ...,  4.97,  4.98,  4.99]])"
      ]
     },
     "execution_count": 19,
     "metadata": {},
     "output_type": "execute_result"
    }
   ],
   "source": [
    "xs"
   ]
  },
  {
   "cell_type": "code",
   "execution_count": 20,
   "metadata": {},
   "outputs": [
    {
     "data": {
      "text/plain": [
       "array([[-5.  , -5.  , -5.  , ..., -5.  , -5.  , -5.  ],\n",
       "       [-4.99, -4.99, -4.99, ..., -4.99, -4.99, -4.99],\n",
       "       [-4.98, -4.98, -4.98, ..., -4.98, -4.98, -4.98],\n",
       "       ...,\n",
       "       [ 4.97,  4.97,  4.97, ...,  4.97,  4.97,  4.97],\n",
       "       [ 4.98,  4.98,  4.98, ...,  4.98,  4.98,  4.98],\n",
       "       [ 4.99,  4.99,  4.99, ...,  4.99,  4.99,  4.99]])"
      ]
     },
     "execution_count": 20,
     "metadata": {},
     "output_type": "execute_result"
    }
   ],
   "source": [
    "ys"
   ]
  },
  {
   "cell_type": "code",
   "execution_count": 21,
   "metadata": {},
   "outputs": [],
   "source": [
    "import matplotlib.pyplot as plt"
   ]
  },
  {
   "cell_type": "code",
   "execution_count": 22,
   "metadata": {},
   "outputs": [],
   "source": [
    "z = np.sqrt(xs**2+ys**2)"
   ]
  },
  {
   "cell_type": "code",
   "execution_count": 23,
   "metadata": {},
   "outputs": [
    {
     "data": {
      "text/plain": [
       "array([[7.07106781, 7.06400028, 7.05693985, ..., 7.04988652, 7.05693985,\n",
       "        7.06400028],\n",
       "       [7.06400028, 7.05692568, 7.04985815, ..., 7.04279774, 7.04985815,\n",
       "        7.05692568],\n",
       "       [7.05693985, 7.04985815, 7.04278354, ..., 7.03571603, 7.04278354,\n",
       "        7.04985815],\n",
       "       ...,\n",
       "       [7.04988652, 7.04279774, 7.03571603, ..., 7.0286414 , 7.03571603,\n",
       "        7.04279774],\n",
       "       [7.05693985, 7.04985815, 7.04278354, ..., 7.03571603, 7.04278354,\n",
       "        7.04985815],\n",
       "       [7.06400028, 7.05692568, 7.04985815, ..., 7.04279774, 7.04985815,\n",
       "        7.05692568]])"
      ]
     },
     "execution_count": 23,
     "metadata": {},
     "output_type": "execute_result"
    }
   ],
   "source": [
    "z"
   ]
  },
  {
   "cell_type": "code",
   "execution_count": 26,
   "metadata": {},
   "outputs": [
    {
     "data": {
      "text/plain": [
       "Text(0.5,1,'Image plot of $\\\\sqrt{x^2+y^2}$ for a grid of values')"
      ]
     },
     "execution_count": 26,
     "metadata": {},
     "output_type": "execute_result"
    },
    {
     "data": {
      "image/png": "[encoded data removed]",
      "text/plain": [
       "<Figure size 432x288 with 2 Axes>"
      ]
     },
     "metadata": {},
     "output_type": "display_data"
    }
   ],
   "source": [
    "plt.imshow(z, cmap=plt.cm.gray); plt.colorbar()\n",
    "plt.title(\"Image plot of $\\sqrt{x^2+y^2}$ for a grid of values\")"
   ]
  },
  {
   "cell_type": "raw",
   "metadata": {},
   "source": [
    "xarr = np.array([1.1, 1.2, 1.3, 1.4, 1.5])"
   ]
  },
  {
   "cell_type": "code",
   "execution_count": 28,
   "metadata": {},
   "outputs": [
    {
     "data": {
      "text/plain": [
       "Text(0.5,1,'Image plot of $\\\\sqrt{x^2+y^2}$ for a grid of values')"
      ]
     },
     "execution_count": 28,
     "metadata": {},
     "output_type": "execute_result"
    },
    {
     "data": {
      "image/png": "[encoded data removed]",
      "text/plain": [
       "<Figure size 432x288 with 1 Axes>"
      ]
     },
     "metadata": {},
     "output_type": "display_data"
    }
   ],
   "source": [
    "plt.title(\"Image plot of $\\sqrt{x^2+y^2}$ for a grid of values\")"
   ]
  },
  {
   "cell_type": "raw",
   "metadata": {},
   "source": [
    "xarr = np.array([1.1, 1.2, 1.3, 1.4, 1.5])"
   ]
  },
  {
   "cell_type": "code",
   "execution_count": 31,
   "metadata": {},
   "outputs": [
    {
     "data": {
      "text/plain": [
       "array([1.1, 1.2, 1.3, 1.4, 1.5])"
      ]
     },
     "execution_count": 31,
     "metadata": {},
     "output_type": "execute_result"
    }
   ],
   "source": [
    "xarr"
   ]
  },
  {
   "cell_type": "code",
   "execution_count": 32,
   "metadata": {},
   "outputs": [],
   "source": [
    "yarr = np.array([2.1, 2.2, 2.3, 2.4, 2.5])"
   ]
  },
  {
   "cell_type": "code",
   "execution_count": 33,
   "metadata": {},
   "outputs": [
    {
     "data": {
      "text/plain": [
       "array([2.1, 2.2, 2.3, 2.4, 2.5])"
      ]
     },
     "execution_count": 33,
     "metadata": {},
     "output_type": "execute_result"
    }
   ],
   "source": [
    "yarr"
   ]
  },
  {
   "cell_type": "code",
   "execution_count": 34,
   "metadata": {},
   "outputs": [],
   "source": [
    "cond = np.array([True, False, True, True, False])"
   ]
  },
  {
   "cell_type": "code",
   "execution_count": 35,
   "metadata": {},
   "outputs": [],
   "source": [
    "result = [(x if c else y) for x, y, c in zip(xarr, yarr, cond)]"
   ]
  },
  {
   "cell_type": "code",
   "execution_count": 36,
   "metadata": {},
   "outputs": [
    {
     "data": {
      "text/plain": [
       "[1.1, 2.2, 1.3, 1.4, 2.5]"
      ]
     },
     "execution_count": 36,
     "metadata": {},
     "output_type": "execute_result"
    }
   ],
   "source": [
    "result"
   ]
  },
  {
   "cell_type": "code",
   "execution_count": 37,
   "metadata": {},
   "outputs": [],
   "source": [
    "result = np.where(cond, xarr, yarr)"
   ]
  },
  {
   "cell_type": "code",
   "execution_count": 38,
   "metadata": {},
   "outputs": [
    {
     "data": {
      "text/plain": [
       "array([1.1, 2.2, 1.3, 1.4, 2.5])"
      ]
     },
     "execution_count": 38,
     "metadata": {},
     "output_type": "execute_result"
    }
   ],
   "source": [
    "result"
   ]
  },
  {
   "cell_type": "code",
   "execution_count": 39,
   "metadata": {},
   "outputs": [],
   "source": [
    "arr = np.random.randn(4,4)"
   ]
  },
  {
   "cell_type": "code",
   "execution_count": 40,
   "metadata": {},
   "outputs": [
    {
     "data": {
      "text/plain": [
       "array([[ 0.11203542, -1.36585034, -0.49584246,  1.26388207],\n",
       "       [ 0.65448742,  0.16769813,  2.47417852, -0.52020116],\n",
       "       [ 0.25261631,  0.2038998 ,  0.82100681,  0.88822608],\n",
       "       [ 0.22127977, -0.1986574 ,  1.3646794 ,  0.71155482]])"
      ]
     },
     "execution_count": 40,
     "metadata": {},
     "output_type": "execute_result"
    }
   ],
   "source": [
    "arr"
   ]
  },
  {
   "cell_type": "code",
   "execution_count": 41,
   "metadata": {},
   "outputs": [
    {
     "data": {
      "text/plain": [
       "array([[ 2, -2, -2,  2],\n",
       "       [ 2,  2,  2, -2],\n",
       "       [ 2,  2,  2,  2],\n",
       "       [ 2, -2,  2,  2]])"
      ]
     },
     "execution_count": 41,
     "metadata": {},
     "output_type": "execute_result"
    }
   ],
   "source": [
    "np.where(arr > 0, 2, -2)"
   ]
  },
  {
   "cell_type": "code",
   "execution_count": 42,
   "metadata": {},
   "outputs": [
    {
     "data": {
      "text/plain": [
       "array([[ 2.        , -1.36585034, -0.49584246,  2.        ],\n",
       "       [ 2.        ,  2.        ,  2.        , -0.52020116],\n",
       "       [ 2.        ,  2.        ,  2.        ,  2.        ],\n",
       "       [ 2.        , -0.1986574 ,  2.        ,  2.        ]])"
      ]
     },
     "execution_count": 42,
     "metadata": {},
     "output_type": "execute_result"
    }
   ],
   "source": [
    "np.where(arr > 0, 2, arr)"
   ]
  },
  {
   "cell_type": "code",
   "execution_count": 43,
   "metadata": {},
   "outputs": [],
   "source": [
    "arr = np.random.randn(5, 4)"
   ]
  },
  {
   "cell_type": "code",
   "execution_count": 44,
   "metadata": {},
   "outputs": [
    {
     "data": {
      "text/plain": [
       "array([[ 0.40348584,  0.77394432,  0.77338794, -0.07280492],\n",
       "       [ 0.05266643,  0.54019359, -0.24276464, -0.16811803],\n",
       "       [ 1.12108495, -0.44407427,  0.61962185, -0.6439479 ],\n",
       "       [ 1.0586711 , -1.23789977,  1.43125071, -0.47031056],\n",
       "       [-1.58925347,  0.36172817, -1.89390838, -1.78651434]])"
      ]
     },
     "execution_count": 44,
     "metadata": {},
     "output_type": "execute_result"
    }
   ],
   "source": [
    "arr"
   ]
  },
  {
   "cell_type": "code",
   "execution_count": 45,
   "metadata": {},
   "outputs": [
    {
     "data": {
      "text/plain": [
       "-0.07067806880545036"
      ]
     },
     "execution_count": 45,
     "metadata": {},
     "output_type": "execute_result"
    }
   ],
   "source": [
    "arr.mean()"
   ]
  },
  {
   "cell_type": "code",
   "execution_count": 46,
   "metadata": {},
   "outputs": [
    {
     "data": {
      "text/plain": [
       "-0.07067806880545036"
      ]
     },
     "execution_count": 46,
     "metadata": {},
     "output_type": "execute_result"
    }
   ],
   "source": [
    "np.mean(arr)"
   ]
  },
  {
   "cell_type": "code",
   "execution_count": 47,
   "metadata": {},
   "outputs": [
    {
     "data": {
      "text/plain": [
       "<function ndarray.sum>"
      ]
     },
     "execution_count": 47,
     "metadata": {},
     "output_type": "execute_result"
    }
   ],
   "source": [
    "arr.sum"
   ]
  },
  {
   "cell_type": "code",
   "execution_count": 48,
   "metadata": {},
   "outputs": [
    {
     "data": {
      "text/plain": [
       "-1.4135613761090071"
      ]
     },
     "execution_count": 48,
     "metadata": {},
     "output_type": "execute_result"
    }
   ],
   "source": [
    "arr.sum()"
   ]
  },
  {
   "cell_type": "code",
   "execution_count": 49,
   "metadata": {},
   "outputs": [
    {
     "data": {
      "text/plain": [
       "array([ 0.46950329,  0.04549434,  0.16317116,  0.19542787, -1.226987  ])"
      ]
     },
     "execution_count": 49,
     "metadata": {},
     "output_type": "execute_result"
    }
   ],
   "source": [
    "arr.mean(axis=1)"
   ]
  },
  {
   "cell_type": "code",
   "execution_count": 50,
   "metadata": {},
   "outputs": [
    {
     "data": {
      "text/plain": [
       "array([ 1.04665485, -0.00610796,  0.68758748, -3.14169575])"
      ]
     },
     "execution_count": 50,
     "metadata": {},
     "output_type": "execute_result"
    }
   ],
   "source": [
    "arr.sum(0)"
   ]
  },
  {
   "cell_type": "code",
   "execution_count": 51,
   "metadata": {},
   "outputs": [],
   "source": [
    "arr = np.array([[0,1,2], [3,4,5], [6,7,8]])"
   ]
  },
  {
   "cell_type": "code",
   "execution_count": 52,
   "metadata": {},
   "outputs": [
    {
     "data": {
      "text/plain": [
       "array([[0, 1, 2],\n",
       "       [3, 4, 5],\n",
       "       [6, 7, 8]])"
      ]
     },
     "execution_count": 52,
     "metadata": {},
     "output_type": "execute_result"
    }
   ],
   "source": [
    "arr"
   ]
  },
  {
   "cell_type": "code",
   "execution_count": 53,
   "metadata": {},
   "outputs": [
    {
     "data": {
      "text/plain": [
       "array([[ 0,  1,  2],\n",
       "       [ 3,  5,  7],\n",
       "       [ 9, 12, 15]])"
      ]
     },
     "execution_count": 53,
     "metadata": {},
     "output_type": "execute_result"
    }
   ],
   "source": [
    "arr.cumsum(0)"
   ]
  },
  {
   "cell_type": "code",
   "execution_count": 54,
   "metadata": {},
   "outputs": [
    {
     "data": {
      "text/plain": [
       "array([[  0,   0,   0],\n",
       "       [  3,  12,  60],\n",
       "       [  6,  42, 336]])"
      ]
     },
     "execution_count": 54,
     "metadata": {},
     "output_type": "execute_result"
    }
   ],
   "source": [
    "arr.cumprod(1)"
   ]
  },
  {
   "cell_type": "code",
   "execution_count": 55,
   "metadata": {},
   "outputs": [],
   "source": [
    "arr = np.random.randn(100)"
   ]
  },
  {
   "cell_type": "code",
   "execution_count": 56,
   "metadata": {},
   "outputs": [
    {
     "data": {
      "text/plain": [
       "array([ 0.13514567,  0.6593577 ,  0.92960019,  0.27465408, -1.13960087,\n",
       "        0.90673941, -0.29900323, -0.57899122,  0.69196502,  0.55318741,\n",
       "       -0.364286  ,  0.11198595, -1.00519018, -1.24946694, -0.77273191,\n",
       "        1.47094672,  1.06927342,  0.0995482 , -1.57018361, -0.66692808,\n",
       "        2.7039746 ,  0.01315706,  0.22658857, -1.14187392, -0.44456866,\n",
       "       -0.10842965, -0.0832073 ,  0.58381292, -0.98578318,  0.62661027,\n",
       "       -0.21927473, -0.67106672, -0.65109588,  0.0617966 ,  0.16826279,\n",
       "        0.44075059,  1.52128403,  0.84436025,  0.95471223,  0.16664072,\n",
       "        0.66049774, -0.01466548,  1.64254409, -0.29196653, -1.03391868,\n",
       "       -1.49870327,  0.22106874, -0.62500426,  0.79774969,  0.19967509,\n",
       "       -0.43042179,  0.08114812,  0.31453263, -0.78525937,  1.47220644,\n",
       "       -1.92120634, -0.29909831,  1.10990384, -0.79354175,  0.18053788,\n",
       "       -0.62072255, -0.89204225, -0.03347974, -0.75513124,  1.61393686,\n",
       "        0.41291142,  0.5871558 ,  0.32016362,  0.20893046,  0.03737723,\n",
       "        1.14997296, -0.67266024,  0.30245732, -0.22630691, -1.49306545,\n",
       "       -0.7782868 ,  0.25732986, -0.15100111,  1.12418245,  0.09744256,\n",
       "        1.3822807 , -0.02717414, -1.10898348, -0.76177039, -0.20030257,\n",
       "        0.73090086, -0.4277285 ,  0.08196689,  0.09485278, -0.7799372 ,\n",
       "        0.65677173, -0.37530798, -2.70533226, -0.57221137, -0.65319038,\n",
       "       -0.6800692 , -0.41359015, -0.00389287,  0.02333244, -1.2693727 ])"
      ]
     },
     "execution_count": 56,
     "metadata": {},
     "output_type": "execute_result"
    }
   ],
   "source": [
    "arr"
   ]
  },
  {
   "cell_type": "code",
   "execution_count": 57,
   "metadata": {},
   "outputs": [
    {
     "data": {
      "text/plain": [
       "50"
      ]
     },
     "execution_count": 57,
     "metadata": {},
     "output_type": "execute_result"
    }
   ],
   "source": [
    "(arr>0).sum()"
   ]
  },
  {
   "cell_type": "code",
   "execution_count": 58,
   "metadata": {},
   "outputs": [],
   "source": [
    "bools = np.array([False, False, True, False])"
   ]
  },
  {
   "cell_type": "code",
   "execution_count": 59,
   "metadata": {},
   "outputs": [
    {
     "data": {
      "text/plain": [
       "True"
      ]
     },
     "execution_count": 59,
     "metadata": {},
     "output_type": "execute_result"
    }
   ],
   "source": [
    "bools.any()"
   ]
  },
  {
   "cell_type": "code",
   "execution_count": 60,
   "metadata": {},
   "outputs": [
    {
     "data": {
      "text/plain": [
       "False"
      ]
     },
     "execution_count": 60,
     "metadata": {},
     "output_type": "execute_result"
    }
   ],
   "source": [
    "bools.all()"
   ]
  },
  {
   "cell_type": "code",
   "execution_count": 62,
   "metadata": {},
   "outputs": [
    {
     "data": {
      "text/plain": [
       "False"
      ]
     },
     "execution_count": 62,
     "metadata": {},
     "output_type": "execute_result"
    }
   ],
   "source": [
    "bools.all(0)"
   ]
  },
  {
   "cell_type": "code",
   "execution_count": 68,
   "metadata": {},
   "outputs": [],
   "source": [
    "arr = np.random.randn(5,3)"
   ]
  },
  {
   "cell_type": "code",
   "execution_count": 64,
   "metadata": {},
   "outputs": [
    {
     "data": {
      "text/plain": [
       "array([ 0.69660615, -0.62691095,  0.00466895, -1.50482633, -1.0908314 ,\n",
       "       -0.32430346,  3.13748724, -0.28001694])"
      ]
     },
     "execution_count": 64,
     "metadata": {},
     "output_type": "execute_result"
    }
   ],
   "source": [
    "arr"
   ]
  },
  {
   "cell_type": "code",
   "execution_count": 65,
   "metadata": {},
   "outputs": [],
   "source": [
    "arr.sort()"
   ]
  },
  {
   "cell_type": "code",
   "execution_count": 66,
   "metadata": {},
   "outputs": [
    {
     "data": {
      "text/plain": [
       "array([-1.50482633, -1.0908314 , -0.62691095, -0.32430346, -0.28001694,\n",
       "        0.00466895,  0.69660615,  3.13748724])"
      ]
     },
     "execution_count": 66,
     "metadata": {},
     "output_type": "execute_result"
    }
   ],
   "source": [
    "arr"
   ]
  },
  {
   "cell_type": "code",
   "execution_count": 67,
   "metadata": {},
   "outputs": [
    {
     "ename": "NameError",
     "evalue": "name 'randn' is not defined",
     "output_type": "error",
     "traceback": [
      "\u001b[0;31m---------------------------------------------------------------------------\u001b[0m",
      "\u001b[0;31mNameError\u001b[0m                                 Traceback (most recent call last)",
      "\u001b[0;32m<ipython-input-67-d6e7db405719>\u001b[0m in \u001b[0;36m<module>\u001b[0;34m()\u001b[0m\n\u001b[0;32m----> 1\u001b[0;31m \u001b[0marr\u001b[0m \u001b[0;34m=\u001b[0m \u001b[0mrandn\u001b[0m\u001b[0;34m(\u001b[0m\u001b[0;36m5\u001b[0m\u001b[0;34m,\u001b[0m\u001b[0;36m3\u001b[0m\u001b[0;34m)\u001b[0m\u001b[0;34m\u001b[0m\u001b[0m\n\u001b[0m",
      "\u001b[0;31mNameError\u001b[0m: name 'randn' is not defined"
     ]
    }
   ],
   "source": [
    "arr = randn(5,3)"
   ]
  },
  {
   "cell_type": "code",
   "execution_count": 69,
   "metadata": {},
   "outputs": [],
   "source": [
    "arr = np.random.randn(5,3)"
   ]
  },
  {
   "cell_type": "code",
   "execution_count": 70,
   "metadata": {},
   "outputs": [
    {
     "data": {
      "text/plain": [
       "array([[ 0.60379543, -1.8027344 ,  1.17836003],\n",
       "       [ 0.81643141, -1.53018795,  1.90003716],\n",
       "       [-1.39353188, -0.50157916,  0.72907548],\n",
       "       [ 2.24076035,  1.67509046,  0.73827831],\n",
       "       [-0.43644827,  0.25513876, -0.92796014]])"
      ]
     },
     "execution_count": 70,
     "metadata": {},
     "output_type": "execute_result"
    }
   ],
   "source": [
    "arr"
   ]
  },
  {
   "cell_type": "code",
   "execution_count": 71,
   "metadata": {},
   "outputs": [],
   "source": [
    "arr.sort(1)"
   ]
  },
  {
   "cell_type": "code",
   "execution_count": 72,
   "metadata": {},
   "outputs": [
    {
     "data": {
      "text/plain": [
       "array([[-1.8027344 ,  0.60379543,  1.17836003],\n",
       "       [-1.53018795,  0.81643141,  1.90003716],\n",
       "       [-1.39353188, -0.50157916,  0.72907548],\n",
       "       [ 0.73827831,  1.67509046,  2.24076035],\n",
       "       [-0.92796014, -0.43644827,  0.25513876]])"
      ]
     },
     "execution_count": 72,
     "metadata": {},
     "output_type": "execute_result"
    }
   ],
   "source": [
    "arr"
   ]
  },
  {
   "cell_type": "code",
   "execution_count": 73,
   "metadata": {},
   "outputs": [],
   "source": [
    "large_arr = np.random.randn(1000)"
   ]
  },
  {
   "cell_type": "code",
   "execution_count": 74,
   "metadata": {},
   "outputs": [],
   "source": [
    "large_arr.sort()"
   ]
  },
  {
   "cell_type": "code",
   "execution_count": 75,
   "metadata": {},
   "outputs": [
    {
     "data": {
      "text/plain": [
       "array([-3.21414025e+00, -3.08414327e+00, -2.91262971e+00, -2.89521721e+00,\n",
       "       -2.71107050e+00, -2.65685106e+00, -2.63729369e+00, -2.54727248e+00,\n",
       "       -2.54080877e+00, -2.51726340e+00, -2.51275903e+00, -2.40573193e+00,\n",
       "       -2.35834974e+00, -2.30518819e+00, -2.27382307e+00, -2.25600808e+00,\n",
       "       -2.21353081e+00, -2.20692088e+00, -2.19292891e+00, -2.16033924e+00,\n",
       "       -2.15990005e+00, -2.13693806e+00, -2.10705893e+00, -2.09754716e+00,\n",
       "       -2.08684160e+00, -2.03994371e+00, -2.02007538e+00, -2.01184865e+00,\n",
       "       -2.00775874e+00, -1.98074621e+00, -1.97356896e+00, -1.94437184e+00,\n",
       "       -1.87813309e+00, -1.87236259e+00, -1.82020881e+00, -1.80961716e+00,\n",
       "       -1.80757726e+00, -1.79922325e+00, -1.78673104e+00, -1.77402366e+00,\n",
       "       -1.76113312e+00, -1.75668550e+00, -1.74766569e+00, -1.73388866e+00,\n",
       "       -1.71537744e+00, -1.71198521e+00, -1.70480870e+00, -1.69801377e+00,\n",
       "       -1.67640188e+00, -1.64273394e+00, -1.63518083e+00, -1.63317449e+00,\n",
       "       -1.63001780e+00, -1.61420115e+00, -1.60451575e+00, -1.58526130e+00,\n",
       "       -1.58100513e+00, -1.56772328e+00, -1.56075693e+00, -1.55415553e+00,\n",
       "       -1.54774652e+00, -1.54648407e+00, -1.51485886e+00, -1.50313802e+00,\n",
       "       -1.49783460e+00, -1.48621672e+00, -1.48044271e+00, -1.47534613e+00,\n",
       "       -1.46945675e+00, -1.46380235e+00, -1.46349011e+00, -1.45416834e+00,\n",
       "       -1.45235625e+00, -1.45146897e+00, -1.45073161e+00, -1.44771578e+00,\n",
       "       -1.42843323e+00, -1.40210667e+00, -1.39205786e+00, -1.37991334e+00,\n",
       "       -1.35810787e+00, -1.35453603e+00, -1.34764930e+00, -1.34230876e+00,\n",
       "       -1.33072597e+00, -1.29245581e+00, -1.29174839e+00, -1.28846712e+00,\n",
       "       -1.28370173e+00, -1.28155034e+00, -1.27273619e+00, -1.26336396e+00,\n",
       "       -1.26269450e+00, -1.25879781e+00, -1.25408349e+00, -1.25158013e+00,\n",
       "       -1.24727445e+00, -1.24390314e+00, -1.24257127e+00, -1.24119026e+00,\n",
       "       -1.23080610e+00, -1.23000753e+00, -1.22288020e+00, -1.21876503e+00,\n",
       "       -1.21290930e+00, -1.20194828e+00, -1.19979128e+00, -1.19443528e+00,\n",
       "       -1.19323283e+00, -1.19059203e+00, -1.18673897e+00, -1.16460656e+00,\n",
       "       -1.16447479e+00, -1.16218032e+00, -1.16053062e+00, -1.15804950e+00,\n",
       "       -1.15264358e+00, -1.14033593e+00, -1.14009021e+00, -1.13467252e+00,\n",
       "       -1.12903606e+00, -1.12654861e+00, -1.12598622e+00, -1.12239440e+00,\n",
       "       -1.11969756e+00, -1.11184295e+00, -1.11070965e+00, -1.10050216e+00,\n",
       "       -1.10038660e+00, -1.09035164e+00, -1.08980195e+00, -1.08150483e+00,\n",
       "       -1.06553194e+00, -1.06419971e+00, -1.06323724e+00, -1.05799661e+00,\n",
       "       -1.04798742e+00, -1.04075842e+00, -1.03447989e+00, -1.03102183e+00,\n",
       "       -1.03042446e+00, -1.02622680e+00, -1.02207312e+00, -1.01970912e+00,\n",
       "       -1.01862431e+00, -1.01601922e+00, -1.01439279e+00, -1.01114920e+00,\n",
       "       -1.01025583e+00, -1.00485940e+00, -1.00396851e+00, -9.96673891e-01,\n",
       "       -9.88445788e-01, -9.88256177e-01, -9.79533827e-01, -9.79135816e-01,\n",
       "       -9.78683245e-01, -9.77862780e-01, -9.72736698e-01, -9.70953631e-01,\n",
       "       -9.68095342e-01, -9.67900859e-01, -9.64581470e-01, -9.64230555e-01,\n",
       "       -9.61891096e-01, -9.59949292e-01, -9.56043126e-01, -9.48761711e-01,\n",
       "       -9.48317997e-01, -9.38288326e-01, -9.36481918e-01, -9.35565120e-01,\n",
       "       -9.21313756e-01, -9.19705924e-01, -9.17456595e-01, -9.14996367e-01,\n",
       "       -9.11494899e-01, -9.11071477e-01, -9.10656364e-01, -9.10583438e-01,\n",
       "       -8.98895448e-01, -8.96488244e-01, -8.95391907e-01, -8.90624889e-01,\n",
       "       -8.90311258e-01, -8.89687225e-01, -8.87023253e-01, -8.83948868e-01,\n",
       "       -8.83109366e-01, -8.82931560e-01, -8.81911605e-01, -8.72828771e-01,\n",
       "       -8.66021167e-01, -8.59993351e-01, -8.59345996e-01, -8.58584175e-01,\n",
       "       -8.56189920e-01, -8.53432242e-01, -8.45543672e-01, -8.44697768e-01,\n",
       "       -8.33167289e-01, -8.31259589e-01, -8.22556394e-01, -8.21361291e-01,\n",
       "       -8.18686218e-01, -8.16549723e-01, -8.11704644e-01, -8.11672531e-01,\n",
       "       -8.09507484e-01, -8.08857041e-01, -8.08552921e-01, -8.03642168e-01,\n",
       "       -8.01888631e-01, -7.98906718e-01, -7.98273346e-01, -7.94091936e-01,\n",
       "       -7.90437345e-01, -7.89631439e-01, -7.87293609e-01, -7.86378346e-01,\n",
       "       -7.84522882e-01, -7.83012718e-01, -7.81789525e-01, -7.80802718e-01,\n",
       "       -7.78982367e-01, -7.75384663e-01, -7.73398048e-01, -7.66245815e-01,\n",
       "       -7.66109208e-01, -7.56563401e-01, -7.54674387e-01, -7.51875999e-01,\n",
       "       -7.47768969e-01, -7.43061384e-01, -7.33852135e-01, -7.32386915e-01,\n",
       "       -7.32175943e-01, -7.32082624e-01, -7.31960753e-01, -7.31767392e-01,\n",
       "       -7.25889200e-01, -7.25147300e-01, -7.21321458e-01, -7.16460935e-01,\n",
       "       -7.14436232e-01, -7.07637326e-01, -7.07565629e-01, -7.03393261e-01,\n",
       "       -6.92260957e-01, -6.91137475e-01, -6.85533016e-01, -6.83713795e-01,\n",
       "       -6.74002738e-01, -6.70822057e-01, -6.55224275e-01, -6.47489461e-01,\n",
       "       -6.44513330e-01, -6.41779963e-01, -6.38660166e-01, -6.37602304e-01,\n",
       "       -6.34109400e-01, -6.30297231e-01, -6.28516873e-01, -6.24730019e-01,\n",
       "       -6.21796403e-01, -6.21478190e-01, -6.12740068e-01, -6.06081955e-01,\n",
       "       -5.98904685e-01, -5.96368940e-01, -5.95058665e-01, -5.94885663e-01,\n",
       "       -5.93977552e-01, -5.93514436e-01, -5.93335212e-01, -5.92576816e-01,\n",
       "       -5.91268841e-01, -5.89511548e-01, -5.85556223e-01, -5.84285739e-01,\n",
       "       -5.80531154e-01, -5.78493281e-01, -5.77414175e-01, -5.74519576e-01,\n",
       "       -5.73760659e-01, -5.71063620e-01, -5.70771071e-01, -5.68293488e-01,\n",
       "       -5.67374996e-01, -5.66311587e-01, -5.65870563e-01, -5.65785991e-01,\n",
       "       -5.61618368e-01, -5.48293364e-01, -5.43191868e-01, -5.34737731e-01,\n",
       "       -5.32618833e-01, -5.25213919e-01, -5.25184178e-01, -5.22325636e-01,\n",
       "       -5.20409730e-01, -5.19731854e-01, -5.18857470e-01, -5.13475359e-01,\n",
       "       -5.11467972e-01, -5.09215773e-01, -5.07583457e-01, -5.05372742e-01,\n",
       "       -5.03680019e-01, -5.02024920e-01, -4.95463485e-01, -4.94906754e-01,\n",
       "       -4.90133206e-01, -4.89333098e-01, -4.89190990e-01, -4.87241314e-01,\n",
       "       -4.80925244e-01, -4.79303894e-01, -4.75779505e-01, -4.68840797e-01,\n",
       "       -4.64084764e-01, -4.63673155e-01, -4.63587436e-01, -4.61867149e-01,\n",
       "       -4.49352356e-01, -4.48992076e-01, -4.45344710e-01, -4.44203730e-01,\n",
       "       -4.42833218e-01, -4.41409388e-01, -4.36946818e-01, -4.36002711e-01,\n",
       "       -4.35944945e-01, -4.29405194e-01, -4.25331035e-01, -4.21928360e-01,\n",
       "       -4.17268928e-01, -4.14362616e-01, -4.10074306e-01, -4.08558285e-01,\n",
       "       -4.01917424e-01, -3.97056009e-01, -3.96556744e-01, -3.78660551e-01,\n",
       "       -3.75769931e-01, -3.72387676e-01, -3.69673625e-01, -3.67160435e-01,\n",
       "       -3.62671992e-01, -3.60239010e-01, -3.57223482e-01, -3.53344175e-01,\n",
       "       -3.47558250e-01, -3.47488428e-01, -3.45352340e-01, -3.38104436e-01,\n",
       "       -3.37488684e-01, -3.35733737e-01, -3.34563813e-01, -3.31374352e-01,\n",
       "       -3.27504870e-01, -3.25455163e-01, -3.19480059e-01, -3.17753410e-01,\n",
       "       -3.14561886e-01, -3.03312709e-01, -2.99616768e-01, -2.98910186e-01,\n",
       "       -2.97647279e-01, -2.97280496e-01, -2.95328053e-01, -2.86211291e-01,\n",
       "       -2.83671163e-01, -2.78186584e-01, -2.75232537e-01, -2.74534981e-01,\n",
       "       -2.68244879e-01, -2.67895230e-01, -2.67498721e-01, -2.66151109e-01,\n",
       "       -2.61721599e-01, -2.53345026e-01, -2.47935789e-01, -2.42430134e-01,\n",
       "       -2.39982210e-01, -2.39659198e-01, -2.36308134e-01, -2.34826041e-01,\n",
       "       -2.34316158e-01, -2.24092513e-01, -2.20853507e-01, -2.20427333e-01,\n",
       "       -2.20033282e-01, -2.17647517e-01, -2.14291699e-01, -2.03222567e-01,\n",
       "       -2.02709332e-01, -1.96002723e-01, -1.90117818e-01, -1.84338564e-01,\n",
       "       -1.80415544e-01, -1.79775881e-01, -1.78279163e-01, -1.76842890e-01,\n",
       "       -1.76341554e-01, -1.74333990e-01, -1.68468838e-01, -1.61120825e-01,\n",
       "       -1.60403355e-01, -1.60181095e-01, -1.60137079e-01, -1.57945979e-01,\n",
       "       -1.57758387e-01, -1.56827032e-01, -1.54789091e-01, -1.50324562e-01,\n",
       "       -1.49519025e-01, -1.48659753e-01, -1.48480039e-01, -1.45064065e-01,\n",
       "       -1.43998908e-01, -1.42869476e-01, -1.38661060e-01, -1.34815068e-01,\n",
       "       -1.34368094e-01, -1.30048853e-01, -1.25465834e-01, -1.24811243e-01,\n",
       "       -1.24480905e-01, -1.23825180e-01, -1.22603483e-01, -1.21014657e-01,\n",
       "       -1.20416058e-01, -1.20305736e-01, -1.15798119e-01, -1.13817466e-01,\n",
       "       -1.12890540e-01, -1.11753352e-01, -1.08670035e-01, -1.05308650e-01,\n",
       "       -1.02702517e-01, -9.98626139e-02, -9.81369074e-02, -9.73885418e-02,\n",
       "       -9.41748469e-02, -9.23030562e-02, -9.10824464e-02, -8.87818943e-02,\n",
       "       -8.80925591e-02, -8.72007845e-02, -8.60672421e-02, -8.58374098e-02,\n",
       "       -8.48701099e-02, -8.26187048e-02, -7.74628238e-02, -6.98004051e-02,\n",
       "       -6.87966139e-02, -6.61915641e-02, -5.81298188e-02, -4.57891231e-02,\n",
       "       -4.34828974e-02, -4.13477259e-02, -3.98886911e-02, -3.83497492e-02,\n",
       "       -3.70436069e-02, -3.60076584e-02, -3.39811811e-02, -3.10543830e-02,\n",
       "       -2.62231721e-02, -2.54186475e-02, -2.51197434e-02, -2.08963830e-02,\n",
       "       -1.90572245e-02, -1.20399573e-02, -8.73905714e-03, -3.41320807e-03,\n",
       "       -3.48774343e-04,  4.93406753e-04,  1.72644347e-03,  3.59858296e-03,\n",
       "        5.57871827e-03,  6.10218842e-03,  1.72113958e-02,  1.75837444e-02,\n",
       "        2.10240927e-02,  3.18283959e-02,  3.38015506e-02,  3.38533710e-02,\n",
       "        3.53194212e-02,  3.59589110e-02,  4.24888097e-02,  4.33148637e-02,\n",
       "        4.37098616e-02,  4.41142310e-02,  4.64744266e-02,  4.74266083e-02,\n",
       "        4.82084187e-02,  4.98882958e-02,  5.32872404e-02,  5.36501328e-02,\n",
       "        5.37462637e-02,  5.48013787e-02,  5.51097337e-02,  5.60845350e-02,\n",
       "        5.85935873e-02,  6.20795591e-02,  6.46957955e-02,  6.72735616e-02,\n",
       "        6.74790468e-02,  6.95832147e-02,  7.12033726e-02,  7.30274540e-02,\n",
       "        7.56154450e-02,  8.05249549e-02,  8.47764591e-02,  9.19574813e-02,\n",
       "        9.29592771e-02,  1.00319506e-01,  1.05388777e-01,  1.07478917e-01,\n",
       "        1.11438709e-01,  1.12139292e-01,  1.12304910e-01,  1.15734460e-01,\n",
       "        1.18116581e-01,  1.19437107e-01,  1.22159952e-01,  1.22315102e-01,\n",
       "        1.23620914e-01,  1.24066538e-01,  1.24943165e-01,  1.25052519e-01,\n",
       "        1.27105452e-01,  1.27811159e-01,  1.31580058e-01,  1.33229887e-01,\n",
       "        1.35078439e-01,  1.35669297e-01,  1.38048230e-01,  1.46368739e-01,\n",
       "        1.47869736e-01,  1.50392185e-01,  1.55495707e-01,  1.55875108e-01,\n",
       "        1.58380386e-01,  1.60925153e-01,  1.63272638e-01,  1.67733348e-01,\n",
       "        1.67804741e-01,  1.67834191e-01,  1.74816108e-01,  1.86034543e-01,\n",
       "        1.87753825e-01,  1.90576842e-01,  1.90700957e-01,  1.95936223e-01,\n",
       "        2.01711358e-01,  2.04925882e-01,  2.05875380e-01,  2.12424513e-01,\n",
       "        2.16027788e-01,  2.16100990e-01,  2.17903346e-01,  2.21997376e-01,\n",
       "        2.22790223e-01,  2.23181705e-01,  2.23253008e-01,  2.25038812e-01,\n",
       "        2.25257799e-01,  2.25999866e-01,  2.28475925e-01,  2.30015239e-01,\n",
       "        2.32997038e-01,  2.33225407e-01,  2.36811719e-01,  2.41301951e-01,\n",
       "        2.46372118e-01,  2.48866934e-01,  2.50776553e-01,  2.62357798e-01,\n",
       "        2.64291113e-01,  2.66689868e-01,  2.69037348e-01,  2.70103433e-01,\n",
       "        2.75761567e-01,  2.76471432e-01,  2.78532822e-01,  2.81629786e-01,\n",
       "        2.81774979e-01,  2.86857463e-01,  2.88090507e-01,  2.96800500e-01,\n",
       "        2.96837293e-01,  2.98365275e-01,  2.98725860e-01,  3.01321040e-01,\n",
       "        3.01636917e-01,  3.02575671e-01,  3.04589986e-01,  3.04904516e-01,\n",
       "        3.07007137e-01,  3.11280517e-01,  3.15712252e-01,  3.15752102e-01,\n",
       "        3.20971791e-01,  3.23926893e-01,  3.24777380e-01,  3.26931769e-01,\n",
       "        3.28801960e-01,  3.29267001e-01,  3.41516718e-01,  3.50381940e-01,\n",
       "        3.51943179e-01,  3.53985782e-01,  3.58940438e-01,  3.59051894e-01,\n",
       "        3.64890675e-01,  3.66474875e-01,  3.71886144e-01,  3.74136132e-01,\n",
       "        3.79100802e-01,  3.79905868e-01,  3.80685431e-01,  3.80770772e-01,\n",
       "        3.81632509e-01,  3.81778612e-01,  3.90439487e-01,  3.91482351e-01,\n",
       "        3.96423720e-01,  3.99608701e-01,  3.99848052e-01,  4.01329229e-01,\n",
       "        4.02464411e-01,  4.04062379e-01,  4.04289716e-01,  4.05777901e-01,\n",
       "        4.09225200e-01,  4.11284561e-01,  4.11630213e-01,  4.11752092e-01,\n",
       "        4.13457322e-01,  4.15810663e-01,  4.20391990e-01,  4.23908112e-01,\n",
       "        4.25275493e-01,  4.28119665e-01,  4.32853235e-01,  4.33868298e-01,\n",
       "        4.36217018e-01,  4.36512556e-01,  4.37114477e-01,  4.37638502e-01,\n",
       "        4.37942877e-01,  4.38347392e-01,  4.39187663e-01,  4.43846892e-01,\n",
       "        4.50727692e-01,  4.51589390e-01,  4.51896988e-01,  4.51985158e-01,\n",
       "        4.57711498e-01,  4.58074813e-01,  4.59159876e-01,  4.60227742e-01,\n",
       "        4.61271997e-01,  4.61998794e-01,  4.64724630e-01,  4.64962806e-01,\n",
       "        4.65138546e-01,  4.69985698e-01,  4.73728931e-01,  4.74574816e-01,\n",
       "        4.77928108e-01,  4.79000622e-01,  4.91584390e-01,  4.94508768e-01,\n",
       "        4.94531473e-01,  4.94616697e-01,  4.97116328e-01,  4.99470151e-01,\n",
       "        5.04943743e-01,  5.07562383e-01,  5.10277947e-01,  5.10728628e-01,\n",
       "        5.13858446e-01,  5.14076789e-01,  5.14977399e-01,  5.15537748e-01,\n",
       "        5.15604617e-01,  5.15854084e-01,  5.18272627e-01,  5.18845487e-01,\n",
       "        5.21020489e-01,  5.22381947e-01,  5.24474323e-01,  5.28457205e-01,\n",
       "        5.31678030e-01,  5.32101902e-01,  5.32697218e-01,  5.34044402e-01,\n",
       "        5.34909336e-01,  5.39496196e-01,  5.39915153e-01,  5.42231261e-01,\n",
       "        5.48211407e-01,  5.49802599e-01,  5.55703847e-01,  5.58947759e-01,\n",
       "        5.61110135e-01,  5.61960512e-01,  5.62364428e-01,  5.68510047e-01,\n",
       "        5.75571788e-01,  5.79893187e-01,  5.83411560e-01,  5.85050410e-01,\n",
       "        5.90841953e-01,  5.91017864e-01,  5.92087220e-01,  5.94627333e-01,\n",
       "        5.99784868e-01,  5.99839964e-01,  6.05537828e-01,  6.09461179e-01,\n",
       "        6.12204062e-01,  6.13086938e-01,  6.15384590e-01,  6.19768223e-01,\n",
       "        6.21564199e-01,  6.24552011e-01,  6.25715831e-01,  6.26918555e-01,\n",
       "        6.27128464e-01,  6.27227507e-01,  6.39369746e-01,  6.39930799e-01,\n",
       "        6.46024590e-01,  6.61107314e-01,  6.65172460e-01,  6.70209867e-01,\n",
       "        6.81806317e-01,  6.82510572e-01,  6.83876813e-01,  6.87720576e-01,\n",
       "        6.88181775e-01,  6.91894448e-01,  6.93955923e-01,  6.95494819e-01,\n",
       "        7.08135641e-01,  7.09337763e-01,  7.09362157e-01,  7.17572130e-01,\n",
       "        7.17787521e-01,  7.29426529e-01,  7.30486121e-01,  7.40969573e-01,\n",
       "        7.45344599e-01,  7.50166840e-01,  7.50736290e-01,  7.52097317e-01,\n",
       "        7.57331507e-01,  7.57955917e-01,  7.58014447e-01,  7.58135586e-01,\n",
       "        7.58512117e-01,  7.58675635e-01,  7.62447612e-01,  7.73138078e-01,\n",
       "        7.75084848e-01,  7.76981257e-01,  7.79550529e-01,  7.79689511e-01,\n",
       "        7.83623522e-01,  7.86448044e-01,  7.86754523e-01,  7.92692612e-01,\n",
       "        7.94899331e-01,  7.95465423e-01,  7.96198840e-01,  7.99772603e-01,\n",
       "        8.01504890e-01,  8.01679558e-01,  8.02203603e-01,  8.02336963e-01,\n",
       "        8.07355691e-01,  8.11302189e-01,  8.16499625e-01,  8.17449494e-01,\n",
       "        8.20448962e-01,  8.23175255e-01,  8.26540559e-01,  8.28990587e-01,\n",
       "        8.30268656e-01,  8.33531522e-01,  8.33819998e-01,  8.38115004e-01,\n",
       "        8.38450059e-01,  8.39722571e-01,  8.50859714e-01,  8.51991322e-01,\n",
       "        8.57929437e-01,  8.69386941e-01,  8.69951884e-01,  8.71690719e-01,\n",
       "        8.72524063e-01,  8.75420631e-01,  8.81034208e-01,  8.82528522e-01,\n",
       "        8.87696265e-01,  8.88625660e-01,  8.94309223e-01,  8.95198928e-01,\n",
       "        8.97549195e-01,  9.02031848e-01,  9.02634392e-01,  9.02895835e-01,\n",
       "        9.05754416e-01,  9.09167260e-01,  9.27809453e-01,  9.28117312e-01,\n",
       "        9.29177551e-01,  9.30008974e-01,  9.31011216e-01,  9.31071175e-01,\n",
       "        9.32174151e-01,  9.44340446e-01,  9.49912258e-01,  9.53286383e-01,\n",
       "        9.55248957e-01,  9.59227037e-01,  9.60774486e-01,  9.62382358e-01,\n",
       "        9.66758202e-01,  9.67866225e-01,  9.68611550e-01,  9.75269368e-01,\n",
       "        9.76893864e-01,  9.79282929e-01,  9.85798069e-01,  9.91895322e-01,\n",
       "        9.97831849e-01,  1.00528690e+00,  1.00620059e+00,  1.00808738e+00,\n",
       "        1.00892860e+00,  1.01860238e+00,  1.02513997e+00,  1.03892399e+00,\n",
       "        1.04270451e+00,  1.04358834e+00,  1.04877339e+00,  1.05137002e+00,\n",
       "        1.06570663e+00,  1.07528221e+00,  1.07760851e+00,  1.07931696e+00,\n",
       "        1.09090558e+00,  1.09100460e+00,  1.09293844e+00,  1.10401209e+00,\n",
       "        1.10714922e+00,  1.10911768e+00,  1.11256339e+00,  1.11359067e+00,\n",
       "        1.11614617e+00,  1.12181601e+00,  1.12417824e+00,  1.12904046e+00,\n",
       "        1.13523012e+00,  1.13587358e+00,  1.14463708e+00,  1.14578695e+00,\n",
       "        1.14780727e+00,  1.15175717e+00,  1.15243629e+00,  1.15356715e+00,\n",
       "        1.15772619e+00,  1.16373029e+00,  1.17419916e+00,  1.17433338e+00,\n",
       "        1.17720880e+00,  1.17826139e+00,  1.18364913e+00,  1.18437591e+00,\n",
       "        1.20174334e+00,  1.20537029e+00,  1.20779909e+00,  1.21799077e+00,\n",
       "        1.21835728e+00,  1.21838721e+00,  1.22632775e+00,  1.22805877e+00,\n",
       "        1.23063320e+00,  1.23218633e+00,  1.23223297e+00,  1.23270480e+00,\n",
       "        1.23435718e+00,  1.24596621e+00,  1.24838752e+00,  1.24927112e+00,\n",
       "        1.28349258e+00,  1.29268663e+00,  1.29911649e+00,  1.30501536e+00,\n",
       "        1.30706569e+00,  1.31132113e+00,  1.31961041e+00,  1.34066294e+00,\n",
       "        1.34596445e+00,  1.34686607e+00,  1.35827840e+00,  1.36618354e+00,\n",
       "        1.37086795e+00,  1.37482371e+00,  1.38764528e+00,  1.39928040e+00,\n",
       "        1.40373983e+00,  1.40643065e+00,  1.41208327e+00,  1.41803890e+00,\n",
       "        1.41838503e+00,  1.42014897e+00,  1.42026505e+00,  1.42294883e+00,\n",
       "        1.42392773e+00,  1.44689812e+00,  1.45262524e+00,  1.46968541e+00,\n",
       "        1.47414228e+00,  1.47888713e+00,  1.48751184e+00,  1.48824464e+00,\n",
       "        1.49204906e+00,  1.49623020e+00,  1.49988539e+00,  1.51827353e+00,\n",
       "        1.53705423e+00,  1.54802326e+00,  1.55553806e+00,  1.55861812e+00,\n",
       "        1.55944054e+00,  1.57690951e+00,  1.58303194e+00,  1.58801709e+00,\n",
       "        1.59352981e+00,  1.59457882e+00,  1.59941445e+00,  1.60313812e+00,\n",
       "        1.61323865e+00,  1.62850613e+00,  1.62890272e+00,  1.63175512e+00,\n",
       "        1.63900209e+00,  1.64855856e+00,  1.65892723e+00,  1.68033678e+00,\n",
       "        1.68162127e+00,  1.68751013e+00,  1.69066428e+00,  1.70826090e+00,\n",
       "        1.73507364e+00,  1.73947540e+00,  1.76360611e+00,  1.80449851e+00,\n",
       "        1.82580303e+00,  1.83065822e+00,  1.83236821e+00,  1.83394883e+00,\n",
       "        1.83398028e+00,  1.84261601e+00,  1.86210906e+00,  1.91712055e+00,\n",
       "        1.93280592e+00,  1.94013276e+00,  1.94756734e+00,  1.97240628e+00,\n",
       "        2.03201767e+00,  2.03628340e+00,  2.05135346e+00,  2.06495674e+00,\n",
       "        2.10480360e+00,  2.13291598e+00,  2.16441734e+00,  2.22086804e+00,\n",
       "        2.25356897e+00,  2.26073257e+00,  2.34685896e+00,  2.35705057e+00,\n",
       "        2.44561721e+00,  2.46062971e+00,  2.46463197e+00,  2.46871280e+00,\n",
       "        2.55539644e+00,  2.64373088e+00,  2.66359832e+00,  2.68552021e+00,\n",
       "        2.71087573e+00,  2.94531666e+00,  2.97387939e+00,  3.07262568e+00])"
      ]
     },
     "execution_count": 75,
     "metadata": {},
     "output_type": "execute_result"
    }
   ],
   "source": [
    "large_arr"
   ]
  },
  {
   "cell_type": "code",
   "execution_count": 98,
   "metadata": {},
   "outputs": [
    {
     "name": "stdout",
     "output_type": "stream",
     "text": [
      "Error: 0.4964100319027255\n",
      "Error: 0.4999925048663855\n",
      "Error: 0.49999150705001694\n",
      "Error: 0.49999858099926836\n",
      "Error: 0.5000019898950353\n",
      "Error: 0.5000031436768444\n",
      "Output After Training:\n",
      "[[0.5000402 ]\n",
      " [0.50002658]\n",
      " [0.50002653]\n",
      " [0.50002589]]\n"
     ]
    }
   ],
   "source": [
    "import numpy as np\n",
    "\n",
    "# sigmoid function\n",
    "def nonlin(x,deriv=False):\n",
    "    if(deriv==True):\n",
    "        return x*(1-x)\n",
    "    return 1/(1+np.exp(-x))\n",
    "    \n",
    "# input dataset\n",
    "X = np.array([  [0,0,1],\n",
    "                [0,1,1],\n",
    "                [1,0,1],\n",
    "                [1,1,1] ])\n",
    "    \n",
    "# output dataset            \n",
    "y = np.array([[0,1,1,0]]).T\n",
    "\n",
    "# seed random numbers to make calculation\n",
    "# deterministic (just a good practice)\n",
    "np.random.seed(1)\n",
    "\n",
    "# initialize weights randomly with mean 0\n",
    "syn0 = 2*np.random.random((3,4)) - 1\n",
    "syn1 = 2*np.random.random((4,1)) - 1\n",
    "\n",
    "for j in range(60000):\n",
    "\n",
    "    # forward propagation\n",
    "    l0 = X\n",
    "    l1 = nonlin(np.dot(l0,syn0))\n",
    "    l2 = nonlin(np.dot(l1,syn1))\n",
    "\n",
    "    # how much did we miss?\n",
    "    l2_error = y - l2\n",
    "\n",
    "    if (j% 10000) == 0:\n",
    "        print (\"Error: \" + str(np.mean(np.abs(l2_error))))\n",
    "    # multiply how much we missed by the \n",
    "    # slope of the sigmoid at the values in l1\n",
    "    l2_delta = l2_error * nonlin(l2,deriv=True)\n",
    "\n",
    "    # how much did we miss?\n",
    "    l1_error = y - l2_delta.dot(syn1.T)\n",
    "\n",
    "    # multiply how much we missed by the \n",
    "    # slope of the sigmoid at the values in l1\n",
    "    l1_delta = l1_error * nonlin(l1,deriv=True)\n",
    "\n",
    "    # update weights\n",
    "    syn1 += np.dot(l1.T,l2_delta)\n",
    "    syn0 += np.dot(l0.T,l1_delta)\n",
    "\n",
    "print (\"Output After Training:\")\n",
    "#print (l1)\n",
    "print (l2)\n"
   ]
  },
  {
   "cell_type": "code",
   "execution_count": 14,
   "metadata": {},
   "outputs": [],
   "source": [
    "large_arr = np.random.randn(1000)"
   ]
  },
  {
   "cell_type": "code",
   "execution_count": 15,
   "metadata": {},
   "outputs": [],
   "source": [
    "large_arr.sort()"
   ]
  },
  {
   "cell_type": "code",
   "execution_count": 16,
   "metadata": {},
   "outputs": [
    {
     "data": {
      "text/plain": [
       "1000"
      ]
     },
     "execution_count": 16,
     "metadata": {},
     "output_type": "execute_result"
    }
   ],
   "source": [
    "len(large_arr)"
   ]
  },
  {
   "cell_type": "code",
   "execution_count": 17,
   "metadata": {},
   "outputs": [
    {
     "data": {
      "text/plain": [
       "-1.5089156997216027"
      ]
     },
     "execution_count": 17,
     "metadata": {},
     "output_type": "execute_result"
    }
   ],
   "source": [
    "large_arr[int(0.05*len(large_arr))]"
   ]
  },
  {
   "cell_type": "code",
   "execution_count": 19,
   "metadata": {},
   "outputs": [
    {
     "data": {
      "text/plain": [
       "array([-2.78929263e+00, -2.72586394e+00, -2.49523212e+00, -2.46599724e+00,\n",
       "       -2.39764329e+00, -2.36346860e+00, -2.20836387e+00, -2.15670526e+00,\n",
       "       -2.13483482e+00, -2.09724060e+00, -2.08163865e+00, -2.08016719e+00,\n",
       "       -2.03073607e+00, -1.99541692e+00, -1.97987568e+00, -1.96983363e+00,\n",
       "       -1.96845418e+00, -1.96261300e+00, -1.95950744e+00, -1.94725692e+00,\n",
       "       -1.86970888e+00, -1.86828594e+00, -1.86645046e+00, -1.86583679e+00,\n",
       "       -1.83797562e+00, -1.83170831e+00, -1.81506277e+00, -1.81342356e+00,\n",
       "       -1.80736019e+00, -1.73865429e+00, -1.71629052e+00, -1.71526055e+00,\n",
       "       -1.70673775e+00, -1.67352915e+00, -1.66473832e+00, -1.65451545e+00,\n",
       "       -1.64175665e+00, -1.63504202e+00, -1.62247894e+00, -1.61136381e+00,\n",
       "       -1.61065948e+00, -1.60952126e+00, -1.60805641e+00, -1.59291203e+00,\n",
       "       -1.57336552e+00, -1.54672407e+00, -1.54507707e+00, -1.51405120e+00,\n",
       "       -1.51132290e+00, -1.50929239e+00, -1.50891570e+00, -1.48445404e+00,\n",
       "       -1.48403655e+00, -1.48344341e+00, -1.46359705e+00, -1.46212022e+00,\n",
       "       -1.46019604e+00, -1.45578944e+00, -1.45471366e+00, -1.44432760e+00,\n",
       "       -1.43929644e+00, -1.43810487e+00, -1.43708227e+00, -1.43049861e+00,\n",
       "       -1.41664500e+00, -1.40456061e+00, -1.40019621e+00, -1.39908551e+00,\n",
       "       -1.39857823e+00, -1.39161943e+00, -1.38173594e+00, -1.38022720e+00,\n",
       "       -1.37689976e+00, -1.36959979e+00, -1.36876034e+00, -1.36835033e+00,\n",
       "       -1.35136197e+00, -1.35055772e+00, -1.34873652e+00, -1.34230444e+00,\n",
       "       -1.33802268e+00, -1.33592999e+00, -1.33451328e+00, -1.32842466e+00,\n",
       "       -1.32152796e+00, -1.31421482e+00, -1.31343719e+00, -1.30180944e+00,\n",
       "       -1.29252962e+00, -1.29156270e+00, -1.27059960e+00, -1.25832919e+00,\n",
       "       -1.25402074e+00, -1.25371414e+00, -1.24909366e+00, -1.24846416e+00,\n",
       "       -1.24655045e+00, -1.24274572e+00, -1.24186801e+00, -1.22142358e+00,\n",
       "       -1.21394405e+00, -1.21248978e+00, -1.20666594e+00, -1.20102365e+00,\n",
       "       -1.19846815e+00, -1.19750486e+00, -1.19676314e+00, -1.18945435e+00,\n",
       "       -1.18866887e+00, -1.18845766e+00, -1.18575760e+00, -1.18283883e+00,\n",
       "       -1.17163637e+00, -1.16885828e+00, -1.16690261e+00, -1.16001878e+00,\n",
       "       -1.15520637e+00, -1.15164342e+00, -1.14562293e+00, -1.14032228e+00,\n",
       "       -1.12959516e+00, -1.12585498e+00, -1.12249958e+00, -1.11512167e+00,\n",
       "       -1.11036305e+00, -1.10593508e+00, -1.09624336e+00, -1.09621414e+00,\n",
       "       -1.09596716e+00, -1.09067489e+00, -1.08648220e+00, -1.08131006e+00,\n",
       "       -1.08018492e+00, -1.07811369e+00, -1.07367517e+00, -1.07292381e+00,\n",
       "       -1.06924922e+00, -1.06680280e+00, -1.06622357e+00, -1.06249314e+00,\n",
       "       -1.05924133e+00, -1.05828522e+00, -1.05825656e+00, -1.04450061e+00,\n",
       "       -1.04156690e+00, -1.03803876e+00, -1.03740233e+00, -1.02896049e+00,\n",
       "       -1.02392542e+00, -1.01701414e+00, -1.00947983e+00, -1.00468132e+00,\n",
       "       -1.00367701e+00, -9.95240965e-01, -9.80281604e-01, -9.80102954e-01,\n",
       "       -9.79712687e-01, -9.74252482e-01, -9.66752207e-01, -9.52724019e-01,\n",
       "       -9.42655570e-01, -9.39760745e-01, -9.37287275e-01, -9.26690996e-01,\n",
       "       -9.17976037e-01, -9.16934497e-01, -9.15033222e-01, -9.12135377e-01,\n",
       "       -9.09426313e-01, -9.07976989e-01, -9.07116413e-01, -9.05445220e-01,\n",
       "       -9.05430659e-01, -9.01809983e-01, -8.98667624e-01, -8.92655044e-01,\n",
       "       -8.92459222e-01, -8.80476796e-01, -8.73320466e-01, -8.69718646e-01,\n",
       "       -8.59906607e-01, -8.51837416e-01, -8.50052377e-01, -8.48243915e-01,\n",
       "       -8.41843354e-01, -8.38822246e-01, -8.37715849e-01, -8.33557266e-01,\n",
       "       -8.26085781e-01, -8.16656569e-01, -8.16589338e-01, -8.12619744e-01,\n",
       "       -8.07682118e-01, -8.05024651e-01, -8.03686473e-01, -8.02172839e-01,\n",
       "       -7.95893042e-01, -7.87802052e-01, -7.87773741e-01, -7.79106955e-01,\n",
       "       -7.77662709e-01, -7.72595242e-01, -7.72294423e-01, -7.71836011e-01,\n",
       "       -7.65445375e-01, -7.63692140e-01, -7.62812359e-01, -7.61873497e-01,\n",
       "       -7.57674141e-01, -7.53974405e-01, -7.49703817e-01, -7.47953741e-01,\n",
       "       -7.41454208e-01, -7.41436089e-01, -7.30859186e-01, -7.27902435e-01,\n",
       "       -7.27615119e-01, -7.25790592e-01, -7.24205807e-01, -7.20034693e-01,\n",
       "       -7.15237659e-01, -7.10116519e-01, -7.08432028e-01, -7.03161633e-01,\n",
       "       -7.02076086e-01, -6.87645346e-01, -6.83928129e-01, -6.79682740e-01,\n",
       "       -6.78530900e-01, -6.70941726e-01, -6.69490457e-01, -6.67418246e-01,\n",
       "       -6.66460132e-01, -6.62364088e-01, -6.60480310e-01, -6.52043199e-01,\n",
       "       -6.50355022e-01, -6.50093566e-01, -6.49903769e-01, -6.49833475e-01,\n",
       "       -6.41334166e-01, -6.33116395e-01, -6.31942384e-01, -6.26864647e-01,\n",
       "       -6.21666848e-01, -6.20750251e-01, -6.18492419e-01, -6.09985254e-01,\n",
       "       -6.06948224e-01, -6.05101499e-01, -6.00313952e-01, -5.95460330e-01,\n",
       "       -5.94425937e-01, -5.94019420e-01, -5.92808426e-01, -5.88836015e-01,\n",
       "       -5.88525046e-01, -5.86403112e-01, -5.85133038e-01, -5.80797223e-01,\n",
       "       -5.79977243e-01, -5.76054326e-01, -5.71647118e-01, -5.68658083e-01,\n",
       "       -5.67683121e-01, -5.66510229e-01, -5.64047665e-01, -5.63778079e-01,\n",
       "       -5.60536918e-01, -5.57332309e-01, -5.44483829e-01, -5.43622490e-01,\n",
       "       -5.42468640e-01, -5.42127581e-01, -5.41144631e-01, -5.35090385e-01,\n",
       "       -5.28904330e-01, -5.24020891e-01, -5.16744430e-01, -5.10796132e-01,\n",
       "       -5.04665004e-01, -4.97530203e-01, -4.90306587e-01, -4.86332931e-01,\n",
       "       -4.86025934e-01, -4.84563014e-01, -4.75107145e-01, -4.74747842e-01,\n",
       "       -4.66604714e-01, -4.65621133e-01, -4.64273791e-01, -4.54457789e-01,\n",
       "       -4.53427565e-01, -4.53168603e-01, -4.48877808e-01, -4.48630634e-01,\n",
       "       -4.46966837e-01, -4.46019731e-01, -4.34240750e-01, -4.29873695e-01,\n",
       "       -4.29749985e-01, -4.24656445e-01, -4.23317141e-01, -4.20949849e-01,\n",
       "       -4.19178066e-01, -4.16111580e-01, -4.14810154e-01, -4.10207518e-01,\n",
       "       -4.08368817e-01, -4.07407300e-01, -4.01954426e-01, -3.99268172e-01,\n",
       "       -3.97474857e-01, -3.96485889e-01, -3.92454083e-01, -3.91276814e-01,\n",
       "       -3.91030473e-01, -3.87606795e-01, -3.86648475e-01, -3.85198896e-01,\n",
       "       -3.84748851e-01, -3.80485789e-01, -3.79358891e-01, -3.74837416e-01,\n",
       "       -3.74327030e-01, -3.71815125e-01, -3.68750377e-01, -3.65665637e-01,\n",
       "       -3.62915614e-01, -3.62193860e-01, -3.61645939e-01, -3.59420800e-01,\n",
       "       -3.57767251e-01, -3.57296968e-01, -3.53590742e-01, -3.51376813e-01,\n",
       "       -3.47786945e-01, -3.47095970e-01, -3.44324954e-01, -3.43950613e-01,\n",
       "       -3.42259203e-01, -3.40828283e-01, -3.39044568e-01, -3.34732221e-01,\n",
       "       -3.33968065e-01, -3.33645009e-01, -3.32324847e-01, -3.28800552e-01,\n",
       "       -3.26341235e-01, -3.24193673e-01, -3.20435019e-01, -3.19002247e-01,\n",
       "       -3.18617634e-01, -3.16732875e-01, -3.16123687e-01, -3.13786944e-01,\n",
       "       -3.10582787e-01, -3.09669871e-01, -3.08170741e-01, -3.07040600e-01,\n",
       "       -3.05173199e-01, -2.92375569e-01, -2.92244313e-01, -2.88594908e-01,\n",
       "       -2.87788777e-01, -2.80088064e-01, -2.78358934e-01, -2.78077889e-01,\n",
       "       -2.77126663e-01, -2.75048374e-01, -2.70705632e-01, -2.68040464e-01,\n",
       "       -2.67629553e-01, -2.66336975e-01, -2.65162116e-01, -2.64960679e-01,\n",
       "       -2.50704910e-01, -2.49173883e-01, -2.48730537e-01, -2.47864187e-01,\n",
       "       -2.47515015e-01, -2.46440010e-01, -2.42932770e-01, -2.42873147e-01,\n",
       "       -2.42752188e-01, -2.38177368e-01, -2.36615707e-01, -2.34664708e-01,\n",
       "       -2.31404238e-01, -2.29341570e-01, -2.29188082e-01, -2.28765269e-01,\n",
       "       -2.25849026e-01, -2.25127476e-01, -2.17418175e-01, -2.14182506e-01,\n",
       "       -2.11912923e-01, -2.06062412e-01, -2.04725979e-01, -2.04480564e-01,\n",
       "       -2.01576670e-01, -2.00727627e-01, -2.00299884e-01, -1.99532915e-01,\n",
       "       -1.92820909e-01, -1.86597474e-01, -1.84283823e-01, -1.84220632e-01,\n",
       "       -1.82012328e-01, -1.80724182e-01, -1.78994620e-01, -1.78612917e-01,\n",
       "       -1.78377921e-01, -1.76772177e-01, -1.72099969e-01, -1.69774023e-01,\n",
       "       -1.67414734e-01, -1.66925971e-01, -1.66599572e-01, -1.65770661e-01,\n",
       "       -1.62765646e-01, -1.62244626e-01, -1.57808158e-01, -1.56275402e-01,\n",
       "       -1.56006913e-01, -1.49903328e-01, -1.46620101e-01, -1.42369198e-01,\n",
       "       -1.31314032e-01, -1.31089751e-01, -1.27222700e-01, -1.25759497e-01,\n",
       "       -1.25379754e-01, -1.23883329e-01, -1.23668037e-01, -1.20421948e-01,\n",
       "       -1.19206974e-01, -1.19109333e-01, -1.15694754e-01, -1.13054771e-01,\n",
       "       -1.11383371e-01, -1.10844461e-01, -1.10753972e-01, -1.03077561e-01,\n",
       "       -1.01948485e-01, -9.60268118e-02, -9.38770353e-02, -9.27487449e-02,\n",
       "       -9.19732990e-02, -8.91549477e-02, -8.38076406e-02, -8.35994580e-02,\n",
       "       -8.32785734e-02, -8.08039697e-02, -7.90439789e-02, -7.47282050e-02,\n",
       "       -7.08728983e-02, -7.01567733e-02, -6.93490583e-02, -6.67777766e-02,\n",
       "       -6.64925724e-02, -6.58892111e-02, -6.44400521e-02, -6.31029339e-02,\n",
       "       -6.24915933e-02, -6.17220658e-02, -6.04733419e-02, -5.38380363e-02,\n",
       "       -5.15299278e-02, -4.75920373e-02, -4.67400041e-02, -2.85159589e-02,\n",
       "       -2.51272184e-02, -2.06106463e-02, -1.66164233e-02, -1.51471314e-02,\n",
       "       -1.00034517e-02, -6.96458019e-03, -6.30402526e-03, -3.21878358e-03,\n",
       "       -8.05168969e-04,  4.96045706e-03,  9.01800229e-03,  1.29879568e-02,\n",
       "        1.31289070e-02,  1.51891454e-02,  1.85410029e-02,  2.01876051e-02,\n",
       "        2.10112800e-02,  2.28859748e-02,  2.54625357e-02,  2.55285300e-02,\n",
       "        2.65582962e-02,  2.75443598e-02,  2.79234375e-02,  2.80125696e-02,\n",
       "        3.13952196e-02,  3.17692315e-02,  3.20325282e-02,  3.55856729e-02,\n",
       "        3.79550710e-02,  3.82216401e-02,  4.21554422e-02,  4.38773070e-02,\n",
       "        4.41398360e-02,  4.77197866e-02,  4.80970280e-02,  5.04286679e-02,\n",
       "        5.76080399e-02,  5.93232226e-02,  6.00977379e-02,  6.72969781e-02,\n",
       "        6.89698049e-02,  6.89830824e-02,  6.90859577e-02,  7.08366439e-02,\n",
       "        7.23259201e-02,  7.40096006e-02,  7.41526743e-02,  7.47724499e-02,\n",
       "        7.52543854e-02,  7.59370065e-02,  7.69130679e-02,  8.02505877e-02,\n",
       "        8.47969274e-02,  9.03411837e-02,  9.03511798e-02,  9.07585717e-02,\n",
       "        9.71230136e-02,  1.01177037e-01,  1.03162996e-01,  1.08062655e-01,\n",
       "        1.13218040e-01,  1.14247927e-01,  1.15155406e-01,  1.21258512e-01,\n",
       "        1.21806086e-01,  1.23125049e-01,  1.25095939e-01,  1.32091903e-01,\n",
       "        1.40773181e-01,  1.41675184e-01,  1.42952740e-01,  1.49312670e-01,\n",
       "        1.50705284e-01,  1.51308685e-01,  1.52443873e-01,  1.52736704e-01,\n",
       "        1.54553831e-01,  1.55311499e-01,  1.55393264e-01,  1.57985440e-01,\n",
       "        1.58514884e-01,  1.61444428e-01,  1.64448912e-01,  1.65363153e-01,\n",
       "        1.73458325e-01,  1.79732556e-01,  1.80871222e-01,  1.81067417e-01,\n",
       "        1.81214267e-01,  1.83104069e-01,  1.83930578e-01,  1.96270208e-01,\n",
       "        1.98609381e-01,  2.02239055e-01,  2.02806060e-01,  2.03237984e-01,\n",
       "        2.04555630e-01,  2.05545234e-01,  2.06972476e-01,  2.09813153e-01,\n",
       "        2.09932307e-01,  2.10902031e-01,  2.14181466e-01,  2.15714494e-01,\n",
       "        2.17682550e-01,  2.28177057e-01,  2.28238773e-01,  2.31503950e-01,\n",
       "        2.32791942e-01,  2.32832299e-01,  2.33164307e-01,  2.34854014e-01,\n",
       "        2.36285809e-01,  2.36726540e-01,  2.37358832e-01,  2.38426792e-01,\n",
       "        2.43581549e-01,  2.43611235e-01,  2.47508552e-01,  2.52111942e-01,\n",
       "        2.54829012e-01,  2.56479127e-01,  2.57342766e-01,  2.63585484e-01,\n",
       "        2.65257243e-01,  2.65660989e-01,  2.69678216e-01,  2.71000114e-01,\n",
       "        2.75718044e-01,  2.78034080e-01,  2.78076626e-01,  2.78128846e-01,\n",
       "        2.81247183e-01,  2.84110568e-01,  2.88456730e-01,  2.91178158e-01,\n",
       "        2.95563293e-01,  2.96438430e-01,  2.96724191e-01,  3.00195039e-01,\n",
       "        3.04182668e-01,  3.04215956e-01,  3.06412380e-01,  3.07802622e-01,\n",
       "        3.10754231e-01,  3.11072572e-01,  3.14776191e-01,  3.15579325e-01,\n",
       "        3.15872183e-01,  3.20079016e-01,  3.21782472e-01,  3.25037050e-01,\n",
       "        3.25057428e-01,  3.26073228e-01,  3.26579877e-01,  3.30797130e-01,\n",
       "        3.38304765e-01,  3.39427099e-01,  3.40144814e-01,  3.40276183e-01,\n",
       "        3.46859335e-01,  3.53063086e-01,  3.61353470e-01,  3.65838343e-01,\n",
       "        3.70746187e-01,  3.70912963e-01,  3.72993789e-01,  3.74253917e-01,\n",
       "        3.75768777e-01,  3.75884436e-01,  3.79691880e-01,  3.79813691e-01,\n",
       "        3.84609369e-01,  3.84885498e-01,  3.87410579e-01,  3.90118032e-01,\n",
       "        3.90786616e-01,  3.91282655e-01,  3.91852899e-01,  3.92380822e-01,\n",
       "        3.92687052e-01,  3.93521041e-01,  3.93839297e-01,  3.95569068e-01,\n",
       "        3.98798415e-01,  4.01845265e-01,  4.08132050e-01,  4.10770953e-01,\n",
       "        4.12690176e-01,  4.15311254e-01,  4.16416505e-01,  4.17391777e-01,\n",
       "        4.21779155e-01,  4.27562074e-01,  4.28102671e-01,  4.30095328e-01,\n",
       "        4.31429744e-01,  4.34949454e-01,  4.36612771e-01,  4.40163449e-01,\n",
       "        4.44181050e-01,  4.45115762e-01,  4.45773564e-01,  4.47520691e-01,\n",
       "        4.51793809e-01,  4.54952242e-01,  4.57716492e-01,  4.59103141e-01,\n",
       "        4.60485591e-01,  4.61212588e-01,  4.61428910e-01,  4.62420790e-01,\n",
       "        4.62572041e-01,  4.66158672e-01,  4.70559593e-01,  4.73241391e-01,\n",
       "        4.74627168e-01,  4.78566158e-01,  4.82542201e-01,  4.87594206e-01,\n",
       "        4.98581897e-01,  5.01604168e-01,  5.04910343e-01,  5.12145798e-01,\n",
       "        5.18531830e-01,  5.23333941e-01,  5.27639731e-01,  5.30205761e-01,\n",
       "        5.30246773e-01,  5.33171983e-01,  5.33810912e-01,  5.37947613e-01,\n",
       "        5.41014592e-01,  5.46763519e-01,  5.48882898e-01,  5.63855976e-01,\n",
       "        5.64344866e-01,  5.65754326e-01,  5.81591594e-01,  5.81925184e-01,\n",
       "        5.83387534e-01,  5.87072919e-01,  5.88294164e-01,  5.90561703e-01,\n",
       "        5.90902752e-01,  5.93725153e-01,  5.93896902e-01,  5.94734704e-01,\n",
       "        6.01627042e-01,  6.04153641e-01,  6.06940331e-01,  6.11264661e-01,\n",
       "        6.14620186e-01,  6.19344838e-01,  6.22562797e-01,  6.25811471e-01,\n",
       "        6.29587927e-01,  6.37361814e-01,  6.42224910e-01,  6.42774661e-01,\n",
       "        6.43883465e-01,  6.53640257e-01,  6.54620037e-01,  6.56284079e-01,\n",
       "        6.62174421e-01,  6.64393981e-01,  6.68213932e-01,  6.70120197e-01,\n",
       "        6.71134802e-01,  6.73513457e-01,  6.73716075e-01,  6.80179779e-01,\n",
       "        6.80212162e-01,  6.83384231e-01,  6.84249500e-01,  6.84836490e-01,\n",
       "        6.88512671e-01,  6.90031686e-01,  6.94450393e-01,  6.99048210e-01,\n",
       "        7.04932099e-01,  7.15679419e-01,  7.17589826e-01,  7.19859783e-01,\n",
       "        7.20232488e-01,  7.20758862e-01,  7.21887762e-01,  7.28410325e-01,\n",
       "        7.28535546e-01,  7.29975596e-01,  7.31613517e-01,  7.35969849e-01,\n",
       "        7.39503841e-01,  7.40097240e-01,  7.43258569e-01,  7.43828492e-01,\n",
       "        7.48048476e-01,  7.49185344e-01,  7.49991350e-01,  7.50733465e-01,\n",
       "        7.57418951e-01,  7.59462637e-01,  7.61399977e-01,  7.63428634e-01,\n",
       "        7.63680457e-01,  7.67966704e-01,  7.73884011e-01,  7.77146519e-01,\n",
       "        7.78034099e-01,  7.82532049e-01,  7.89893345e-01,  7.93779528e-01,\n",
       "        8.04095427e-01,  8.05104488e-01,  8.06299856e-01,  8.07487950e-01,\n",
       "        8.09738523e-01,  8.12535189e-01,  8.16847176e-01,  8.20068833e-01,\n",
       "        8.21054239e-01,  8.30564670e-01,  8.31760063e-01,  8.32228148e-01,\n",
       "        8.41797687e-01,  8.42583785e-01,  8.51805104e-01,  8.54442902e-01,\n",
       "        8.55735893e-01,  8.57234275e-01,  8.58146136e-01,  8.64260715e-01,\n",
       "        8.73418235e-01,  8.78455825e-01,  8.81879579e-01,  8.82365163e-01,\n",
       "        8.82388475e-01,  9.00871646e-01,  9.04958675e-01,  9.05864995e-01,\n",
       "        9.07451161e-01,  9.08324737e-01,  9.14013438e-01,  9.15331226e-01,\n",
       "        9.17196021e-01,  9.23992993e-01,  9.26582662e-01,  9.26750029e-01,\n",
       "        9.31138633e-01,  9.34967036e-01,  9.42305521e-01,  9.43464398e-01,\n",
       "        9.44917401e-01,  9.47871113e-01,  9.53263946e-01,  9.54016382e-01,\n",
       "        9.60306431e-01,  9.60820004e-01,  9.64887279e-01,  9.65268095e-01,\n",
       "        9.65514728e-01,  9.74102848e-01,  9.77428972e-01,  9.83158730e-01,\n",
       "        9.83384002e-01,  9.88216440e-01,  9.91506188e-01,  9.95352296e-01,\n",
       "        9.99051240e-01,  1.00739253e+00,  1.01037548e+00,  1.01375566e+00,\n",
       "        1.01576500e+00,  1.03252796e+00,  1.03268739e+00,  1.03724754e+00,\n",
       "        1.04520063e+00,  1.05313404e+00,  1.06241035e+00,  1.06475335e+00,\n",
       "        1.06561739e+00,  1.07279180e+00,  1.07365672e+00,  1.07525473e+00,\n",
       "        1.08361763e+00,  1.08396484e+00,  1.08514067e+00,  1.08966657e+00,\n",
       "        1.09823813e+00,  1.10050572e+00,  1.10089616e+00,  1.10728223e+00,\n",
       "        1.10799613e+00,  1.11059155e+00,  1.11090279e+00,  1.11116037e+00,\n",
       "        1.11861489e+00,  1.12064012e+00,  1.12422540e+00,  1.12581687e+00,\n",
       "        1.13534535e+00,  1.13658952e+00,  1.14194252e+00,  1.15154069e+00,\n",
       "        1.16138019e+00,  1.16202567e+00,  1.16220247e+00,  1.16527160e+00,\n",
       "        1.16783683e+00,  1.17422741e+00,  1.18072621e+00,  1.18417131e+00,\n",
       "        1.18467418e+00,  1.18528850e+00,  1.18965378e+00,  1.20479167e+00,\n",
       "        1.20957865e+00,  1.21461613e+00,  1.22180291e+00,  1.22396588e+00,\n",
       "        1.22684566e+00,  1.22823695e+00,  1.24829979e+00,  1.25005005e+00,\n",
       "        1.25111407e+00,  1.25297679e+00,  1.25599274e+00,  1.25718996e+00,\n",
       "        1.25764523e+00,  1.26696681e+00,  1.27493789e+00,  1.27578812e+00,\n",
       "        1.29548701e+00,  1.30243111e+00,  1.31207395e+00,  1.31859127e+00,\n",
       "        1.32243076e+00,  1.34103368e+00,  1.34131783e+00,  1.36703270e+00,\n",
       "        1.36863833e+00,  1.37751003e+00,  1.38927074e+00,  1.39139440e+00,\n",
       "        1.40248666e+00,  1.40434749e+00,  1.40936416e+00,  1.41448273e+00,\n",
       "        1.41899858e+00,  1.42646743e+00,  1.44073013e+00,  1.44613141e+00,\n",
       "        1.45531938e+00,  1.45999738e+00,  1.46677410e+00,  1.47825568e+00,\n",
       "        1.48918243e+00,  1.49007700e+00,  1.49161166e+00,  1.50685064e+00,\n",
       "        1.50989683e+00,  1.51306904e+00,  1.51808832e+00,  1.51825771e+00,\n",
       "        1.52091795e+00,  1.52691122e+00,  1.53430611e+00,  1.54744858e+00,\n",
       "        1.57580360e+00,  1.57828915e+00,  1.58474465e+00,  1.58575708e+00,\n",
       "        1.58909065e+00,  1.59948307e+00,  1.60750704e+00,  1.62802382e+00,\n",
       "        1.62842650e+00,  1.62918731e+00,  1.63374899e+00,  1.65905261e+00,\n",
       "        1.66294467e+00,  1.68849705e+00,  1.69182613e+00,  1.69471688e+00,\n",
       "        1.73217737e+00,  1.73542616e+00,  1.73738467e+00,  1.73907303e+00,\n",
       "        1.76300280e+00,  1.76760095e+00,  1.76939854e+00,  1.77260763e+00,\n",
       "        1.79536860e+00,  1.79969001e+00,  1.82577378e+00,  1.86888402e+00,\n",
       "        1.87869970e+00,  1.88009490e+00,  1.88139564e+00,  1.89579139e+00,\n",
       "        1.91382039e+00,  1.91598246e+00,  1.93812532e+00,  1.96362569e+00,\n",
       "        1.97020073e+00,  1.97969053e+00,  1.98011069e+00,  2.04202875e+00,\n",
       "        2.04670864e+00,  2.06017377e+00,  2.18617751e+00,  2.21191487e+00,\n",
       "        2.26313245e+00,  2.28234114e+00,  2.29686610e+00,  2.35489186e+00,\n",
       "        2.38520581e+00,  2.46162831e+00,  2.47441941e+00,  2.47613963e+00,\n",
       "        2.51968272e+00,  2.58180312e+00,  2.59779071e+00,  2.98315133e+00,\n",
       "        3.05878219e+00,  3.06429461e+00,  3.27056570e+00,  3.57335907e+00])"
      ]
     },
     "execution_count": 19,
     "metadata": {},
     "output_type": "execute_result"
    }
   ],
   "source": [
    "large_arr"
   ]
  },
  {
   "cell_type": "code",
   "execution_count": null,
   "metadata": {},
   "outputs": [],
   "source": []
  },
  {
   "cell_type": "code",
   "execution_count": 20,
   "metadata": {},
   "outputs": [],
   "source": [
    "arr = np.arange(10)"
   ]
  },
  {
   "cell_type": "code",
   "execution_count": 21,
   "metadata": {},
   "outputs": [],
   "source": [
    "np.save('some_array', arr)"
   ]
  },
  {
   "cell_type": "code",
   "execution_count": 22,
   "metadata": {},
   "outputs": [
    {
     "data": {
      "text/plain": [
       "array([0, 1, 2, 3, 4, 5, 6, 7, 8, 9])"
      ]
     },
     "execution_count": 22,
     "metadata": {},
     "output_type": "execute_result"
    }
   ],
   "source": [
    "np.load('some_array.npy')"
   ]
  },
  {
   "cell_type": "code",
   "execution_count": 23,
   "metadata": {},
   "outputs": [
    {
     "name": "stdout",
     "output_type": "stream",
     "text": [
      "cat: array_ex.txt: No such file or directory\r\n"
     ]
    },
    {
     "data": {
      "text/plain": [
       "(2, 3, 2, 1, 4, 3, 2, 1)"
      ]
     },
     "execution_count": 23,
     "metadata": {},
     "output_type": "execute_result"
    }
   ],
   "source": [
    "!cat array_ex.txt\n",
    "1,2,2,2,2,1,2,1\n",
    "2,2,3,3,2,1,2,3\n",
    "2,3,2,1,4,3,2,1"
   ]
  },
  {
   "cell_type": "code",
   "execution_count": 24,
   "metadata": {},
   "outputs": [],
   "source": [
    "arr = np.ones(3)"
   ]
  },
  {
   "cell_type": "code",
   "execution_count": 25,
   "metadata": {},
   "outputs": [
    {
     "data": {
      "text/plain": [
       "array([1., 1., 1.])"
      ]
     },
     "execution_count": 25,
     "metadata": {},
     "output_type": "execute_result"
    }
   ],
   "source": [
    "arr"
   ]
  },
  {
   "cell_type": "code",
   "execution_count": 26,
   "metadata": {},
   "outputs": [
    {
     "ename": "TypeError",
     "evalue": "data type not understood",
     "output_type": "error",
     "traceback": [
      "\u001b[0;31m---------------------------------------------------------------------------\u001b[0m",
      "\u001b[0;31mTypeError\u001b[0m                                 Traceback (most recent call last)",
      "\u001b[0;32m<ipython-input-26-e65b70011006>\u001b[0m in \u001b[0;36m<module>\u001b[0;34m()\u001b[0m\n\u001b[0;32m----> 1\u001b[0;31m \u001b[0marr\u001b[0m \u001b[0;34m=\u001b[0m \u001b[0mnp\u001b[0m\u001b[0;34m.\u001b[0m\u001b[0mones\u001b[0m\u001b[0;34m(\u001b[0m\u001b[0;36m3\u001b[0m\u001b[0;34m,\u001b[0m\u001b[0;36m3\u001b[0m\u001b[0;34m)\u001b[0m\u001b[0;34m\u001b[0m\u001b[0m\n\u001b[0m",
      "\u001b[0;32m~/.pyenv/versions/3.6.4/lib/python3.6/site-packages/numpy/core/numeric.py\u001b[0m in \u001b[0;36mones\u001b[0;34m(shape, dtype, order)\u001b[0m\n\u001b[1;32m    186\u001b[0m \u001b[0;34m\u001b[0m\u001b[0m\n\u001b[1;32m    187\u001b[0m     \"\"\"\n\u001b[0;32m--> 188\u001b[0;31m     \u001b[0ma\u001b[0m \u001b[0;34m=\u001b[0m \u001b[0mempty\u001b[0m\u001b[0;34m(\u001b[0m\u001b[0mshape\u001b[0m\u001b[0;34m,\u001b[0m \u001b[0mdtype\u001b[0m\u001b[0;34m,\u001b[0m \u001b[0morder\u001b[0m\u001b[0;34m)\u001b[0m\u001b[0;34m\u001b[0m\u001b[0m\n\u001b[0m\u001b[1;32m    189\u001b[0m     \u001b[0mmultiarray\u001b[0m\u001b[0;34m.\u001b[0m\u001b[0mcopyto\u001b[0m\u001b[0;34m(\u001b[0m\u001b[0ma\u001b[0m\u001b[0;34m,\u001b[0m \u001b[0;36m1\u001b[0m\u001b[0;34m,\u001b[0m \u001b[0mcasting\u001b[0m\u001b[0;34m=\u001b[0m\u001b[0;34m'unsafe'\u001b[0m\u001b[0;34m)\u001b[0m\u001b[0;34m\u001b[0m\u001b[0m\n\u001b[1;32m    190\u001b[0m     \u001b[0;32mreturn\u001b[0m \u001b[0ma\u001b[0m\u001b[0;34m\u001b[0m\u001b[0m\n",
      "\u001b[0;31mTypeError\u001b[0m: data type not understood"
     ]
    }
   ],
   "source": [
    "arr = np.ones(3,3)"
   ]
  },
  {
   "cell_type": "code",
   "execution_count": 27,
   "metadata": {},
   "outputs": [],
   "source": [
    "x = np.array([[1.,2.,3.],[4.,5.,6.]])"
   ]
  },
  {
   "cell_type": "code",
   "execution_count": 28,
   "metadata": {},
   "outputs": [
    {
     "data": {
      "text/plain": [
       "array([ 6., 15.])"
      ]
     },
     "execution_count": 28,
     "metadata": {},
     "output_type": "execute_result"
    }
   ],
   "source": [
    "np.dot(x, np.ones(3))"
   ]
  },
  {
   "cell_type": "code",
   "execution_count": 29,
   "metadata": {},
   "outputs": [],
   "source": [
    "from numpy.linalg import inv, qr"
   ]
  },
  {
   "cell_type": "code",
   "execution_count": 30,
   "metadata": {},
   "outputs": [],
   "source": [
    "X = np.random.randn(5,5)"
   ]
  },
  {
   "cell_type": "code",
   "execution_count": 31,
   "metadata": {},
   "outputs": [],
   "source": [
    "mat = X.T.dot(X)"
   ]
  },
  {
   "cell_type": "code",
   "execution_count": 32,
   "metadata": {},
   "outputs": [
    {
     "data": {
      "text/plain": [
       "array([[ 2.20379128,  1.84946103,  0.87580676, -1.4932163 ,  2.72032268],\n",
       "       [ 1.84946103,  4.06901776,  0.99909242, -0.85911245,  0.09363837],\n",
       "       [ 0.87580676,  0.99909242,  3.4473027 , -0.14465636, -0.40844408],\n",
       "       [-1.4932163 , -0.85911245, -0.14465636,  3.02243388, -4.3706906 ],\n",
       "       [ 2.72032268,  0.09363837, -0.40844408, -4.3706906 ,  8.21330628]])"
      ]
     },
     "execution_count": 32,
     "metadata": {},
     "output_type": "execute_result"
    }
   ],
   "source": [
    "mat"
   ]
  },
  {
   "cell_type": "code",
   "execution_count": 33,
   "metadata": {},
   "outputs": [
    {
     "data": {
      "text/plain": [
       "array([[ 6.0653351 , -3.18580448, -1.2754406 , -3.96699903, -4.14702989],\n",
       "       [-3.18580448,  2.00416392,  0.61035571,  2.43705338,  2.35954333],\n",
       "       [-1.2754406 ,  0.61035571,  0.58768037,  0.93102031,  0.94014436],\n",
       "       [-3.96699903,  2.43705338,  0.93102031,  4.49106725,  3.72233177],\n",
       "       [-4.14702989,  2.35954333,  0.94014436,  3.72233177,  3.49597002]])"
      ]
     },
     "execution_count": 33,
     "metadata": {},
     "output_type": "execute_result"
    }
   ],
   "source": [
    "inv(mat)"
   ]
  },
  {
   "cell_type": "code",
   "execution_count": 34,
   "metadata": {},
   "outputs": [
    {
     "data": {
      "text/plain": [
       "array([[ 1.00000000e+00,  3.61206959e-16, -1.19585989e-16,\n",
       "         2.72397850e-15,  3.55271368e-15],\n",
       "       [ 5.49421598e-16,  1.00000000e+00, -6.66364112e-16,\n",
       "        -2.94161657e-15,  3.27515792e-15],\n",
       "       [ 1.22973999e-15, -1.24624218e-16,  1.00000000e+00,\n",
       "        -3.97970970e-16,  1.11022302e-15],\n",
       "       [ 9.81884509e-16,  1.01742877e-15,  7.30482747e-16,\n",
       "         1.00000000e+00, -1.77635684e-15],\n",
       "       [ 0.00000000e+00,  3.55271368e-15,  0.00000000e+00,\n",
       "         0.00000000e+00,  1.00000000e+00]])"
      ]
     },
     "execution_count": 34,
     "metadata": {},
     "output_type": "execute_result"
    }
   ],
   "source": [
    "mat.dot(inv(mat))"
   ]
  },
  {
   "cell_type": "code",
   "execution_count": 35,
   "metadata": {},
   "outputs": [],
   "source": [
    "q, r = qr(mat)"
   ]
  },
  {
   "cell_type": "code",
   "execution_count": 36,
   "metadata": {},
   "outputs": [
    {
     "data": {
      "text/plain": [
       "array([[-4.3213528 , -3.24294168, -1.365765  ,  4.95427251, -8.02519887],\n",
       "       [ 0.        , -3.34750189, -1.42978354, -1.98913335,  4.92820721],\n",
       "       [ 0.        ,  0.        , -3.15075802, -0.82695475,  1.76741413],\n",
       "       [ 0.        ,  0.        ,  0.        , -1.42878121,  1.51729387],\n",
       "       [ 0.        ,  0.        ,  0.        ,  0.        ,  0.14180941]])"
      ]
     },
     "execution_count": 36,
     "metadata": {},
     "output_type": "execute_result"
    }
   ],
   "source": [
    "r"
   ]
  },
  {
   "cell_type": "code",
   "execution_count": 37,
   "metadata": {},
   "outputs": [
    {
     "data": {
      "text/plain": [
       "array([[-0.50997717, -0.05844203, -0.03038581, -0.62428936, -0.58808784],\n",
       "       [-0.42798196, -0.80092478,  0.23187418,  0.09810455,  0.33460544],\n",
       "       [-0.20266958, -0.10211997, -0.9599259 ,  0.09625095,  0.13332131],\n",
       "       [ 0.34554371, -0.0781077 , -0.06842736, -0.76888133,  0.52786165],\n",
       "       [-0.62950719,  0.58187174,  0.13845949, -0.0139838 ,  0.49576143]])"
      ]
     },
     "execution_count": 37,
     "metadata": {},
     "output_type": "execute_result"
    }
   ],
   "source": [
    "q"
   ]
  },
  {
   "cell_type": "code",
   "execution_count": 40,
   "metadata": {},
   "outputs": [
    {
     "ename": "NameError",
     "evalue": "name 'xrange' is not defined",
     "output_type": "error",
     "traceback": [
      "\u001b[0;31m---------------------------------------------------------------------------\u001b[0m",
      "\u001b[0;31mNameError\u001b[0m                                 Traceback (most recent call last)",
      "\u001b[0;32m<ipython-input-40-a9dfa6386371>\u001b[0m in \u001b[0;36m<module>\u001b[0;34m()\u001b[0m\n\u001b[1;32m      3\u001b[0m \u001b[0mwalk\u001b[0m \u001b[0;34m=\u001b[0m \u001b[0;34m[\u001b[0m\u001b[0mposition\u001b[0m\u001b[0;34m]\u001b[0m\u001b[0;34m\u001b[0m\u001b[0m\n\u001b[1;32m      4\u001b[0m \u001b[0msteps\u001b[0m \u001b[0;34m=\u001b[0m \u001b[0;36m1000\u001b[0m\u001b[0;34m\u001b[0m\u001b[0m\n\u001b[0;32m----> 5\u001b[0;31m \u001b[0;32mfor\u001b[0m \u001b[0mi\u001b[0m \u001b[0;32min\u001b[0m \u001b[0mxrange\u001b[0m\u001b[0;34m(\u001b[0m\u001b[0msteps\u001b[0m\u001b[0;34m)\u001b[0m\u001b[0;34m:\u001b[0m\u001b[0;34m\u001b[0m\u001b[0m\n\u001b[0m\u001b[1;32m      6\u001b[0m     \u001b[0mstep\u001b[0m \u001b[0;34m=\u001b[0m \u001b[0;36m1\u001b[0m \u001b[0;32mif\u001b[0m \u001b[0mrandom\u001b[0m\u001b[0;34m.\u001b[0m\u001b[0mrandint\u001b[0m\u001b[0;34m(\u001b[0m\u001b[0;36m0\u001b[0m\u001b[0;34m,\u001b[0m\u001b[0;36m1\u001b[0m\u001b[0;34m)\u001b[0m \u001b[0;32melse\u001b[0m \u001b[0;34m-\u001b[0m\u001b[0;36m1\u001b[0m\u001b[0;34m\u001b[0m\u001b[0m\n\u001b[1;32m      7\u001b[0m     \u001b[0mposition\u001b[0m \u001b[0;34m+=\u001b[0m \u001b[0mstep\u001b[0m\u001b[0;34m\u001b[0m\u001b[0m\n",
      "\u001b[0;31mNameError\u001b[0m: name 'xrange' is not defined"
     ]
    }
   ],
   "source": [
    "import random\n",
    "position = 0\n",
    "walk = [position]\n",
    "steps = 1000\n",
    "for i in xrange(steps):\n",
    "    step = 1 if random.randint(0,1) else -1\n",
    "    position += step\n",
    "    walk.append(position)"
   ]
  },
  {
   "cell_type": "code",
   "execution_count": 41,
   "metadata": {},
   "outputs": [],
   "source": [
    "nsteps = 1000"
   ]
  },
  {
   "cell_type": "code",
   "execution_count": 42,
   "metadata": {},
   "outputs": [],
   "source": [
    "draws = np.random.randint(0, 2, size=nsteps)"
   ]
  },
  {
   "cell_type": "code",
   "execution_count": 43,
   "metadata": {},
   "outputs": [],
   "source": [
    "steps = np.where(draws > 0, 1, -1)"
   ]
  },
  {
   "cell_type": "code",
   "execution_count": 44,
   "metadata": {},
   "outputs": [],
   "source": [
    "walk = steps.cumsum()"
   ]
  },
  {
   "cell_type": "code",
   "execution_count": 45,
   "metadata": {},
   "outputs": [
    {
     "data": {
      "text/plain": [
       "array([  1,   2,   3,   4,   3,   4,   5,   6,   5,   6,   7,   6,   5,\n",
       "         4,   5,   6,   5,   4,   5,   4,   5,   4,   3,   2,   1,   0,\n",
       "        -1,  -2,  -1,   0,   1,   2,   3,   2,   1,   2,   3,   2,   1,\n",
       "         0,   1,   2,   1,   0,   1,   0,   1,   2,   3,   4,   3,   4,\n",
       "         3,   2,   1,   2,   1,   2,   3,   2,   1,   0,  -1,  -2,  -3,\n",
       "        -4,  -3,  -2,  -3,  -4,  -3,  -4,  -5,  -6,  -5,  -4,  -3,  -4,\n",
       "        -3,  -4,  -3,  -2,  -1,  -2,  -3,  -2,  -1,   0,  -1,   0,  -1,\n",
       "        -2,  -1,   0,   1,   0,  -1,   0,   1,   0,  -1,   0,  -1,   0,\n",
       "         1,   0,   1,   0,   1,   0,  -1,  -2,  -1,  -2,  -3,  -4,  -3,\n",
       "        -4,  -5,  -4,  -3,  -2,  -3,  -4,  -3,  -4,  -5,  -4,  -5,  -4,\n",
       "        -3,  -2,  -1,  -2,  -3,  -4,  -5,  -4,  -3,  -4,  -5,  -4,  -5,\n",
       "        -4,  -5,  -6,  -7,  -6,  -5,  -6,  -5,  -6,  -7,  -8,  -9, -10,\n",
       "       -11, -10, -11, -10,  -9,  -8,  -7,  -8,  -9, -10,  -9, -10,  -9,\n",
       "       -10, -11, -12, -11, -10,  -9,  -8,  -9,  -8,  -7,  -6,  -7,  -8,\n",
       "        -9, -10, -11, -10,  -9,  -8,  -9, -10, -11, -10, -11, -10, -11,\n",
       "       -10,  -9, -10,  -9, -10, -11, -10, -11, -10,  -9, -10, -11, -10,\n",
       "       -11, -12, -13, -14, -13, -14, -13, -12, -13, -12, -13, -14, -13,\n",
       "       -14, -15, -16, -15, -16, -15, -14, -13, -14, -13, -14, -13, -14,\n",
       "       -13, -14, -13, -12, -13, -12, -13, -14, -15, -16, -15, -16, -15,\n",
       "       -16, -17, -16, -17, -16, -15, -16, -17, -16, -17, -18, -17, -18,\n",
       "       -19, -20, -21, -20, -19, -20, -21, -20, -19, -20, -21, -20, -21,\n",
       "       -20, -19, -20, -21, -20, -21, -20, -19, -18, -19, -20, -21, -22,\n",
       "       -21, -20, -21, -20, -19, -20, -19, -20, -21, -20, -19, -18, -17,\n",
       "       -16, -15, -14, -15, -16, -15, -16, -15, -14, -15, -14, -15, -16,\n",
       "       -17, -18, -17, -18, -17, -16, -15, -16, -15, -16, -17, -18, -19,\n",
       "       -18, -19, -20, -21, -22, -23, -24, -23, -24, -23, -24, -23, -24,\n",
       "       -23, -24, -23, -22, -23, -22, -21, -22, -23, -24, -25, -24, -23,\n",
       "       -24, -23, -24, -25, -24, -25, -26, -25, -24, -23, -22, -21, -20,\n",
       "       -19, -18, -19, -20, -19, -20, -21, -22, -21, -22, -21, -22, -21,\n",
       "       -20, -21, -20, -19, -18, -17, -16, -17, -16, -17, -18, -19, -18,\n",
       "       -17, -16, -17, -16, -15, -14, -15, -14, -15, -16, -17, -16, -15,\n",
       "       -16, -15, -16, -15, -14, -13, -12, -11, -12, -13, -14, -15, -14,\n",
       "       -15, -14, -15, -16, -17, -16, -15, -16, -17, -18, -19, -18, -19,\n",
       "       -20, -21, -22, -23, -24, -23, -24, -23, -24, -23, -24, -25, -24,\n",
       "       -23, -22, -21, -22, -23, -24, -25, -26, -25, -24, -25, -26, -27,\n",
       "       -28, -29, -30, -29, -28, -29, -30, -29, -28, -29, -30, -31, -30,\n",
       "       -29, -28, -29, -28, -27, -28, -29, -28, -29, -28, -29, -30, -31,\n",
       "       -30, -31, -32, -31, -30, -29, -30, -29, -28, -29, -28, -29, -30,\n",
       "       -31, -32, -33, -34, -35, -34, -33, -34, -33, -34, -35, -34, -35,\n",
       "       -36, -35, -34, -35, -34, -33, -32, -33, -32, -31, -32, -33, -32,\n",
       "       -33, -32, -31, -30, -31, -32, -31, -32, -33, -32, -33, -34, -33,\n",
       "       -32, -31, -30, -29, -30, -31, -32, -33, -34, -33, -34, -33, -34,\n",
       "       -33, -34, -33, -32, -33, -34, -35, -36, -37, -38, -39, -40, -39,\n",
       "       -38, -39, -40, -41, -42, -43, -42, -41, -42, -41, -40, -39, -38,\n",
       "       -39, -38, -39, -38, -39, -40, -39, -40, -39, -40, -41, -40, -39,\n",
       "       -40, -39, -38, -39, -40, -41, -40, -41, -40, -39, -40, -39, -40,\n",
       "       -41, -40, -39, -38, -37, -36, -35, -36, -37, -38, -39, -40, -41,\n",
       "       -40, -39, -38, -39, -40, -41, -42, -43, -42, -43, -42, -43, -44,\n",
       "       -45, -44, -45, -44, -43, -42, -43, -44, -43, -42, -41, -40, -41,\n",
       "       -40, -41, -40, -39, -40, -39, -40, -39, -38, -39, -40, -39, -38,\n",
       "       -39, -38, -37, -36, -37, -38, -37, -38, -37, -38, -39, -40, -39,\n",
       "       -38, -37, -36, -35, -36, -37, -36, -37, -38, -37, -38, -39, -38,\n",
       "       -37, -38, -39, -38, -39, -38, -39, -38, -37, -38, -37, -36, -35,\n",
       "       -34, -35, -36, -37, -36, -35, -36, -35, -34, -33, -32, -33, -32,\n",
       "       -33, -32, -31, -32, -33, -32, -31, -30, -31, -32, -31, -32, -31,\n",
       "       -30, -29, -30, -29, -30, -29, -28, -27, -28, -27, -28, -29, -28,\n",
       "       -27, -28, -29, -28, -29, -28, -29, -30, -29, -30, -29, -30, -29,\n",
       "       -28, -29, -30, -31, -30, -31, -32, -33, -34, -35, -34, -35, -36,\n",
       "       -35, -36, -37, -36, -37, -36, -37, -36, -35, -34, -33, -32, -33,\n",
       "       -32, -31, -30, -29, -30, -29, -28, -29, -28, -29, -28, -27, -26,\n",
       "       -27, -26, -25, -26, -27, -28, -29, -30, -31, -32, -33, -32, -31,\n",
       "       -30, -29, -30, -29, -28, -27, -26, -27, -28, -27, -26, -27, -28,\n",
       "       -27, -26, -27, -26, -27, -26, -27, -26, -25, -24, -23, -22, -21,\n",
       "       -20, -21, -20, -19, -18, -19, -18, -19, -18, -17, -18, -17, -18,\n",
       "       -19, -20, -21, -22, -21, -22, -23, -24, -23, -24, -25, -26, -25,\n",
       "       -24, -23, -24, -23, -22, -21, -20, -21, -22, -21, -20, -21, -20,\n",
       "       -21, -20, -19, -20, -19, -20, -21, -22, -21, -20, -21, -20, -21,\n",
       "       -20, -19, -20, -21, -20, -19, -20, -21, -22, -21, -22, -21, -20,\n",
       "       -21, -22, -23, -24, -25, -24, -25, -26, -25, -24, -23, -22, -23,\n",
       "       -24, -23, -24, -25, -26, -27, -28, -29, -30, -29, -30, -29, -28,\n",
       "       -27, -28, -27, -26, -27, -26, -27, -28, -27, -28, -27, -26, -27,\n",
       "       -28, -29, -30, -31, -30, -29, -30, -29, -30, -31, -30, -31, -32,\n",
       "       -33, -32, -31, -30, -29, -30, -29, -28, -27, -28, -27, -28, -27,\n",
       "       -26, -27, -26, -25, -24, -25, -24, -23, -22, -21, -22, -23, -24,\n",
       "       -23, -24, -25, -24, -23, -22, -23, -24, -25, -26, -25, -26, -25,\n",
       "       -24, -23, -24, -25, -24, -25, -26, -27, -26, -25, -26, -27, -28,\n",
       "       -29, -28, -27, -28, -27, -26, -25, -24, -23, -24, -23, -22])"
      ]
     },
     "execution_count": 45,
     "metadata": {},
     "output_type": "execute_result"
    }
   ],
   "source": [
    "walk"
   ]
  },
  {
   "cell_type": "code",
   "execution_count": 46,
   "metadata": {},
   "outputs": [
    {
     "data": {
      "text/plain": [
       "-45"
      ]
     },
     "execution_count": 46,
     "metadata": {},
     "output_type": "execute_result"
    }
   ],
   "source": [
    "walk.min()"
   ]
  },
  {
   "cell_type": "code",
   "execution_count": 47,
   "metadata": {},
   "outputs": [
    {
     "data": {
      "text/plain": [
       "7"
      ]
     },
     "execution_count": 47,
     "metadata": {},
     "output_type": "execute_result"
    }
   ],
   "source": [
    "walk.max()"
   ]
  },
  {
   "cell_type": "code",
   "execution_count": 48,
   "metadata": {},
   "outputs": [
    {
     "data": {
      "text/plain": [
       "155"
      ]
     },
     "execution_count": 48,
     "metadata": {},
     "output_type": "execute_result"
    }
   ],
   "source": [
    "(np.abs(walk) >= 10).argmax()"
   ]
  },
  {
   "cell_type": "code",
   "execution_count": 49,
   "metadata": {},
   "outputs": [],
   "source": [
    "from pandas import Series, DataFrame"
   ]
  },
  {
   "cell_type": "code",
   "execution_count": 50,
   "metadata": {},
   "outputs": [],
   "source": [
    "import pandas as pd"
   ]
  },
  {
   "cell_type": "code",
   "execution_count": 51,
   "metadata": {},
   "outputs": [],
   "source": [
    "obj = Series([4, 7, -5, 3])"
   ]
  },
  {
   "cell_type": "code",
   "execution_count": 52,
   "metadata": {},
   "outputs": [
    {
     "data": {
      "text/plain": [
       "0    4\n",
       "1    7\n",
       "2   -5\n",
       "3    3\n",
       "dtype: int64"
      ]
     },
     "execution_count": 52,
     "metadata": {},
     "output_type": "execute_result"
    }
   ],
   "source": [
    "obj"
   ]
  },
  {
   "cell_type": "code",
   "execution_count": 57,
   "metadata": {},
   "outputs": [],
   "source": [
    "obj2 = Series([4, 7, -5, 3], index=['d', 'b', 'a', 'c'])"
   ]
  },
  {
   "cell_type": "code",
   "execution_count": 54,
   "metadata": {},
   "outputs": [
    {
     "data": {
      "text/plain": [
       "d    4\n",
       "d    7\n",
       "d   -5\n",
       "d    3\n",
       "dtype: int64"
      ]
     },
     "execution_count": 54,
     "metadata": {},
     "output_type": "execute_result"
    }
   ],
   "source": [
    "obj2"
   ]
  },
  {
   "cell_type": "code",
   "execution_count": null,
   "metadata": {
    "collapsed": true
   },
   "outputs": [],
   "source": []
  },
  {
   "cell_type": "code",
   "execution_count": 58,
   "metadata": {},
   "outputs": [
    {
     "data": {
      "text/plain": [
       "d    4\n",
       "b    7\n",
       "a   -5\n",
       "c    3\n",
       "dtype: int64"
      ]
     },
     "execution_count": 58,
     "metadata": {},
     "output_type": "execute_result"
    }
   ],
   "source": [
    "obj2"
   ]
  },
  {
   "cell_type": "code",
   "execution_count": 59,
   "metadata": {},
   "outputs": [
    {
     "data": {
      "text/plain": [
       "d    4\n",
       "b    7\n",
       "c    3\n",
       "dtype: int64"
      ]
     },
     "execution_count": 59,
     "metadata": {},
     "output_type": "execute_result"
    }
   ],
   "source": [
    "obj2[obj2>0]"
   ]
  },
  {
   "cell_type": "code",
   "execution_count": 60,
   "metadata": {},
   "outputs": [
    {
     "data": {
      "text/plain": [
       "d     8\n",
       "b    14\n",
       "a   -10\n",
       "c     6\n",
       "dtype: int64"
      ]
     },
     "execution_count": 60,
     "metadata": {},
     "output_type": "execute_result"
    }
   ],
   "source": [
    "obj2*2"
   ]
  },
  {
   "cell_type": "code",
   "execution_count": 61,
   "metadata": {},
   "outputs": [
    {
     "data": {
      "text/plain": [
       "d      54.598150\n",
       "b    1096.633158\n",
       "a       0.006738\n",
       "c      20.085537\n",
       "dtype: float64"
      ]
     },
     "execution_count": 61,
     "metadata": {},
     "output_type": "execute_result"
    }
   ],
   "source": [
    "np.exp(obj2)"
   ]
  },
  {
   "cell_type": "code",
   "execution_count": 65,
   "metadata": {},
   "outputs": [],
   "source": [
    "data = {'state': ['Ohio', 'Ohio', 'Ohio', 'Nevada', 'Nevada'],\n",
    "       'year': [2000,2001,2002,2001,2002],\n",
    "       'pop': [1.5, 1.7, 3.6, 2.4, 2.9]}\n",
    "frame = DataFrame(data)"
   ]
  },
  {
   "cell_type": "code",
   "execution_count": 66,
   "metadata": {},
   "outputs": [
    {
     "data": {
      "text/html": [
       "<div>\n",
       "<style scoped>\n",
       "    .dataframe tbody tr th:only-of-type {\n",
       "        vertical-align: middle;\n",
       "    }\n",
       "\n",
       "    .dataframe tbody tr th {\n",
       "        vertical-align: top;\n",
       "    }\n",
       "\n",
       "    .dataframe thead th {\n",
       "        text-align: right;\n",
       "    }\n",
       "</style>\n",
       "<table border=\"1\" class=\"dataframe\">\n",
       "  <thead>\n",
       "    <tr style=\"text-align: right;\">\n",
       "      <th></th>\n",
       "      <th>state</th>\n",
       "      <th>year</th>\n",
       "      <th>pop</th>\n",
       "    </tr>\n",
       "  </thead>\n",
       "  <tbody>\n",
       "    <tr>\n",
       "      <th>0</th>\n",
       "      <td>Ohio</td>\n",
       "      <td>2000</td>\n",
       "      <td>1.5</td>\n",
       "    </tr>\n",
       "    <tr>\n",
       "      <th>1</th>\n",
       "      <td>Ohio</td>\n",
       "      <td>2001</td>\n",
       "      <td>1.7</td>\n",
       "    </tr>\n",
       "    <tr>\n",
       "      <th>2</th>\n",
       "      <td>Ohio</td>\n",
       "      <td>2002</td>\n",
       "      <td>3.6</td>\n",
       "    </tr>\n",
       "    <tr>\n",
       "      <th>3</th>\n",
       "      <td>Nevada</td>\n",
       "      <td>2001</td>\n",
       "      <td>2.4</td>\n",
       "    </tr>\n",
       "    <tr>\n",
       "      <th>4</th>\n",
       "      <td>Nevada</td>\n",
       "      <td>2002</td>\n",
       "      <td>2.9</td>\n",
       "    </tr>\n",
       "  </tbody>\n",
       "</table>\n",
       "</div>"
      ],
      "text/plain": [
       "    state  year  pop\n",
       "0    Ohio  2000  1.5\n",
       "1    Ohio  2001  1.7\n",
       "2    Ohio  2002  3.6\n",
       "3  Nevada  2001  2.4\n",
       "4  Nevada  2002  2.9"
      ]
     },
     "execution_count": 66,
     "metadata": {},
     "output_type": "execute_result"
    }
   ],
   "source": [
    "frame"
   ]
  },
  {
   "cell_type": "code",
   "execution_count": 69,
   "metadata": {},
   "outputs": [
    {
     "data": {
      "text/html": [
       "<div>\n",
       "<style scoped>\n",
       "    .dataframe tbody tr th:only-of-type {\n",
       "        vertical-align: middle;\n",
       "    }\n",
       "\n",
       "    .dataframe tbody tr th {\n",
       "        vertical-align: top;\n",
       "    }\n",
       "\n",
       "    .dataframe thead th {\n",
       "        text-align: right;\n",
       "    }\n",
       "</style>\n",
       "<table border=\"1\" class=\"dataframe\">\n",
       "  <thead>\n",
       "    <tr style=\"text-align: right;\">\n",
       "      <th></th>\n",
       "      <th>year</th>\n",
       "      <th>state</th>\n",
       "      <th>pop</th>\n",
       "      <th>debt</th>\n",
       "    </tr>\n",
       "  </thead>\n",
       "  <tbody>\n",
       "    <tr>\n",
       "      <th>0</th>\n",
       "      <td>2000</td>\n",
       "      <td>Ohio</td>\n",
       "      <td>1.5</td>\n",
       "      <td>NaN</td>\n",
       "    </tr>\n",
       "    <tr>\n",
       "      <th>1</th>\n",
       "      <td>2001</td>\n",
       "      <td>Ohio</td>\n",
       "      <td>1.7</td>\n",
       "      <td>NaN</td>\n",
       "    </tr>\n",
       "    <tr>\n",
       "      <th>2</th>\n",
       "      <td>2002</td>\n",
       "      <td>Ohio</td>\n",
       "      <td>3.6</td>\n",
       "      <td>NaN</td>\n",
       "    </tr>\n",
       "    <tr>\n",
       "      <th>3</th>\n",
       "      <td>2001</td>\n",
       "      <td>Nevada</td>\n",
       "      <td>2.4</td>\n",
       "      <td>NaN</td>\n",
       "    </tr>\n",
       "    <tr>\n",
       "      <th>4</th>\n",
       "      <td>2002</td>\n",
       "      <td>Nevada</td>\n",
       "      <td>2.9</td>\n",
       "      <td>NaN</td>\n",
       "    </tr>\n",
       "  </tbody>\n",
       "</table>\n",
       "</div>"
      ],
      "text/plain": [
       "   year   state  pop debt\n",
       "0  2000    Ohio  1.5  NaN\n",
       "1  2001    Ohio  1.7  NaN\n",
       "2  2002    Ohio  3.6  NaN\n",
       "3  2001  Nevada  2.4  NaN\n",
       "4  2002  Nevada  2.9  NaN"
      ]
     },
     "execution_count": 69,
     "metadata": {},
     "output_type": "execute_result"
    }
   ],
   "source": [
    "DataFrame(data,columns=['year', 'state', 'pop', 'debt'])"
   ]
  },
  {
   "cell_type": "code",
   "execution_count": 70,
   "metadata": {},
   "outputs": [
    {
     "data": {
      "text/plain": [
       "0      Ohio\n",
       "1      Ohio\n",
       "2      Ohio\n",
       "3    Nevada\n",
       "4    Nevada\n",
       "Name: state, dtype: object"
      ]
     },
     "execution_count": 70,
     "metadata": {},
     "output_type": "execute_result"
    }
   ],
   "source": [
    "frame.state"
   ]
  },
  {
   "cell_type": "code",
   "execution_count": 71,
   "metadata": {},
   "outputs": [
    {
     "name": "stderr",
     "output_type": "stream",
     "text": [
      "/Users/ryo/.pyenv/versions/3.6.4/lib/python3.6/site-packages/ipykernel_launcher.py:1: DeprecationWarning: \n",
      ".ix is deprecated. Please use\n",
      ".loc for label based indexing or\n",
      ".iloc for positional indexing\n",
      "\n",
      "See the documentation here:\n",
      "http://pandas.pydata.org/pandas-docs/stable/indexing.html#ix-indexer-is-deprecated\n",
      "  \"\"\"Entry point for launching an IPython kernel.\n"
     ]
    },
    {
     "data": {
      "text/plain": [
       "state    Nevada\n",
       "year       2001\n",
       "pop         2.4\n",
       "Name: 3, dtype: object"
      ]
     },
     "execution_count": 71,
     "metadata": {},
     "output_type": "execute_result"
    }
   ],
   "source": [
    "frame.ix[3]"
   ]
  },
  {
   "cell_type": "code",
   "execution_count": 72,
   "metadata": {},
   "outputs": [
    {
     "data": {
      "text/plain": [
       "state    Nevada\n",
       "year       2001\n",
       "pop         2.4\n",
       "Name: 3, dtype: object"
      ]
     },
     "execution_count": 72,
     "metadata": {},
     "output_type": "execute_result"
    }
   ],
   "source": [
    "frame.iloc[3]"
   ]
  },
  {
   "cell_type": "code",
   "execution_count": 73,
   "metadata": {},
   "outputs": [],
   "source": [
    "data = DataFrame(np.arange(16).reshape((4,4)),\n",
    "                index=['Ohio','Colorado','Utah','New York'],\n",
    "                columns=['one', 'two', 'three', 'four'])"
   ]
  },
  {
   "cell_type": "code",
   "execution_count": 74,
   "metadata": {},
   "outputs": [
    {
     "data": {
      "text/html": [
       "<div>\n",
       "<style scoped>\n",
       "    .dataframe tbody tr th:only-of-type {\n",
       "        vertical-align: middle;\n",
       "    }\n",
       "\n",
       "    .dataframe tbody tr th {\n",
       "        vertical-align: top;\n",
       "    }\n",
       "\n",
       "    .dataframe thead th {\n",
       "        text-align: right;\n",
       "    }\n",
       "</style>\n",
       "<table border=\"1\" class=\"dataframe\">\n",
       "  <thead>\n",
       "    <tr style=\"text-align: right;\">\n",
       "      <th></th>\n",
       "      <th>one</th>\n",
       "      <th>two</th>\n",
       "      <th>three</th>\n",
       "      <th>four</th>\n",
       "    </tr>\n",
       "  </thead>\n",
       "  <tbody>\n",
       "    <tr>\n",
       "      <th>Ohio</th>\n",
       "      <td>0</td>\n",
       "      <td>1</td>\n",
       "      <td>2</td>\n",
       "      <td>3</td>\n",
       "    </tr>\n",
       "    <tr>\n",
       "      <th>Colorado</th>\n",
       "      <td>4</td>\n",
       "      <td>5</td>\n",
       "      <td>6</td>\n",
       "      <td>7</td>\n",
       "    </tr>\n",
       "    <tr>\n",
       "      <th>Utah</th>\n",
       "      <td>8</td>\n",
       "      <td>9</td>\n",
       "      <td>10</td>\n",
       "      <td>11</td>\n",
       "    </tr>\n",
       "    <tr>\n",
       "      <th>New York</th>\n",
       "      <td>12</td>\n",
       "      <td>13</td>\n",
       "      <td>14</td>\n",
       "      <td>15</td>\n",
       "    </tr>\n",
       "  </tbody>\n",
       "</table>\n",
       "</div>"
      ],
      "text/plain": [
       "          one  two  three  four\n",
       "Ohio        0    1      2     3\n",
       "Colorado    4    5      6     7\n",
       "Utah        8    9     10    11\n",
       "New York   12   13     14    15"
      ]
     },
     "execution_count": 74,
     "metadata": {},
     "output_type": "execute_result"
    }
   ],
   "source": [
    "data"
   ]
  },
  {
   "cell_type": "code",
   "execution_count": 75,
   "metadata": {},
   "outputs": [
    {
     "data": {
      "text/html": [
       "<div>\n",
       "<style scoped>\n",
       "    .dataframe tbody tr th:only-of-type {\n",
       "        vertical-align: middle;\n",
       "    }\n",
       "\n",
       "    .dataframe tbody tr th {\n",
       "        vertical-align: top;\n",
       "    }\n",
       "\n",
       "    .dataframe thead th {\n",
       "        text-align: right;\n",
       "    }\n",
       "</style>\n",
       "<table border=\"1\" class=\"dataframe\">\n",
       "  <thead>\n",
       "    <tr style=\"text-align: right;\">\n",
       "      <th></th>\n",
       "      <th>Ohio</th>\n",
       "      <th>Colorado</th>\n",
       "      <th>Utah</th>\n",
       "      <th>New York</th>\n",
       "    </tr>\n",
       "  </thead>\n",
       "  <tbody>\n",
       "    <tr>\n",
       "      <th>one</th>\n",
       "      <td>0</td>\n",
       "      <td>4</td>\n",
       "      <td>8</td>\n",
       "      <td>12</td>\n",
       "    </tr>\n",
       "    <tr>\n",
       "      <th>two</th>\n",
       "      <td>1</td>\n",
       "      <td>5</td>\n",
       "      <td>9</td>\n",
       "      <td>13</td>\n",
       "    </tr>\n",
       "    <tr>\n",
       "      <th>three</th>\n",
       "      <td>2</td>\n",
       "      <td>6</td>\n",
       "      <td>10</td>\n",
       "      <td>14</td>\n",
       "    </tr>\n",
       "    <tr>\n",
       "      <th>four</th>\n",
       "      <td>3</td>\n",
       "      <td>7</td>\n",
       "      <td>11</td>\n",
       "      <td>15</td>\n",
       "    </tr>\n",
       "  </tbody>\n",
       "</table>\n",
       "</div>"
      ],
      "text/plain": [
       "       Ohio  Colorado  Utah  New York\n",
       "one       0         4     8        12\n",
       "two       1         5     9        13\n",
       "three     2         6    10        14\n",
       "four      3         7    11        15"
      ]
     },
     "execution_count": 75,
     "metadata": {},
     "output_type": "execute_result"
    }
   ],
   "source": [
    "data.T"
   ]
  },
  {
   "cell_type": "code",
   "execution_count": 76,
   "metadata": {},
   "outputs": [
    {
     "data": {
      "text/html": [
       "<div>\n",
       "<style scoped>\n",
       "    .dataframe tbody tr th:only-of-type {\n",
       "        vertical-align: middle;\n",
       "    }\n",
       "\n",
       "    .dataframe tbody tr th {\n",
       "        vertical-align: top;\n",
       "    }\n",
       "\n",
       "    .dataframe thead th {\n",
       "        text-align: right;\n",
       "    }\n",
       "</style>\n",
       "<table border=\"1\" class=\"dataframe\">\n",
       "  <thead>\n",
       "    <tr style=\"text-align: right;\">\n",
       "      <th></th>\n",
       "      <th>one</th>\n",
       "      <th>two</th>\n",
       "      <th>three</th>\n",
       "      <th>four</th>\n",
       "    </tr>\n",
       "  </thead>\n",
       "  <tbody>\n",
       "    <tr>\n",
       "      <th>Ohio</th>\n",
       "      <td>0</td>\n",
       "      <td>1</td>\n",
       "      <td>2</td>\n",
       "      <td>3</td>\n",
       "    </tr>\n",
       "    <tr>\n",
       "      <th>Colorado</th>\n",
       "      <td>4</td>\n",
       "      <td>5</td>\n",
       "      <td>6</td>\n",
       "      <td>7</td>\n",
       "    </tr>\n",
       "    <tr>\n",
       "      <th>Utah</th>\n",
       "      <td>8</td>\n",
       "      <td>9</td>\n",
       "      <td>10</td>\n",
       "      <td>11</td>\n",
       "    </tr>\n",
       "    <tr>\n",
       "      <th>New York</th>\n",
       "      <td>12</td>\n",
       "      <td>13</td>\n",
       "      <td>14</td>\n",
       "      <td>15</td>\n",
       "    </tr>\n",
       "  </tbody>\n",
       "</table>\n",
       "</div>"
      ],
      "text/plain": [
       "          one  two  three  four\n",
       "Ohio        0    1      2     3\n",
       "Colorado    4    5      6     7\n",
       "Utah        8    9     10    11\n",
       "New York   12   13     14    15"
      ]
     },
     "execution_count": 76,
     "metadata": {},
     "output_type": "execute_result"
    }
   ],
   "source": [
    "data"
   ]
  },
  {
   "cell_type": "code",
   "execution_count": 80,
   "metadata": {},
   "outputs": [
    {
     "data": {
      "text/html": [
       "<div>\n",
       "<style scoped>\n",
       "    .dataframe tbody tr th:only-of-type {\n",
       "        vertical-align: middle;\n",
       "    }\n",
       "\n",
       "    .dataframe tbody tr th {\n",
       "        vertical-align: top;\n",
       "    }\n",
       "\n",
       "    .dataframe thead th {\n",
       "        text-align: right;\n",
       "    }\n",
       "</style>\n",
       "<table border=\"1\" class=\"dataframe\">\n",
       "  <thead>\n",
       "    <tr style=\"text-align: right;\">\n",
       "      <th></th>\n",
       "      <th>one</th>\n",
       "      <th>two</th>\n",
       "      <th>three</th>\n",
       "      <th>four</th>\n",
       "    </tr>\n",
       "  </thead>\n",
       "  <tbody>\n",
       "    <tr>\n",
       "      <th>Utah</th>\n",
       "      <td>8</td>\n",
       "      <td>9</td>\n",
       "      <td>10</td>\n",
       "      <td>11</td>\n",
       "    </tr>\n",
       "    <tr>\n",
       "      <th>New York</th>\n",
       "      <td>12</td>\n",
       "      <td>13</td>\n",
       "      <td>14</td>\n",
       "      <td>15</td>\n",
       "    </tr>\n",
       "  </tbody>\n",
       "</table>\n",
       "</div>"
      ],
      "text/plain": [
       "          one  two  three  four\n",
       "Utah        8    9     10    11\n",
       "New York   12   13     14    15"
      ]
     },
     "execution_count": 80,
     "metadata": {},
     "output_type": "execute_result"
    }
   ],
   "source": [
    "data.drop(['Colorado', 'Ohio'], axis=0)"
   ]
  },
  {
   "cell_type": "code",
   "execution_count": 78,
   "metadata": {},
   "outputs": [
    {
     "data": {
      "text/html": [
       "<div>\n",
       "<style scoped>\n",
       "    .dataframe tbody tr th:only-of-type {\n",
       "        vertical-align: middle;\n",
       "    }\n",
       "\n",
       "    .dataframe tbody tr th {\n",
       "        vertical-align: top;\n",
       "    }\n",
       "\n",
       "    .dataframe thead th {\n",
       "        text-align: right;\n",
       "    }\n",
       "</style>\n",
       "<table border=\"1\" class=\"dataframe\">\n",
       "  <thead>\n",
       "    <tr style=\"text-align: right;\">\n",
       "      <th></th>\n",
       "      <th>one</th>\n",
       "      <th>two</th>\n",
       "      <th>three</th>\n",
       "      <th>four</th>\n",
       "    </tr>\n",
       "  </thead>\n",
       "  <tbody>\n",
       "    <tr>\n",
       "      <th>Ohio</th>\n",
       "      <td>0</td>\n",
       "      <td>1</td>\n",
       "      <td>2</td>\n",
       "      <td>3</td>\n",
       "    </tr>\n",
       "    <tr>\n",
       "      <th>Colorado</th>\n",
       "      <td>4</td>\n",
       "      <td>5</td>\n",
       "      <td>6</td>\n",
       "      <td>7</td>\n",
       "    </tr>\n",
       "    <tr>\n",
       "      <th>Utah</th>\n",
       "      <td>8</td>\n",
       "      <td>9</td>\n",
       "      <td>10</td>\n",
       "      <td>11</td>\n",
       "    </tr>\n",
       "    <tr>\n",
       "      <th>New York</th>\n",
       "      <td>12</td>\n",
       "      <td>13</td>\n",
       "      <td>14</td>\n",
       "      <td>15</td>\n",
       "    </tr>\n",
       "  </tbody>\n",
       "</table>\n",
       "</div>"
      ],
      "text/plain": [
       "          one  two  three  four\n",
       "Ohio        0    1      2     3\n",
       "Colorado    4    5      6     7\n",
       "Utah        8    9     10    11\n",
       "New York   12   13     14    15"
      ]
     },
     "execution_count": 78,
     "metadata": {},
     "output_type": "execute_result"
    }
   ],
   "source": [
    "data"
   ]
  },
  {
   "cell_type": "code",
   "execution_count": 81,
   "metadata": {},
   "outputs": [
    {
     "data": {
      "text/html": [
       "<div>\n",
       "<style scoped>\n",
       "    .dataframe tbody tr th:only-of-type {\n",
       "        vertical-align: middle;\n",
       "    }\n",
       "\n",
       "    .dataframe tbody tr th {\n",
       "        vertical-align: top;\n",
       "    }\n",
       "\n",
       "    .dataframe thead th {\n",
       "        text-align: right;\n",
       "    }\n",
       "</style>\n",
       "<table border=\"1\" class=\"dataframe\">\n",
       "  <thead>\n",
       "    <tr style=\"text-align: right;\">\n",
       "      <th></th>\n",
       "      <th>one</th>\n",
       "      <th>three</th>\n",
       "    </tr>\n",
       "  </thead>\n",
       "  <tbody>\n",
       "    <tr>\n",
       "      <th>Ohio</th>\n",
       "      <td>0</td>\n",
       "      <td>2</td>\n",
       "    </tr>\n",
       "    <tr>\n",
       "      <th>Colorado</th>\n",
       "      <td>4</td>\n",
       "      <td>6</td>\n",
       "    </tr>\n",
       "    <tr>\n",
       "      <th>Utah</th>\n",
       "      <td>8</td>\n",
       "      <td>10</td>\n",
       "    </tr>\n",
       "    <tr>\n",
       "      <th>New York</th>\n",
       "      <td>12</td>\n",
       "      <td>14</td>\n",
       "    </tr>\n",
       "  </tbody>\n",
       "</table>\n",
       "</div>"
      ],
      "text/plain": [
       "          one  three\n",
       "Ohio        0      2\n",
       "Colorado    4      6\n",
       "Utah        8     10\n",
       "New York   12     14"
      ]
     },
     "execution_count": 81,
     "metadata": {},
     "output_type": "execute_result"
    }
   ],
   "source": [
    "data.drop(['two', 'four'], axis=1)"
   ]
  },
  {
   "cell_type": "code",
   "execution_count": 82,
   "metadata": {},
   "outputs": [],
   "source": [
    "obj = Series(np.arange(4.), index=['a', 'b', 'c', 'd'])"
   ]
  },
  {
   "cell_type": "code",
   "execution_count": 84,
   "metadata": {},
   "outputs": [
    {
     "data": {
      "text/plain": [
       "b    1.0\n",
       "c    2.0\n",
       "d    3.0\n",
       "dtype: float64"
      ]
     },
     "execution_count": 84,
     "metadata": {},
     "output_type": "execute_result"
    }
   ],
   "source": [
    "obj['b':]"
   ]
  },
  {
   "cell_type": "code",
   "execution_count": 85,
   "metadata": {},
   "outputs": [],
   "source": [
    "obj = Series(range(3))"
   ]
  },
  {
   "cell_type": "code",
   "execution_count": 86,
   "metadata": {},
   "outputs": [
    {
     "data": {
      "text/plain": [
       "0    0\n",
       "1    1\n",
       "2    2\n",
       "dtype: int64"
      ]
     },
     "execution_count": 86,
     "metadata": {},
     "output_type": "execute_result"
    }
   ],
   "source": [
    "obj"
   ]
  },
  {
   "cell_type": "code",
   "execution_count": 87,
   "metadata": {},
   "outputs": [],
   "source": [
    "series2 = Series(range(3), index=['b', 'e', 'f'])"
   ]
  },
  {
   "cell_type": "code",
   "execution_count": 88,
   "metadata": {},
   "outputs": [
    {
     "data": {
      "text/plain": [
       "b    0\n",
       "e    1\n",
       "f    2\n",
       "dtype: int64"
      ]
     },
     "execution_count": 88,
     "metadata": {},
     "output_type": "execute_result"
    }
   ],
   "source": [
    "series2"
   ]
  },
  {
   "cell_type": "code",
   "execution_count": 89,
   "metadata": {},
   "outputs": [
    {
     "data": {
      "text/plain": [
       "array([[0.84762671],\n",
       "       [0.65903566],\n",
       "       [0.37883117]])"
      ]
     },
     "execution_count": 89,
     "metadata": {},
     "output_type": "execute_result"
    }
   ],
   "source": [
    "np.random.random((3,1))"
   ]
  },
  {
   "cell_type": "code",
   "execution_count": 110,
   "metadata": {},
   "outputs": [
    {
     "name": "stdout",
     "output_type": "stream",
     "text": [
      "Error:0.4964100319027255\n",
      "Error:0.008584525653247153\n",
      "Error:0.005789459862507806\n",
      "Error:0.004629176776769983\n",
      "Error:0.003958765280273649\n",
      "Error:0.0035101225678616736\n"
     ]
    }
   ],
   "source": [
    "import numpy as np\n",
    "\n",
    "def nonlin(x,deriv=False):\n",
    "\tif(deriv==True):\n",
    "\t    return x*(1-x)\n",
    "\n",
    "\treturn 1/(1+np.exp(-x))\n",
    "    \n",
    "X = np.array([[0,0,1],\n",
    "            [0,1,1],\n",
    "            [1,0,1],\n",
    "            [1,1,1]])\n",
    "                \n",
    "y = np.array([[0],\n",
    "\t\t\t[1],\n",
    "\t\t\t[1],\n",
    "\t\t\t[0]])\n",
    "\n",
    "np.random.seed(1)\n",
    "\n",
    "# randomly initialize our weights with mean 0\n",
    "syn0 = 2*np.random.random((3,4)) - 1\n",
    "syn1 = 2*np.random.random((4,1)) - 1\n",
    "\n",
    "for j in range(60000):\n",
    "\n",
    "\t# Feed forward through layers 0, 1, and 2\n",
    "    l0 = X\n",
    "    l1 = nonlin(np.dot(l0,syn0))\n",
    "    l2 = nonlin(np.dot(l1,syn1))\n",
    "\n",
    "    # how much did we miss the target value?\n",
    "    l2_error = y - l2\n",
    "    \n",
    "    if (j% 10000) == 0:\n",
    "        print (\"Error:\" + str(np.mean(np.abs(l2_error))))\n",
    "        \n",
    "    # in what direction is the target value?\n",
    "    # were we really sure? if so, don't change too much.\n",
    "    l2_delta = l2_error*nonlin(l2,deriv=True)\n",
    "\n",
    "    # how much did each l1 value contribute to the l2 error (according to the weights)?\n",
    "    l1_error = l2_delta.dot(syn1.T)\n",
    "    \n",
    "    # in what direction is the target l1?\n",
    "    # were we really sure? if so, don't change too much.\n",
    "    l1_delta = l1_error * nonlin(l1,deriv=True)\n",
    "\n",
    "    syn1 += l1.T.dot(l2_delta)\n",
    "    syn0 += l0.T.dot(l1_delta)\n",
    "\n",
    "  #  print (l1)"
   ]
  },
  {
   "cell_type": "code",
   "execution_count": 111,
   "metadata": {},
   "outputs": [
    {
     "name": "stdout",
     "output_type": "stream",
     "text": [
      "Error:0.4964100319027255\n",
      "Error:0.008584525653247153\n",
      "Error:0.005789459862507806\n",
      "Error:0.004629176776769983\n",
      "Error:0.003958765280273649\n",
      "Error:0.0035101225678616736\n"
     ]
    }
   ],
   "source": [
    "import numpy as np\n",
    "\n",
    "def nonlin(x,deriv=False):\n",
    "\tif(deriv==True):\n",
    "\t    return x*(1-x)\n",
    "\n",
    "\treturn 1/(1+np.exp(-x))\n",
    "    \n",
    "X = np.array([[0,0,1],\n",
    "            [0,1,1],\n",
    "            [1,0,1],\n",
    "            [1,1,1]])\n",
    "                \n",
    "y = np.array([[0],\n",
    "\t\t\t[1],\n",
    "\t\t\t[1],\n",
    "\t\t\t[0]])\n",
    "\n",
    "np.random.seed(1)\n",
    "\n",
    "# randomly initialize our weights with mean 0\n",
    "syn0 = 2*np.random.random((3,4)) - 1\n",
    "syn1 = 2*np.random.random((4,1)) - 1\n",
    "\n",
    "for j in range(60000):\n",
    "\n",
    "\t# Feed forward through layers 0, 1, and 2\n",
    "    l0 = X\n",
    "    l1 = nonlin(np.dot(l0,syn0))\n",
    "    l2 = nonlin(np.dot(l1,syn1))\n",
    "\n",
    "    # how much did we miss the target value?\n",
    "    l2_error = y - l2\n",
    "    \n",
    "    if (j% 10000) == 0:\n",
    "        print (\"Error:\" + str(np.mean(np.abs(l2_error))))\n",
    "        \n",
    "    # in what direction is the target value?\n",
    "    # were we really sure? if so, don't change too much.\n",
    "    l2_delta = l2_error*nonlin(l2,deriv=True)\n",
    "\n",
    "    # how much did each l1 value contribute to the l2 error (according to the weights)?\n",
    "    l1_error = l2_delta.dot(syn1.T)\n",
    "    \n",
    "    # in what direction is the target l1?\n",
    "    # were we really sure? if so, don't change too much.\n",
    "    l1_delta = l1_error * nonlin(l1,deriv=True)\n",
    "\n",
    "    syn1 += l1.T.dot(l2_delta)\n",
    "    syn0 += l0.T.dot(l1_delta)\n",
    "\n",
    "  #  print (l1)"
   ]
  },
  {
   "cell_type": "code",
   "execution_count": 116,
   "metadata": {},
   "outputs": [
    {
     "name": "stdout",
     "output_type": "stream",
     "text": [
      "Error:0.4964100319027255\n",
      "Error:0.008584525653247153\n",
      "Error:0.005789459862507806\n",
      "Error:0.004629176776769983\n",
      "Error:0.003958765280273649\n",
      "Error:0.0035101225678616736\n",
      "[[0.00260572]\n",
      " [0.99672209]\n",
      " [0.99701711]\n",
      " [0.00386759]]\n"
     ]
    }
   ],
   "source": [
    "import numpy as np\n",
    "\n",
    "def nonlin(x,deriv=False):\n",
    "\tif(deriv==True):\n",
    "\t    return x*(1-x)\n",
    "\n",
    "\treturn 1/(1+np.exp(-x))\n",
    "    \n",
    "X = np.array([[0,0,1],\n",
    "            [0,1,1],\n",
    "            [1,0,1],\n",
    "            [1,1,1]])\n",
    "                \n",
    "y = np.array([[0],\n",
    "\t\t\t[1],\n",
    "\t\t\t[1],\n",
    "\t\t\t[0]])\n",
    "\n",
    "np.random.seed(1)\n",
    "\n",
    "# randomly initialize our weights with mean 0\n",
    "syn0 = 2*np.random.random((3,4)) - 1\n",
    "syn1 = 2*np.random.random((4,1)) - 1\n",
    "\n",
    "for j in range(60000):\n",
    "\n",
    "\t# Feed forward through layers 0, 1, and 2\n",
    "    l0 = X\n",
    "    l1 = nonlin(np.dot(l0,syn0))\n",
    "    l2 = nonlin(np.dot(l1,syn1))\n",
    "\n",
    "    # how much did we miss the target value?\n",
    "    l2_error = y - l2\n",
    "    \n",
    "    if (j% 10000) == 0:\n",
    "        print (\"Error:\" + str(np.mean(np.abs(l2_error))))\n",
    "        \n",
    "    # in what direction is the target value?\n",
    "    # were we really sure? if so, don't change too much.\n",
    "    l2_delta = l2_error*nonlin(l2,deriv=True)\n",
    "\n",
    "    # how much did each l1 value contribute to the l2 error (according to the weights)?\n",
    "    l1_error = l2_delta.dot(syn1.T)\n",
    "    \n",
    "    # in what direction is the target l1?\n",
    "    # were we really sure? if so, don't change too much.\n",
    "    l1_delta = l1_error * nonlin(l1,deriv=True)\n",
    "\n",
    "    syn1 += l1.T.dot(l2_delta)\n",
    "    syn0 += l0.T.dot(l1_delta)\n",
    "\n",
    "print (l2)"
   ]
  },
  {
   "cell_type": "code",
   "execution_count": 117,
   "metadata": {},
   "outputs": [],
   "source": [
    "syn1 = 2*np.random.random((4,1)) - 1"
   ]
  },
  {
   "cell_type": "code",
   "execution_count": 118,
   "metadata": {},
   "outputs": [
    {
     "data": {
      "text/plain": [
       "array([[-0.1653904 ],\n",
       "       [ 0.11737966],\n",
       "       [-0.71922612],\n",
       "       [-0.60379702]])"
      ]
     },
     "execution_count": 118,
     "metadata": {},
     "output_type": "execute_result"
    }
   ],
   "source": [
    "syn1"
   ]
  },
  {
   "cell_type": "code",
   "execution_count": 119,
   "metadata": {},
   "outputs": [
    {
     "data": {
      "text/plain": [
       "array([[7.26191199e-01, 1.16411907e-01, 9.26183940e-01, 9.97110310e-01],\n",
       "       [1.66762801e-01, 3.92990161e-04, 1.66519465e-02, 8.96576847e-01],\n",
       "       [9.96229372e-01, 8.95211165e-01, 2.23120442e-02, 8.38385421e-01],\n",
       "       [9.52239003e-01, 2.48589483e-02, 3.07990327e-05, 1.15301801e-01]])"
      ]
     },
     "execution_count": 119,
     "metadata": {},
     "output_type": "execute_result"
    }
   ],
   "source": [
    "l1"
   ]
  },
  {
   "cell_type": "code",
   "execution_count": 120,
   "metadata": {},
   "outputs": [
    {
     "data": {
      "text/plain": [
       "array([[0, 0, 1],\n",
       "       [0, 1, 1],\n",
       "       [1, 0, 1],\n",
       "       [1, 1, 1]])"
      ]
     },
     "execution_count": 120,
     "metadata": {},
     "output_type": "execute_result"
    }
   ],
   "source": [
    "X"
   ]
  },
  {
   "cell_type": "code",
   "execution_count": 121,
   "metadata": {},
   "outputs": [
    {
     "data": {
      "text/plain": [
       "array([[0, 0, 1],\n",
       "       [0, 1, 1],\n",
       "       [1, 0, 1],\n",
       "       [1, 1, 1]])"
      ]
     },
     "execution_count": 121,
     "metadata": {},
     "output_type": "execute_result"
    }
   ],
   "source": [
    "l0"
   ]
  },
  {
   "cell_type": "code",
   "execution_count": 122,
   "metadata": {},
   "outputs": [
    {
     "data": {
      "text/plain": [
       "array([[ 4.6013571 ,  4.17197193, -6.30956245, -4.19745118],\n",
       "       [-2.58413484, -5.81447929, -6.60793435, -3.68396123],\n",
       "       [ 0.97538679, -2.02685775,  2.52949751,  5.84371739]])"
      ]
     },
     "execution_count": 122,
     "metadata": {},
     "output_type": "execute_result"
    }
   ],
   "source": [
    "syn0"
   ]
  },
  {
   "cell_type": "code",
   "execution_count": 123,
   "metadata": {},
   "outputs": [
    {
     "data": {
      "text/plain": [
       "array([[  0.97538679,  -2.02685775,   2.52949751,   5.84371739],\n",
       "       [ -1.60874805,  -7.84133705,  -4.07843684,   2.15975616],\n",
       "       [  5.57674389,   2.14511418,  -3.78006494,   1.64626622],\n",
       "       [  2.99260905,  -3.66936512, -10.3879993 ,  -2.03769501]])"
      ]
     },
     "execution_count": 123,
     "metadata": {},
     "output_type": "execute_result"
    }
   ],
   "source": [
    "np.dot(l0, syn0)"
   ]
  },
  {
   "cell_type": "code",
   "execution_count": 124,
   "metadata": {},
   "outputs": [
    {
     "data": {
      "text/plain": [
       "array([[0.00260572],\n",
       "       [0.99672209],\n",
       "       [0.99701711],\n",
       "       [0.00386759]])"
      ]
     },
     "execution_count": 124,
     "metadata": {},
     "output_type": "execute_result"
    }
   ],
   "source": [
    "l2"
   ]
  },
  {
   "cell_type": "code",
   "execution_count": null,
   "metadata": {},
   "outputs": [],
   "source": []
  }
 ],
 "metadata": {
  "kernelspec": {
   "display_name": "Python 3",
   "language": "python",
   "name": "python3"
  },
  "language_info": {
   "codemirror_mode": {
    "name": "ipython",
    "version": 3
   },
   "file_extension": ".py",
   "mimetype": "text/x-python",
   "name": "python",
   "nbconvert_exporter": "python",
   "pygments_lexer": "ipython3",
   "version": "3.6.4"
  }
 },
 "nbformat": 4,
 "nbformat_minor": 2
}
