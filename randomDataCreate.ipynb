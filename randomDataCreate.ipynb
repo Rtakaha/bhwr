{
 "cells": [
  {
   "cell_type": "code",
   "execution_count": 1,
   "metadata": {},
   "outputs": [],
   "source": [
    "import numpy as np"
   ]
  },
  {
   "cell_type": "code",
   "execution_count": 2,
   "metadata": {},
   "outputs": [],
   "source": [
    "a = []"
   ]
  },
  {
   "cell_type": "code",
   "execution_count": 3,
   "metadata": {},
   "outputs": [],
   "source": [
    "# # 1 million for training, 0.2 million for develop, 0.1 million for test\n",
    "# for x in range(1300000):\n",
    "#     ink = np.random.randint(1, 1000, (3, 5))  # from 1 to 1000, たて3 横5の行列\n",
    "#     ink = ink.tolist()\n",
    "#     a.append(ink)"
   ]
  },
  {
   "cell_type": "code",
   "execution_count": 4,
   "metadata": {},
   "outputs": [],
   "source": [
    "# a[0]"
   ]
  },
  {
   "cell_type": "code",
   "execution_count": 5,
   "metadata": {},
   "outputs": [],
   "source": [
    "import pickle"
   ]
  },
  {
   "cell_type": "code",
   "execution_count": 6,
   "metadata": {},
   "outputs": [],
   "source": [
    "# will do it on the pc in the lab\n",
    "\n",
    "# import pickle\n",
    "# for x in range(1000000):\n",
    "#     with open(\"inks/train/ink\"+str(x)+\".txt\", \"wb\") as fp:   #Pickling\n",
    "#         pickle.dump(a[x], fp)\n",
    "\n",
    "# for x in range(200000):\n",
    "#     with open(\"inks/develop/ink\"+str(x+1000000)+\".txt\", \"wb\") as fp:   #Pickling\n",
    "#         pickle.dump(a[x], fp)\n",
    "        \n",
    "# for x in range(100000):\n",
    "#     with open(\"inks/test/ink\"+str(x+1200000)+\".txt\", \"wb\") as fp:   #Pickling\n",
    "#         pickle.dump(a[x], fp)"
   ]
  },
  {
   "cell_type": "code",
   "execution_count": 7,
   "metadata": {},
   "outputs": [],
   "source": [
    "# f = open(\"./inks/ink1.txt\",\"rb\")\n",
    "# list = pickle.load(f)\n",
    "# f.close()"
   ]
  },
  {
   "cell_type": "code",
   "execution_count": 8,
   "metadata": {},
   "outputs": [],
   "source": [
    "import random"
   ]
  },
  {
   "cell_type": "code",
   "execution_count": 9,
   "metadata": {},
   "outputs": [],
   "source": [
    "def random_line(afile):\n",
    "    line = next(afile)\n",
    "    for num, aline in enumerate(afile):\n",
    "      if random.randrange(num + 2): continue\n",
    "      line = aline\n",
    "    return line"
   ]
  },
  {
   "cell_type": "code",
   "execution_count": 10,
   "metadata": {},
   "outputs": [],
   "source": [
    "labelData = []"
   ]
  },
  {
   "cell_type": "code",
   "execution_count": 11,
   "metadata": {},
   "outputs": [],
   "source": [
    "# for x in range(1000):\n",
    "#     f = open('words.txt', 'r')\n",
    "#     label = random_line(f).strip()\n",
    "#     labelData.append(label)"
   ]
  },
  {
   "cell_type": "code",
   "execution_count": 12,
   "metadata": {},
   "outputs": [],
   "source": [
    "# with open(\"labels/labelData.txt\", \"wb\") as fp:   #Pickling\n",
    "#     pickle.dump(labelData, fp)"
   ]
  },
  {
   "cell_type": "code",
   "execution_count": 13,
   "metadata": {},
   "outputs": [],
   "source": [
    "# f.close()"
   ]
  },
  {
   "cell_type": "code",
   "execution_count": 14,
   "metadata": {},
   "outputs": [],
   "source": [
    "trainLabels = []\n",
    "developLabels = []\n",
    "testLabels = []"
   ]
  },
  {
   "cell_type": "code",
   "execution_count": 15,
   "metadata": {},
   "outputs": [],
   "source": [
    "# f = open(\"./labels/labelData.txt\",\"rb\")\n",
    "# labels = pickle.load(f)\n",
    "# f.close()"
   ]
  },
  {
   "cell_type": "code",
   "execution_count": 17,
   "metadata": {},
   "outputs": [],
   "source": [
    "# labels[0]"
   ]
  },
  {
   "cell_type": "code",
   "execution_count": 18,
   "metadata": {},
   "outputs": [],
   "source": [
    "# for x in range(1000):\n",
    "#     for y in range(1000):\n",
    "#         trainLabels.append(labels[x])\n",
    "#         y+=1"
   ]
  },
  {
   "cell_type": "code",
   "execution_count": 20,
   "metadata": {
    "scrolled": true
   },
   "outputs": [],
   "source": [
    "# trainLabels[999]"
   ]
  },
  {
   "cell_type": "code",
   "execution_count": 21,
   "metadata": {},
   "outputs": [],
   "source": [
    "# for x in range(1000):\n",
    "#     for y in range(200):\n",
    "#         developLabels.append(labels[x])\n",
    "#         y+=1\n",
    "\n",
    "# for x in range(1000):\n",
    "#     for y in range(100):\n",
    "#         testLabels.append(labels[x])\n",
    "#         y+=1"
   ]
  },
  {
   "cell_type": "code",
   "execution_count": 22,
   "metadata": {},
   "outputs": [],
   "source": [
    "# with open(\"labels/trainLabels.txt\", \"wb\") as fp:   #Pickling\n",
    "#     pickle.dump(trainLabels, fp)\n",
    "    \n",
    "# with open(\"labels/developLabels.txt\", \"wb\") as fp:   #Pickling\n",
    "#     pickle.dump(developLabels, fp)\n",
    "    \n",
    "# with open(\"labels/testLabels.txt\", \"wb\") as fp:   #Pickling\n",
    "#     pickle.dump(testLabels, fp)"
   ]
  },
  {
   "cell_type": "code",
   "execution_count": 23,
   "metadata": {},
   "outputs": [],
   "source": [
    "f = open(\"./labels/trainLabels.txt\",\"rb\")\n",
    "test = pickle.load(f)\n",
    "f.close()"
   ]
  },
  {
   "cell_type": "code",
   "execution_count": 24,
   "metadata": {},
   "outputs": [
    {
     "data": {
      "text/plain": [
       "'charwomen'"
      ]
     },
     "execution_count": 24,
     "metadata": {},
     "output_type": "execute_result"
    }
   ],
   "source": [
    "test[100]"
   ]
  },
  {
   "cell_type": "code",
   "execution_count": 28,
   "metadata": {},
   "outputs": [
    {
     "data": {
      "text/plain": [
       "'heeding'"
      ]
     },
     "execution_count": 28,
     "metadata": {},
     "output_type": "execute_result"
    }
   ],
   "source": [
    "test[1000]"
   ]
  },
  {
   "cell_type": "code",
   "execution_count": null,
   "metadata": {},
   "outputs": [],
   "source": []
  }
 ],
 "metadata": {
  "kernelspec": {
   "display_name": "Python 3",
   "language": "python",
   "name": "python3"
  },
  "language_info": {
   "codemirror_mode": {
    "name": "ipython",
    "version": 3
   },
   "file_extension": ".py",
   "mimetype": "text/x-python",
   "name": "python",
   "nbconvert_exporter": "python",
   "pygments_lexer": "ipython3",
   "version": "3.6.4"
  }
 },
 "nbformat": 4,
 "nbformat_minor": 2
}
